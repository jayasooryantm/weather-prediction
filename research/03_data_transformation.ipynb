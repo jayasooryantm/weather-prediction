{
 "cells": [
  {
   "cell_type": "code",
   "execution_count": 2,
   "id": "ce3b45cc-d2e5-40cd-b03b-3686ab1cb856",
   "metadata": {},
   "outputs": [],
   "source": [
    "import pandas as pd\n",
    "from pathlib import Path"
   ]
  },
  {
   "cell_type": "code",
   "execution_count": 6,
   "id": "8ea90eb9-cc4c-4a3a-a4d7-c9bfd2b4c665",
   "metadata": {},
   "outputs": [],
   "source": [
    "file_path = Path(\"/Users/jaya/Documents/GitHub/weatherApp/artifacts/data_validation/status.txt\")"
   ]
  },
  {
   "cell_type": "code",
   "execution_count": 16,
   "id": "4aba6ce9-3db0-4611-b4fa-b7801f1e59ee",
   "metadata": {},
   "outputs": [],
   "source": [
    "status = None\n",
    "with open(file_path, 'r') as f:\n",
    "    line = f.read()\n",
    "    status = line.split(\" \")[-1]\n",
    "    status = bool(status)\n"
   ]
  },
  {
   "cell_type": "code",
   "execution_count": 18,
   "id": "9fba33c9-416b-4de0-a0b1-16f0f4e6a929",
   "metadata": {},
   "outputs": [
    {
     "name": "stdout",
     "output_type": "stream",
     "text": [
      "yay\n"
     ]
    }
   ],
   "source": [
    "if status:\n",
    "    print(\"yay\")\n",
    "else:\n",
    "    print(\"Nah\")"
   ]
  },
  {
   "cell_type": "code",
   "execution_count": null,
   "id": "def4a0aa-57ab-442d-a23c-12e78cab0b2a",
   "metadata": {},
   "outputs": [],
   "source": []
  }
 ],
 "metadata": {
  "kernelspec": {
   "display_name": "Python 3 (ipykernel)",
   "language": "python",
   "name": "python3"
  },
  "language_info": {
   "codemirror_mode": {
    "name": "ipython",
    "version": 3
   },
   "file_extension": ".py",
   "mimetype": "text/x-python",
   "name": "python",
   "nbconvert_exporter": "python",
   "pygments_lexer": "ipython3",
   "version": "3.9.6"
  }
 },
 "nbformat": 4,
 "nbformat_minor": 5
}
