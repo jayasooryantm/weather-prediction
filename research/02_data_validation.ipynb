{
 "cells": [
  {
   "cell_type": "code",
   "execution_count": 1,
   "id": "c78e8b3a-fd94-4fe9-bd8e-c36ffa6f1b1c",
   "metadata": {},
   "outputs": [
    {
     "data": {
      "text/plain": [
       "'/Users/jaya/Documents/GitHub/weatherApp/research'"
      ]
     },
     "execution_count": 1,
     "metadata": {},
     "output_type": "execute_result"
    }
   ],
   "source": [
    "%pwd"
   ]
  },
  {
   "cell_type": "code",
   "execution_count": 2,
   "id": "db84d3e9-8f68-48dc-8698-b8dfefefb0e6",
   "metadata": {},
   "outputs": [],
   "source": [
    "from weather_prediction.entity.config_entity import DataValidationConfig\n",
    "from weather_prediction.utils.common import load_json\n",
    "import pandas as pd"
   ]
  },
  {
   "cell_type": "code",
   "execution_count": 3,
   "id": "3f7d7d0a-2d8f-4e07-88d6-66b5bfbba0de",
   "metadata": {},
   "outputs": [],
   "source": [
    "class DataValidation:\n",
    "    def __int__(self, config: DataValidationConfig):\n",
    "        self.config = config\n",
    "\n",
    "    def json_to_dataframe(self):\n",
    "        \"\"\"\n",
    "            Converts the JSON data into a pandas dataframe.\n",
    "\n",
    "            :arg:\n",
    "                data (JSON): JSON data from the Met Office DataPoint API\n",
    "            :return:\n",
    "                weather_data (pandas dataframe): dataframe containing the weather data\n",
    "            \"\"\"\n",
    "        print(load_json(self.config.unzip_data_dir))\n"
   ]
  },
  {
   "cell_type": "code",
   "execution_count": null,
   "id": "d761b52d-f70c-4432-924a-7065baf287aa",
   "metadata": {},
   "outputs": [],
   "source": []
  }
 ],
 "metadata": {
  "kernelspec": {
   "display_name": "Python 3 (ipykernel)",
   "language": "python",
   "name": "python3"
  },
  "language_info": {
   "codemirror_mode": {
    "name": "ipython",
    "version": 3
   },
   "file_extension": ".py",
   "mimetype": "text/x-python",
   "name": "python",
   "nbconvert_exporter": "python",
   "pygments_lexer": "ipython3",
   "version": "3.9.6"
  }
 },
 "nbformat": 4,
 "nbformat_minor": 5
}
