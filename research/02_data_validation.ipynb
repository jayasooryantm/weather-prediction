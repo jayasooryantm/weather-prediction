{
 "cells": [
  {
   "cell_type": "code",
   "execution_count": 1,
   "id": "c78e8b3a-fd94-4fe9-bd8e-c36ffa6f1b1c",
   "metadata": {},
   "outputs": [
    {
     "data": {
      "text/plain": [
       "'/Users/jaya/Documents/GitHub/weatherApp/research'"
      ]
     },
     "execution_count": 1,
     "metadata": {},
     "output_type": "execute_result"
    }
   ],
   "source": [
    "%pwd"
   ]
  },
  {
   "cell_type": "code",
   "execution_count": 18,
   "id": "db84d3e9-8f68-48dc-8698-b8dfefefb0e6",
   "metadata": {},
   "outputs": [],
   "source": [
    "column_datatypes = {'Wind Direction(compass)':int, 'Wind Gust(mph)':float, 'Screen Relative Humidity(%)':float, 'Pressure(hpa)':float, 'Wind Speed(mph)':float, 'Temperature(C)':float, 'Visibility(m)':float, 'Weather Type':int, 'Pressure Tendency':int, 'Dew Point(C)':float, 'Minutes Since 12o Clock':int}"
   ]
  },
  {
   "cell_type": "code",
   "execution_count": 71,
   "id": "ecde690c-4252-4fdc-a7ab-4780fc8fa664",
   "metadata": {},
   "outputs": [],
   "source": [
    "column_datatypes = {'Wind Direction(compass)':'int64', 'Wind Gust(mph)':'float64', 'Screen Relative Humidity(%)':'float64', 'Pressure(hpa)':'float64', 'Wind Speed(mph)':'float64', 'Temperature(C)':'float64', 'Visibility(m)':'float64', 'Weather Type':'int64', 'Pressure Tendency':'int64', 'Dew Point(C)':'float64', 'Minutes Since 12o Clock':'int64'}"
   ]
  },
  {
   "cell_type": "code",
   "execution_count": 20,
   "id": "3f7d7d0a-2d8f-4e07-88d6-66b5bfbba0de",
   "metadata": {},
   "outputs": [
    {
     "data": {
      "text/plain": [
       "False"
      ]
     },
     "execution_count": 20,
     "metadata": {},
     "output_type": "execute_result"
    }
   ],
   "source": [
    "sorted(list(column_datatypes)) == sorted(list(column_datatypes2))"
   ]
  },
  {
   "cell_type": "code",
   "execution_count": 14,
   "id": "d761b52d-f70c-4432-924a-7065baf287aa",
   "metadata": {},
   "outputs": [
    {
     "data": {
      "text/plain": [
       "['Wind Direction(compass)',\n",
       " 'Wind Gust(mph)',\n",
       " 'Screen Relative Humidity(%)',\n",
       " 'Pressure(hpa)',\n",
       " 'Wind Speed(mph)',\n",
       " 'Temperature(C)',\n",
       " 'Visibility(m)',\n",
       " 'Weather Type',\n",
       " 'Pressure Tendency',\n",
       " 'Dew Point(C)',\n",
       " 'Minutes Since 12o Clock']"
      ]
     },
     "execution_count": 14,
     "metadata": {},
     "output_type": "execute_result"
    }
   ],
   "source": [
    "list(column_datatypes.keys())"
   ]
  },
  {
   "cell_type": "code",
   "execution_count": 21,
   "id": "3b331e8d-af24-4559-8bb1-941009b9d696",
   "metadata": {},
   "outputs": [],
   "source": [
    "import pandas as pd"
   ]
  },
  {
   "cell_type": "code",
   "execution_count": 23,
   "id": "888a6af2-9ef1-47af-9733-4cb0a0184a95",
   "metadata": {},
   "outputs": [],
   "source": [
    "data = pd.read_csv(\"/Users/jaya/Documents/GitHub/weatherApp/artifacts/data_validation/weather_data.csv\")"
   ]
  },
  {
   "cell_type": "code",
   "execution_count": 27,
   "id": "f4a18b5b-3ec4-4841-aa94-754c3f0f600d",
   "metadata": {},
   "outputs": [],
   "source": [
    "data.drop([\"Unnamed: 0\"],axis=1, inplace=True)"
   ]
  },
  {
   "cell_type": "code",
   "execution_count": 96,
   "id": "e1772753-50e8-4dc0-9780-4479c491412e",
   "metadata": {},
   "outputs": [
    {
     "name": "stdout",
     "output_type": "stream",
     "text": [
      "<class 'pandas.core.frame.DataFrame'>\n",
      "RangeIndex: 99 entries, 0 to 98\n",
      "Data columns (total 14 columns):\n",
      " #   Column                       Non-Null Count  Dtype  \n",
      "---  ------                       --------------  -----  \n",
      " 0   Wind Direction(compass)      99 non-null     int64  \n",
      " 1   Wind Gust(mph)               99 non-null     float64\n",
      " 2   Screen Relative Humidity(%)  99 non-null     float64\n",
      " 3   Pressure(hpa)                99 non-null     float64\n",
      " 4   Wind Speed(mph)              99 non-null     float64\n",
      " 5   Temperature(C)               99 non-null     float64\n",
      " 6   Visibility(m)                99 non-null     float64\n",
      " 7   Weather Type                 99 non-null     int64  \n",
      " 8   Pressure Tendency            99 non-null     int64  \n",
      " 9   Dew Point(C)                 99 non-null     float64\n",
      " 10  Minutes Since 12o Clock      99 non-null     int64  \n",
      " 11  day                          99 non-null     int64  \n",
      " 12  month                        99 non-null     int64  \n",
      " 13  year                         99 non-null     int64  \n",
      "dtypes: float64(7), int64(7)\n",
      "memory usage: 11.0 KB\n"
     ]
    }
   ],
   "source": [
    "data.info()"
   ]
  },
  {
   "cell_type": "code",
   "execution_count": 92,
   "id": "33849f8d-f3a4-4af1-95d6-55093707ce6a",
   "metadata": {},
   "outputs": [
    {
     "name": "stdout",
     "output_type": "stream",
     "text": [
      "True\n",
      "True\n",
      "True\n",
      "True\n",
      "True\n",
      "True\n",
      "True\n",
      "True\n",
      "True\n",
      "True\n",
      "True\n"
     ]
    }
   ],
   "source": [
    "for column, datatype in column_datatypes.items():\n",
    "    data[column].dtype == datatype"
   ]
  },
  {
   "cell_type": "code",
   "execution_count": 94,
   "id": "14177f45-0d80-4d57-afae-5b9c45cd7b04",
   "metadata": {},
   "outputs": [
    {
     "data": {
      "text/plain": [
       "True"
      ]
     },
     "execution_count": 94,
     "metadata": {},
     "output_type": "execute_result"
    }
   ],
   "source": [
    "data['Wind Direction(compass)'].dtype == int"
   ]
  },
  {
   "cell_type": "code",
   "execution_count": 103,
   "id": "a35b1eb4-2f11-48bf-9a01-58cd9e3f82e4",
   "metadata": {},
   "outputs": [
    {
     "name": "stdout",
     "output_type": "stream",
     "text": [
      "       Dates\n",
      "0 2023-08-15\n",
      "1 2023-08-16\n",
      "2 2023-08-17\n",
      "3 2023-08-18\n",
      "4 2023-08-19\n"
     ]
    }
   ],
   "source": [
    "import pandas as pd\n",
    "\n",
    "# Create a list of datetime values\n",
    "date_values = [\n",
    "    '2023-08-15',\n",
    "    '2023-08-16',\n",
    "    '2023-08-17',\n",
    "    '2023-08-18',\n",
    "    '2023-08-19'\n",
    "]\n",
    "\n",
    "# Convert the list to pandas datetime format\n",
    "date_values = pd.to_datetime(date_values)\n",
    "\n",
    "# Create a DataFrame\n",
    "df = pd.DataFrame({'Dates': date_values})\n",
    "\n",
    "# Print the DataFrame\n",
    "print(df)\n"
   ]
  },
  {
   "cell_type": "code",
   "execution_count": 108,
   "id": "714531bd-820e-46df-bfe7-0a007cfc5531",
   "metadata": {},
   "outputs": [
    {
     "data": {
      "text/plain": [
       "dtype('<M8[ns]')"
      ]
     },
     "execution_count": 108,
     "metadata": {},
     "output_type": "execute_result"
    }
   ],
   "source": [
    "df['Dates'].dtype"
   ]
  },
  {
   "cell_type": "code",
   "execution_count": null,
   "id": "b858911f-e091-4377-a2ae-36ce670e10b1",
   "metadata": {},
   "outputs": [],
   "source": []
  }
 ],
 "metadata": {
  "kernelspec": {
   "display_name": "Python 3 (ipykernel)",
   "language": "python",
   "name": "python3"
  },
  "language_info": {
   "codemirror_mode": {
    "name": "ipython",
    "version": 3
   },
   "file_extension": ".py",
   "mimetype": "text/x-python",
   "name": "python",
   "nbconvert_exporter": "python",
   "pygments_lexer": "ipython3",
   "version": "3.9.6"
  }
 },
 "nbformat": 4,
 "nbformat_minor": 5
}
