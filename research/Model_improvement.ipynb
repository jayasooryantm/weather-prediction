{
 "cells": [
  {
   "cell_type": "code",
   "execution_count": 198,
   "metadata": {},
   "outputs": [],
   "source": [
    "import os\n",
    "import json\n",
    "from pathlib import Path\n",
    "from datetime import datetime\n",
    "\n",
    "import pandas as pd\n",
    "import numpy as np\n",
    "from tqdm import tqdm\n",
    "\n",
    "from torch import nn, optim\n",
    "from torch.utils.data import Dataset, DataLoader\n",
    "import torch\n",
    "\n",
    "from sklearn.preprocessing import MinMaxScaler\n",
    "from sklearn.model_selection import train_test_split\n",
    "from sklearn.metrics import mean_squared_error, mean_absolute_error, r2_score\n",
    "from sklearn.preprocessing import StandardScaler\n"
   ]
  },
  {
   "cell_type": "code",
   "execution_count": 199,
   "metadata": {},
   "outputs": [],
   "source": [
    "def json_to_dataframe() -> pd.DataFrame:\n",
    "        \"\"\"\n",
    "            Converts the JSON data into a pandas dataframe.\n",
    "\n",
    "            :arg:\n",
    "                None\n",
    "            :return:\n",
    "                weather_data (pandas dataframe): dataframe containing the weather data\n",
    "            \"\"\"\n",
    "\n",
    "        folder_path = \"/Users/jaya/Downloads/Git/Github/weather-prediction/artifacts/data_ingestion/data\"\n",
    "        file_names = os.listdir(folder_path)\n",
    "        \n",
    "        json_filepaths = [os.path.join(folder_path, name) for name in file_names if os.path.isfile(os.path.join(folder_path, name))]\n",
    "        weather_data = None\n",
    "        for filepath in json_filepaths:\n",
    "            json_file = json.load(Path(filepath).open())\n",
    "            for day in json_file['SiteRep']['DV']['Location']['Period']:\n",
    "                df = pd.DataFrame(day['Rep'])\n",
    "                df['date'] = day['value']\n",
    "                weather_data = pd.concat([weather_data, df], ignore_index=True)\n",
    "        return weather_data\n"
   ]
  },
  {
   "cell_type": "code",
   "execution_count": 200,
   "metadata": {},
   "outputs": [],
   "source": [
    "data_headers = {\n",
    "\"D\": \"Wind Direction(compass)\",\n",
    "\"G\": \"Wind Gust(mph)\",\n",
    "\"H\": \"Screen Relative Humidity(%)\",\n",
    "\"P\": \"Pressure(hpa)\",\n",
    "\"S\": \"Wind Speed(mph)\",\n",
    "\"T\": \"Temperature(C)\",\n",
    "\"V\": \"Visibility(m)\",\n",
    "\"W\": \"Weather Type\",\n",
    "\"Pt\": \"Pressure Tendency\",\n",
    "\"Dp\": \"Dew Point(C)\",\n",
    "\"$\": \"Minutes Since 12o Clock\" }\n",
    "\n",
    "compass_directions_map = {\n",
    "\"N\": 1,\n",
    "\"NNE\": 2,\n",
    "\"NE\": 3,\n",
    "\"ENE\": 4,\n",
    "\"E\": 5,\n",
    "\"ESE\": 6,\n",
    "\"SE\": 7,\n",
    "\"SSE\": 8,\n",
    "\"S\": 9,\n",
    "\"SSW\": 10,\n",
    "\"SW\": 11,\n",
    "\"WSW\": 12,\n",
    "\"W\": 13,\n",
    "\"WNW\": 14,\n",
    "\"NW\": 15,\n",
    "\"NNW\": 16 }\n",
    "\n",
    "Pressure_tendency_map = {\"F\": 0, \"R\": 1, \"S\": 2}\n",
    "\n",
    "column_datatypes = {\n",
    "\"Wind Direction(compass)\": int,\n",
    "\"Wind Gust(mph)\": float,\n",
    "\"Screen Relative Humidity(%)\": float,\n",
    "\"Pressure(hpa)\": float,\n",
    "\"Wind Speed(mph)\": float,\n",
    "\"Temperature(C)\": float,\n",
    "\"Visibility(m)\": float,\n",
    "\"Weather Type\": int,\n",
    "\"Pressure Tendency\": int,\n",
    "\"Dew Point(C)\": float,\n",
    "\"Minutes Since 12o Clock\": int,\n",
    "\"date\": \"datetime64[ns]\" }\n",
    "\n",
    "def clean_dataframe(weather_data: pd.DataFrame):\n",
    "    weather_data.rename(columns=data_headers, inplace=True)\n",
    "    weather_data.dropna(how='any', inplace=True)\n",
    "    weather_data['Wind Direction(compass)'] = weather_data['Wind Direction(compass)'].map(compass_directions_map)\n",
    "    weather_data['Pressure Tendency'] = weather_data['Pressure Tendency'].map(Pressure_tendency_map)\n",
    "    weather_data['date'] = weather_data['date'].str.replace('Z','')\n",
    "    weather_data = weather_data.astype(column_datatypes)\n",
    "    weather_data['date'] = pd.to_datetime(weather_data['date'], format='%Y-%m-%d')\n",
    "    return weather_data\n",
    "\n",
    "def validate_data_columns(weather_data: pd.DataFrame) -> bool:\n",
    "    try:\n",
    "        validation_status = None\n",
    "        data = weather_data\n",
    "        all_columns = list(data.columns)\n",
    "        schema_columns = list(column_datatypes.keys())\n",
    "        if not sorted(all_columns) == sorted(schema_columns):\n",
    "            validation_status = False\n",
    "        else:\n",
    "            validation_status = True\n",
    "            for column, datatype in column_datatypes.items():\n",
    "                if not data[column].dtype == datatype:\n",
    "                    validation_status = False\n",
    "        return validation_status\n",
    "    except Exception as e:\n",
    "        raise e\n"
   ]
  },
  {
   "cell_type": "code",
   "execution_count": 201,
   "metadata": {},
   "outputs": [],
   "source": [
    "target_variables = ['Wind Direction(compass)', 'Pressure(hpa)', 'Wind Speed(mph)', 'Temperature(C)', 'Visibility(m)', 'Weather Type']\n",
    "target_column_names = ['Wind Direction(compass) (t+1)', 'Pressure(hpa) (t+1)', 'Wind Speed(mph) (t+1)', 'Temperature(C) (t+1)', 'Visibility(m) (t+1)', 'Weather Type (t+1)']\n",
    "\n",
    "def transform_date_feature(weather_data) -> pd.DataFrame:\n",
    "    weather_data['day'] = weather_data['date'].dt.day\n",
    "    weather_data['month'] = weather_data['date'].dt.month\n",
    "    weather_data['year'] = weather_data['date'].dt.year\n",
    "    weather_data.drop('date', axis=1, inplace=True)\n",
    "    return weather_data\n",
    "\n",
    "def make_target_features(weather_data) -> pd.DataFrame:\n",
    "    weather_data.sort_values(by=['year', 'month', 'day', 'Minutes Since 12o Clock'], kind='mergesort', inplace=True)\n",
    "    target = weather_data[target_variables].shift(-1)\n",
    "    target.columns = target_column_names\n",
    "    target = pd.concat([weather_data, target], axis=1)\n",
    "    target.dropna(inplace=True)\n",
    "    return target\n",
    "\n",
    "# def split_data(self, x, y):\n",
    "#     X_train, y_train, X_test, y_test = train_test_split(x, y, test_size=0.2, random_state=42)\n",
    "#     return X_train, y_train, X_test, y_test\n",
    "\n",
    "# def min_max_scaler(x:pd.DataFrame) -> (pd.DataFrame, MinMaxScaler):\n",
    "#     scaler = MinMaxScaler()\n",
    "\n",
    "#     scaled_x = scaler.fit_transform(x)\n",
    "#     return pd.DataFrame(scaled_x, columns=x.columns), scaler\n",
    "\n",
    "# def invert_min_max_scaler(x:pd.DataFrame, scaler: MinMaxScaler) -> pd.DataFrame:\n",
    "#     original_data = scaler.inverse_transform(x)\n",
    "\n",
    "#     return pd.DataFrame(original_data, x.columns)\n"
   ]
  },
  {
   "cell_type": "code",
   "execution_count": 202,
   "metadata": {},
   "outputs": [],
   "source": [
    "parameters = {\n",
    "  \"input_dim\": 14,\n",
    "  \"output_dim\": 1,\n",
    "  \"hidden_dim\": 20,\n",
    "  \"learning_rate\": 0.02,\n",
    "  \"batch_size\": 100,\n",
    "  \"num_batches\": 1,\n",
    "  \"num_epochs\": 100\n",
    "}\n",
    "\n",
    "class WeatherModel(nn.Module):\n",
    "    def __init__(self, parameters:dict):\n",
    "        input_dim=parameters[\"input_dim\"]\n",
    "        output_dim=parameters[\"output_dim\"]\n",
    "        hidden_dim=parameters[\"hidden_dim\"]\n",
    "\n",
    "        super(WeatherModel, self).__init__()\n",
    "\n",
    "        # Shared hidden layers\n",
    "        self.shared_layer = nn.Sequential(\n",
    "            nn.Linear(input_dim, hidden_dim),\n",
    "            nn.ReLU(),\n",
    "            nn.Linear(hidden_dim, hidden_dim),\n",
    "            nn.ReLU()\n",
    "        )\n",
    "\n",
    "        # Output layers for each output\n",
    "        self.temperature_layer = nn.Linear(hidden_dim, output_dim)\n",
    "        self.visibility_layer = nn.Linear(hidden_dim, output_dim)\n",
    "        self.wind_direction_layer = nn.Linear(hidden_dim, output_dim)\n",
    "        self.wind_speed_layer = nn.Linear(hidden_dim, output_dim)\n",
    "        self.weather_type_layer = nn.Linear(hidden_dim, output_dim)\n",
    "        self.pressure_layer = nn.Linear(hidden_dim, output_dim)\n",
    "\n",
    "    def forward(self, input):\n",
    "        # Pass through shared hidden layer\n",
    "        shared_output = self.shared_layer(input)\n",
    "\n",
    "        # Separate output predictions\n",
    "        temperature = self.temperature_layer(shared_output)\n",
    "        visibility = self.visibility_layer(shared_output)\n",
    "        wind_direction = self.wind_direction_layer(shared_output)\n",
    "        wind_speed = self.wind_speed_layer(shared_output)\n",
    "        weather_type = self.weather_type_layer(shared_output)\n",
    "        pressure = self.pressure_layer(shared_output)\n",
    "\n",
    "        return wind_direction, pressure, wind_speed, temperature, visibility, weather_type\n"
   ]
  },
  {
   "cell_type": "code",
   "execution_count": 203,
   "metadata": {},
   "outputs": [],
   "source": [
    "class WeatherDataLoader(Dataset):\n",
    "    def __init__(self, data:pd.DataFrame, features:list, target:list):\n",
    "        self.X = torch.tensor(data[features].values,\n",
    "                              dtype=torch.float32)\n",
    "        self.y = torch.tensor(data[target].values, dtype=torch.float32)\n",
    "\n",
    "    def __len__(self):\n",
    "        return len(self.X)\n",
    "\n",
    "    def __getitem__(self, idx):\n",
    "        return self.X[idx], self.y[idx]\n"
   ]
  },
  {
   "cell_type": "code",
   "execution_count": 204,
   "metadata": {},
   "outputs": [],
   "source": [
    "feature_columns_names = ['Wind Direction(compass)', 'Wind Gust(mph)', 'Screen Relative Humidity(%)', 'Pressure(hpa)', 'Wind Speed(mph)', 'Temperature(C)', 'Visibility(m)', 'Weather Type', 'Pressure Tendency', 'Dew Point(C)', 'Minutes Since 12o Clock', 'day', 'month', 'year']\n",
    "target_column_names = ['Wind Direction(compass) (t+1)', 'Pressure(hpa) (t+1)', 'Wind Speed(mph) (t+1)', 'Temperature(C) (t+1)', 'Visibility(m) (t+1)', 'Weather Type (t+1)']\n",
    "\n",
    "# Data normalization\n",
    "def normalize_data(df, feature_columns, target_columns):\n",
    "    scaler = StandardScaler()\n",
    "    df[feature_columns] = scaler.fit_transform(df[feature_columns])\n",
    "    df[target_columns] = scaler.fit_transform(df[target_columns])\n",
    "    return df\n",
    "\n",
    "def train(weather_data:pd.DataFrame):\n",
    "\n",
    "    weather_data = normalize_data(weather_data, feature_columns_names, target_column_names)\n",
    "    \n",
    "    model = WeatherModel(parameters)\n",
    "    weather_data_class = WeatherDataLoader(data=weather_data, features=feature_columns_names, target=target_column_names)\n",
    "    dataloader = DataLoader(weather_data_class, batch_size=parameters[\"batch_size\"], shuffle=True)\n",
    "    criterion = nn.MSELoss()\n",
    "    optimizer = optim.Adam(model.parameters(), lr=parameters[\"learning_rate\"])\n",
    "\n",
    "    for epoch in range(parameters[\"num_epochs\"]):\n",
    "        all_preds = []\n",
    "        all_labels = []\n",
    "        running_loss = 0.0\n",
    "        with tqdm(dataloader, unit=\"batch\") as tepoch:\n",
    "            for idx, (X, y) in enumerate(tepoch):\n",
    "                tepoch.set_description(f\"Epoch {epoch + 1}\")\n",
    "\n",
    "                # Zero the gradients\n",
    "                optimizer.zero_grad()\n",
    "                # Forward pass\n",
    "                wind_direction, pressure, wind_speed, temperature, visibility, weather_type = model(X)\n",
    "\n",
    "                # Compute loss\n",
    "                loss_wind_direction = criterion(wind_direction, y[:, 0].view(-1, 1))\n",
    "                loss_pressure = criterion(pressure, y[:, 1].view(-1, 1))\n",
    "                loss_wind_speed = criterion(wind_speed, y[:, 2].view(-1, 1))\n",
    "                loss_temperature = criterion(temperature, y[:, 3].view(-1, 1))\n",
    "                loss_visibility = criterion(visibility, y[:, 4].view(-1, 1))\n",
    "                loss_weather_type = criterion(weather_type, y[:, 5].view(-1, 1))\n",
    "                # total loss\n",
    "                loss = (loss_wind_direction + loss_pressure + loss_wind_speed + loss_temperature + loss_visibility + loss_weather_type)\n",
    "\n",
    "                # Backpropagation and optimization\n",
    "                loss.backward()\n",
    "                optimizer.step()\n",
    "\n",
    "                running_loss += loss.item()\n",
    "                batch_preds = torch.cat([\n",
    "                    wind_direction.unsqueeze(1), pressure.unsqueeze(1), wind_speed.unsqueeze(1), \n",
    "                    temperature.unsqueeze(1), visibility.unsqueeze(1), weather_type.unsqueeze(1)\n",
    "                ], dim=1)\n",
    "                all_preds.append(batch_preds.detach().cpu().numpy())\n",
    "                all_labels.append(y.detach().cpu().numpy())\n",
    "\n",
    "                tepoch.set_postfix(loss=running_loss / (idx + 1))\n",
    "            \n",
    "        all_preds = np.concatenate(all_preds, axis=0)\n",
    "        all_labels = np.concatenate(all_labels, axis=0)\n",
    "\n",
    "        all_preds = all_preds.reshape(-1, len(target_column_names))\n",
    "        all_labels = all_labels.reshape(-1, len(target_column_names))\n",
    "\n",
    "        mse = mean_squared_error(all_labels, all_preds)\n",
    "        rmse = np.sqrt(mse)\n",
    "        r2 = r2_score(all_labels, all_preds)\n",
    "        mae = mean_absolute_error(all_labels, all_preds)\n",
    "        \n",
    "        # Print metrics for the epoch\n",
    "        print(f'Epoch {epoch + 1}/{parameters[\"num_epochs\"]}, Loss: {running_loss / len(dataloader):.4f}')\n",
    "        print(f'MSE: {mse:.4f}, RMSE: {rmse:.4f}, R²: {r2:.4f}, MAE: {mae:.4f}')\n",
    "\n",
    "                # Print progress\n",
    "                # if idx % 100 == 0:\n",
    "                #     print(f'Epoch [{epoch + 1}/{parameters[\"num_epochs\"]}],'\n",
    "                #             f'Batch [{idx + 1}/{parameters[\"num_batches\"]}],'\n",
    "                #             f'Loss: {loss.item():.4f}')\n"
   ]
  },
  {
   "cell_type": "code",
   "execution_count": 205,
   "metadata": {},
   "outputs": [
    {
     "name": "stdout",
     "output_type": "stream",
     "text": [
      "Process Starting\n",
      "Parsing Data: Working..\n",
      "Parsing Data: Success\n",
      "Cleaning Data: Working..\n",
      "Cleaning Data: Success\n",
      "Validating Data: Working..\n",
      "Validating Data: Success\n",
      "Transforming Data: Working..\n",
      "Transforming Data: Success\n",
      "Target Variable Prep: Working..\n",
      "Target Variable Prep: Success\n",
      "Preparing for Model Training: Working..\n"
     ]
    },
    {
     "name": "stderr",
     "output_type": "stream",
     "text": [
      "Epoch 1: 100%|██████████| 75/75 [00:00<00:00, 430.65batch/s, loss=2.14]\n"
     ]
    },
    {
     "name": "stdout",
     "output_type": "stream",
     "text": [
      "Epoch 1/100, Loss: 2.1399\n",
      "MSE: 0.3571, RMSE: 0.5976, R²: 0.6429, MAE: 0.4144\n"
     ]
    },
    {
     "name": "stderr",
     "output_type": "stream",
     "text": [
      "Epoch 2: 100%|██████████| 75/75 [00:00<00:00, 491.98batch/s, loss=1.46]\n"
     ]
    },
    {
     "name": "stdout",
     "output_type": "stream",
     "text": [
      "Epoch 2/100, Loss: 1.4611\n",
      "MSE: 0.2436, RMSE: 0.4935, R²: 0.7564, MAE: 0.3120\n"
     ]
    },
    {
     "name": "stderr",
     "output_type": "stream",
     "text": [
      "Epoch 3: 100%|██████████| 75/75 [00:00<00:00, 306.66batch/s, loss=1.41]\n"
     ]
    },
    {
     "name": "stdout",
     "output_type": "stream",
     "text": [
      "Epoch 3/100, Loss: 1.4146\n",
      "MSE: 0.2352, RMSE: 0.4850, R²: 0.7648, MAE: 0.3006\n"
     ]
    },
    {
     "name": "stderr",
     "output_type": "stream",
     "text": [
      "Epoch 4: 100%|██████████| 75/75 [00:00<00:00, 510.06batch/s, loss=1.4] \n"
     ]
    },
    {
     "name": "stdout",
     "output_type": "stream",
     "text": [
      "Epoch 4/100, Loss: 1.3976\n",
      "MSE: 0.2331, RMSE: 0.4829, R²: 0.7669, MAE: 0.2995\n"
     ]
    },
    {
     "name": "stderr",
     "output_type": "stream",
     "text": [
      "Epoch 5: 100%|██████████| 75/75 [00:00<00:00, 472.80batch/s, loss=1.4] \n"
     ]
    },
    {
     "name": "stdout",
     "output_type": "stream",
     "text": [
      "Epoch 5/100, Loss: 1.3968\n",
      "MSE: 0.2326, RMSE: 0.4823, R²: 0.7674, MAE: 0.2982\n"
     ]
    },
    {
     "name": "stderr",
     "output_type": "stream",
     "text": [
      "Epoch 6: 100%|██████████| 75/75 [00:00<00:00, 475.36batch/s, loss=1.39]\n"
     ]
    },
    {
     "name": "stdout",
     "output_type": "stream",
     "text": [
      "Epoch 6/100, Loss: 1.3892\n",
      "MSE: 0.2310, RMSE: 0.4806, R²: 0.7690, MAE: 0.2947\n"
     ]
    },
    {
     "name": "stderr",
     "output_type": "stream",
     "text": [
      "Epoch 7: 100%|██████████| 75/75 [00:00<00:00, 536.55batch/s, loss=1.38]\n"
     ]
    },
    {
     "name": "stdout",
     "output_type": "stream",
     "text": [
      "Epoch 7/100, Loss: 1.3806\n",
      "MSE: 0.2295, RMSE: 0.4791, R²: 0.7705, MAE: 0.2947\n"
     ]
    },
    {
     "name": "stderr",
     "output_type": "stream",
     "text": [
      "Epoch 8: 100%|██████████| 75/75 [00:00<00:00, 377.77batch/s, loss=1.38]\n"
     ]
    },
    {
     "name": "stdout",
     "output_type": "stream",
     "text": [
      "Epoch 8/100, Loss: 1.3819\n",
      "MSE: 0.2303, RMSE: 0.4799, R²: 0.7697, MAE: 0.2950\n"
     ]
    },
    {
     "name": "stderr",
     "output_type": "stream",
     "text": [
      "Epoch 9: 100%|██████████| 75/75 [00:00<00:00, 534.25batch/s, loss=1.38]\n"
     ]
    },
    {
     "name": "stdout",
     "output_type": "stream",
     "text": [
      "Epoch 9/100, Loss: 1.3830\n",
      "MSE: 0.2306, RMSE: 0.4802, R²: 0.7694, MAE: 0.2969\n"
     ]
    },
    {
     "name": "stderr",
     "output_type": "stream",
     "text": [
      "Epoch 10: 100%|██████████| 75/75 [00:00<00:00, 552.52batch/s, loss=1.38]\n"
     ]
    },
    {
     "name": "stdout",
     "output_type": "stream",
     "text": [
      "Epoch 10/100, Loss: 1.3846\n",
      "MSE: 0.2307, RMSE: 0.4803, R²: 0.7693, MAE: 0.2977\n"
     ]
    },
    {
     "name": "stderr",
     "output_type": "stream",
     "text": [
      "Epoch 11: 100%|██████████| 75/75 [00:00<00:00, 553.02batch/s, loss=1.37]\n"
     ]
    },
    {
     "name": "stdout",
     "output_type": "stream",
     "text": [
      "Epoch 11/100, Loss: 1.3684\n",
      "MSE: 0.2280, RMSE: 0.4774, R²: 0.7720, MAE: 0.2939\n"
     ]
    },
    {
     "name": "stderr",
     "output_type": "stream",
     "text": [
      "Epoch 12: 100%|██████████| 75/75 [00:00<00:00, 545.18batch/s, loss=1.35]\n"
     ]
    },
    {
     "name": "stdout",
     "output_type": "stream",
     "text": [
      "Epoch 12/100, Loss: 1.3543\n",
      "MSE: 0.2257, RMSE: 0.4751, R²: 0.7743, MAE: 0.2908\n"
     ]
    },
    {
     "name": "stderr",
     "output_type": "stream",
     "text": [
      "Epoch 13: 100%|██████████| 75/75 [00:00<00:00, 394.06batch/s, loss=1.35]\n"
     ]
    },
    {
     "name": "stdout",
     "output_type": "stream",
     "text": [
      "Epoch 13/100, Loss: 1.3511\n",
      "MSE: 0.2252, RMSE: 0.4746, R²: 0.7748, MAE: 0.2895\n"
     ]
    },
    {
     "name": "stderr",
     "output_type": "stream",
     "text": [
      "Epoch 14: 100%|██████████| 75/75 [00:00<00:00, 566.04batch/s, loss=1.36]\n"
     ]
    },
    {
     "name": "stdout",
     "output_type": "stream",
     "text": [
      "Epoch 14/100, Loss: 1.3550\n",
      "MSE: 0.2261, RMSE: 0.4755, R²: 0.7739, MAE: 0.2917\n"
     ]
    },
    {
     "name": "stderr",
     "output_type": "stream",
     "text": [
      "Epoch 15: 100%|██████████| 75/75 [00:00<00:00, 570.26batch/s, loss=1.35]\n"
     ]
    },
    {
     "name": "stdout",
     "output_type": "stream",
     "text": [
      "Epoch 15/100, Loss: 1.3546\n",
      "MSE: 0.2260, RMSE: 0.4754, R²: 0.7740, MAE: 0.2906\n"
     ]
    },
    {
     "name": "stderr",
     "output_type": "stream",
     "text": [
      "Epoch 16: 100%|██████████| 75/75 [00:00<00:00, 563.30batch/s, loss=1.35]\n"
     ]
    },
    {
     "name": "stdout",
     "output_type": "stream",
     "text": [
      "Epoch 16/100, Loss: 1.3498\n",
      "MSE: 0.2247, RMSE: 0.4741, R²: 0.7752, MAE: 0.2905\n"
     ]
    },
    {
     "name": "stderr",
     "output_type": "stream",
     "text": [
      "Epoch 17: 100%|██████████| 75/75 [00:00<00:00, 560.19batch/s, loss=1.35]\n"
     ]
    },
    {
     "name": "stdout",
     "output_type": "stream",
     "text": [
      "Epoch 17/100, Loss: 1.3549\n",
      "MSE: 0.2259, RMSE: 0.4753, R²: 0.7741, MAE: 0.2925\n"
     ]
    },
    {
     "name": "stderr",
     "output_type": "stream",
     "text": [
      "Epoch 18: 100%|██████████| 75/75 [00:00<00:00, 567.08batch/s, loss=1.35]\n"
     ]
    },
    {
     "name": "stdout",
     "output_type": "stream",
     "text": [
      "Epoch 18/100, Loss: 1.3501\n",
      "MSE: 0.2253, RMSE: 0.4747, R²: 0.7747, MAE: 0.2907\n"
     ]
    },
    {
     "name": "stderr",
     "output_type": "stream",
     "text": [
      "Epoch 19: 100%|██████████| 75/75 [00:00<00:00, 567.73batch/s, loss=1.36]\n"
     ]
    },
    {
     "name": "stdout",
     "output_type": "stream",
     "text": [
      "Epoch 19/100, Loss: 1.3571\n",
      "MSE: 0.2262, RMSE: 0.4756, R²: 0.7738, MAE: 0.2909\n"
     ]
    },
    {
     "name": "stderr",
     "output_type": "stream",
     "text": [
      "Epoch 20: 100%|██████████| 75/75 [00:00<00:00, 404.61batch/s, loss=1.34]\n"
     ]
    },
    {
     "name": "stdout",
     "output_type": "stream",
     "text": [
      "Epoch 20/100, Loss: 1.3371\n",
      "MSE: 0.2230, RMSE: 0.4722, R²: 0.7770, MAE: 0.2875\n"
     ]
    },
    {
     "name": "stderr",
     "output_type": "stream",
     "text": [
      "Epoch 21: 100%|██████████| 75/75 [00:00<00:00, 553.33batch/s, loss=1.34]\n"
     ]
    },
    {
     "name": "stdout",
     "output_type": "stream",
     "text": [
      "Epoch 21/100, Loss: 1.3430\n",
      "MSE: 0.2238, RMSE: 0.4731, R²: 0.7762, MAE: 0.2891\n"
     ]
    },
    {
     "name": "stderr",
     "output_type": "stream",
     "text": [
      "Epoch 22: 100%|██████████| 75/75 [00:00<00:00, 545.12batch/s, loss=1.34]\n"
     ]
    },
    {
     "name": "stdout",
     "output_type": "stream",
     "text": [
      "Epoch 22/100, Loss: 1.3381\n",
      "MSE: 0.2232, RMSE: 0.4725, R²: 0.7768, MAE: 0.2884\n"
     ]
    },
    {
     "name": "stderr",
     "output_type": "stream",
     "text": [
      "Epoch 23: 100%|██████████| 75/75 [00:00<00:00, 560.45batch/s, loss=1.35]\n"
     ]
    },
    {
     "name": "stdout",
     "output_type": "stream",
     "text": [
      "Epoch 23/100, Loss: 1.3476\n",
      "MSE: 0.2241, RMSE: 0.4734, R²: 0.7759, MAE: 0.2896\n"
     ]
    },
    {
     "name": "stderr",
     "output_type": "stream",
     "text": [
      "Epoch 24: 100%|██████████| 75/75 [00:00<00:00, 545.13batch/s, loss=1.35]\n"
     ]
    },
    {
     "name": "stdout",
     "output_type": "stream",
     "text": [
      "Epoch 24/100, Loss: 1.3527\n",
      "MSE: 0.2253, RMSE: 0.4746, R²: 0.7747, MAE: 0.2914\n"
     ]
    },
    {
     "name": "stderr",
     "output_type": "stream",
     "text": [
      "Epoch 25: 100%|██████████| 75/75 [00:00<00:00, 523.81batch/s, loss=1.34]\n"
     ]
    },
    {
     "name": "stdout",
     "output_type": "stream",
     "text": [
      "Epoch 25/100, Loss: 1.3385\n",
      "MSE: 0.2230, RMSE: 0.4723, R²: 0.7770, MAE: 0.2881\n"
     ]
    },
    {
     "name": "stderr",
     "output_type": "stream",
     "text": [
      "Epoch 26: 100%|██████████| 75/75 [00:00<00:00, 543.27batch/s, loss=1.34]\n"
     ]
    },
    {
     "name": "stdout",
     "output_type": "stream",
     "text": [
      "Epoch 26/100, Loss: 1.3387\n",
      "MSE: 0.2231, RMSE: 0.4724, R²: 0.7769, MAE: 0.2891\n"
     ]
    },
    {
     "name": "stderr",
     "output_type": "stream",
     "text": [
      "Epoch 27: 100%|██████████| 75/75 [00:00<00:00, 395.14batch/s, loss=1.35]\n"
     ]
    },
    {
     "name": "stdout",
     "output_type": "stream",
     "text": [
      "Epoch 27/100, Loss: 1.3497\n",
      "MSE: 0.2252, RMSE: 0.4746, R²: 0.7748, MAE: 0.2897\n"
     ]
    },
    {
     "name": "stderr",
     "output_type": "stream",
     "text": [
      "Epoch 28: 100%|██████████| 75/75 [00:00<00:00, 568.40batch/s, loss=1.33]\n"
     ]
    },
    {
     "name": "stdout",
     "output_type": "stream",
     "text": [
      "Epoch 28/100, Loss: 1.3252\n",
      "MSE: 0.2209, RMSE: 0.4700, R²: 0.7791, MAE: 0.2864\n"
     ]
    },
    {
     "name": "stderr",
     "output_type": "stream",
     "text": [
      "Epoch 29: 100%|██████████| 75/75 [00:00<00:00, 406.77batch/s, loss=1.33]\n"
     ]
    },
    {
     "name": "stdout",
     "output_type": "stream",
     "text": [
      "Epoch 29/100, Loss: 1.3280\n",
      "MSE: 0.2209, RMSE: 0.4700, R²: 0.7791, MAE: 0.2854\n"
     ]
    },
    {
     "name": "stderr",
     "output_type": "stream",
     "text": [
      "Epoch 30: 100%|██████████| 75/75 [00:00<00:00, 534.87batch/s, loss=1.34]\n"
     ]
    },
    {
     "name": "stdout",
     "output_type": "stream",
     "text": [
      "Epoch 30/100, Loss: 1.3356\n",
      "MSE: 0.2227, RMSE: 0.4719, R²: 0.7773, MAE: 0.2886\n"
     ]
    },
    {
     "name": "stderr",
     "output_type": "stream",
     "text": [
      "Epoch 31: 100%|██████████| 75/75 [00:00<00:00, 568.26batch/s, loss=1.34]\n"
     ]
    },
    {
     "name": "stdout",
     "output_type": "stream",
     "text": [
      "Epoch 31/100, Loss: 1.3371\n",
      "MSE: 0.2228, RMSE: 0.4720, R²: 0.7772, MAE: 0.2873\n"
     ]
    },
    {
     "name": "stderr",
     "output_type": "stream",
     "text": [
      "Epoch 32: 100%|██████████| 75/75 [00:00<00:00, 553.56batch/s, loss=1.32]\n"
     ]
    },
    {
     "name": "stdout",
     "output_type": "stream",
     "text": [
      "Epoch 32/100, Loss: 1.3241\n",
      "MSE: 0.2206, RMSE: 0.4697, R²: 0.7794, MAE: 0.2860\n"
     ]
    },
    {
     "name": "stderr",
     "output_type": "stream",
     "text": [
      "Epoch 33: 100%|██████████| 75/75 [00:00<00:00, 552.07batch/s, loss=1.34]\n"
     ]
    },
    {
     "name": "stdout",
     "output_type": "stream",
     "text": [
      "Epoch 33/100, Loss: 1.3373\n",
      "MSE: 0.2230, RMSE: 0.4722, R²: 0.7770, MAE: 0.2885\n"
     ]
    },
    {
     "name": "stderr",
     "output_type": "stream",
     "text": [
      "Epoch 34: 100%|██████████| 75/75 [00:00<00:00, 404.49batch/s, loss=1.32]\n"
     ]
    },
    {
     "name": "stdout",
     "output_type": "stream",
     "text": [
      "Epoch 34/100, Loss: 1.3241\n",
      "MSE: 0.2208, RMSE: 0.4699, R²: 0.7792, MAE: 0.2855\n"
     ]
    },
    {
     "name": "stderr",
     "output_type": "stream",
     "text": [
      "Epoch 35: 100%|██████████| 75/75 [00:00<00:00, 565.64batch/s, loss=1.32]\n"
     ]
    },
    {
     "name": "stdout",
     "output_type": "stream",
     "text": [
      "Epoch 35/100, Loss: 1.3193\n",
      "MSE: 0.2202, RMSE: 0.4692, R²: 0.7798, MAE: 0.2844\n"
     ]
    },
    {
     "name": "stderr",
     "output_type": "stream",
     "text": [
      "Epoch 36: 100%|██████████| 75/75 [00:00<00:00, 523.86batch/s, loss=1.34]\n"
     ]
    },
    {
     "name": "stdout",
     "output_type": "stream",
     "text": [
      "Epoch 36/100, Loss: 1.3393\n",
      "MSE: 0.2232, RMSE: 0.4725, R²: 0.7768, MAE: 0.2899\n"
     ]
    },
    {
     "name": "stderr",
     "output_type": "stream",
     "text": [
      "Epoch 37: 100%|██████████| 75/75 [00:00<00:00, 538.74batch/s, loss=1.32]\n"
     ]
    },
    {
     "name": "stdout",
     "output_type": "stream",
     "text": [
      "Epoch 37/100, Loss: 1.3208\n",
      "MSE: 0.2196, RMSE: 0.4687, R²: 0.7804, MAE: 0.2852\n"
     ]
    },
    {
     "name": "stderr",
     "output_type": "stream",
     "text": [
      "Epoch 38: 100%|██████████| 75/75 [00:00<00:00, 562.24batch/s, loss=1.33]\n"
     ]
    },
    {
     "name": "stdout",
     "output_type": "stream",
     "text": [
      "Epoch 38/100, Loss: 1.3309\n",
      "MSE: 0.2219, RMSE: 0.4711, R²: 0.7781, MAE: 0.2880\n"
     ]
    },
    {
     "name": "stderr",
     "output_type": "stream",
     "text": [
      "Epoch 39: 100%|██████████| 75/75 [00:00<00:00, 554.57batch/s, loss=1.33]\n"
     ]
    },
    {
     "name": "stdout",
     "output_type": "stream",
     "text": [
      "Epoch 39/100, Loss: 1.3292\n",
      "MSE: 0.2219, RMSE: 0.4710, R²: 0.7781, MAE: 0.2874\n"
     ]
    },
    {
     "name": "stderr",
     "output_type": "stream",
     "text": [
      "Epoch 40: 100%|██████████| 75/75 [00:00<00:00, 563.24batch/s, loss=1.31]\n"
     ]
    },
    {
     "name": "stdout",
     "output_type": "stream",
     "text": [
      "Epoch 40/100, Loss: 1.3117\n",
      "MSE: 0.2187, RMSE: 0.4677, R²: 0.7813, MAE: 0.2837\n"
     ]
    },
    {
     "name": "stderr",
     "output_type": "stream",
     "text": [
      "Epoch 41: 100%|██████████| 75/75 [00:00<00:00, 399.33batch/s, loss=1.32]\n"
     ]
    },
    {
     "name": "stdout",
     "output_type": "stream",
     "text": [
      "Epoch 41/100, Loss: 1.3230\n",
      "MSE: 0.2206, RMSE: 0.4697, R²: 0.7794, MAE: 0.2864\n"
     ]
    },
    {
     "name": "stderr",
     "output_type": "stream",
     "text": [
      "Epoch 42: 100%|██████████| 75/75 [00:00<00:00, 569.48batch/s, loss=1.33]\n"
     ]
    },
    {
     "name": "stdout",
     "output_type": "stream",
     "text": [
      "Epoch 42/100, Loss: 1.3293\n",
      "MSE: 0.2211, RMSE: 0.4703, R²: 0.7789, MAE: 0.2852\n"
     ]
    },
    {
     "name": "stderr",
     "output_type": "stream",
     "text": [
      "Epoch 43: 100%|██████████| 75/75 [00:00<00:00, 559.30batch/s, loss=1.32]\n"
     ]
    },
    {
     "name": "stdout",
     "output_type": "stream",
     "text": [
      "Epoch 43/100, Loss: 1.3196\n",
      "MSE: 0.2198, RMSE: 0.4688, R²: 0.7802, MAE: 0.2851\n"
     ]
    },
    {
     "name": "stderr",
     "output_type": "stream",
     "text": [
      "Epoch 44: 100%|██████████| 75/75 [00:00<00:00, 560.61batch/s, loss=1.33]\n"
     ]
    },
    {
     "name": "stdout",
     "output_type": "stream",
     "text": [
      "Epoch 44/100, Loss: 1.3263\n",
      "MSE: 0.2210, RMSE: 0.4702, R²: 0.7790, MAE: 0.2865\n"
     ]
    },
    {
     "name": "stderr",
     "output_type": "stream",
     "text": [
      "Epoch 45: 100%|██████████| 75/75 [00:00<00:00, 565.81batch/s, loss=1.34]\n"
     ]
    },
    {
     "name": "stdout",
     "output_type": "stream",
     "text": [
      "Epoch 45/100, Loss: 1.3363\n",
      "MSE: 0.2220, RMSE: 0.4712, R²: 0.7780, MAE: 0.2880\n"
     ]
    },
    {
     "name": "stderr",
     "output_type": "stream",
     "text": [
      "Epoch 46: 100%|██████████| 75/75 [00:00<00:00, 564.53batch/s, loss=1.32]\n"
     ]
    },
    {
     "name": "stdout",
     "output_type": "stream",
     "text": [
      "Epoch 46/100, Loss: 1.3236\n",
      "MSE: 0.2207, RMSE: 0.4698, R²: 0.7793, MAE: 0.2864\n"
     ]
    },
    {
     "name": "stderr",
     "output_type": "stream",
     "text": [
      "Epoch 47: 100%|██████████| 75/75 [00:00<00:00, 559.55batch/s, loss=1.32]\n"
     ]
    },
    {
     "name": "stdout",
     "output_type": "stream",
     "text": [
      "Epoch 47/100, Loss: 1.3227\n",
      "MSE: 0.2199, RMSE: 0.4689, R²: 0.7801, MAE: 0.2850\n"
     ]
    },
    {
     "name": "stderr",
     "output_type": "stream",
     "text": [
      "Epoch 48: 100%|██████████| 75/75 [00:00<00:00, 400.13batch/s, loss=1.32]\n"
     ]
    },
    {
     "name": "stdout",
     "output_type": "stream",
     "text": [
      "Epoch 48/100, Loss: 1.3205\n",
      "MSE: 0.2199, RMSE: 0.4690, R²: 0.7801, MAE: 0.2847\n"
     ]
    },
    {
     "name": "stderr",
     "output_type": "stream",
     "text": [
      "Epoch 49: 100%|██████████| 75/75 [00:00<00:00, 562.02batch/s, loss=1.32]\n"
     ]
    },
    {
     "name": "stdout",
     "output_type": "stream",
     "text": [
      "Epoch 49/100, Loss: 1.3234\n",
      "MSE: 0.2205, RMSE: 0.4695, R²: 0.7795, MAE: 0.2858\n"
     ]
    },
    {
     "name": "stderr",
     "output_type": "stream",
     "text": [
      "Epoch 50: 100%|██████████| 75/75 [00:00<00:00, 559.14batch/s, loss=1.32]\n"
     ]
    },
    {
     "name": "stdout",
     "output_type": "stream",
     "text": [
      "Epoch 50/100, Loss: 1.3218\n",
      "MSE: 0.2201, RMSE: 0.4691, R²: 0.7799, MAE: 0.2855\n"
     ]
    },
    {
     "name": "stderr",
     "output_type": "stream",
     "text": [
      "Epoch 51: 100%|██████████| 75/75 [00:00<00:00, 497.72batch/s, loss=1.33]\n"
     ]
    },
    {
     "name": "stdout",
     "output_type": "stream",
     "text": [
      "Epoch 51/100, Loss: 1.3270\n",
      "MSE: 0.2215, RMSE: 0.4706, R²: 0.7785, MAE: 0.2868\n"
     ]
    },
    {
     "name": "stderr",
     "output_type": "stream",
     "text": [
      "Epoch 52: 100%|██████████| 75/75 [00:00<00:00, 542.04batch/s, loss=1.32]\n"
     ]
    },
    {
     "name": "stdout",
     "output_type": "stream",
     "text": [
      "Epoch 52/100, Loss: 1.3181\n",
      "MSE: 0.2196, RMSE: 0.4686, R²: 0.7804, MAE: 0.2839\n"
     ]
    },
    {
     "name": "stderr",
     "output_type": "stream",
     "text": [
      "Epoch 53: 100%|██████████| 75/75 [00:00<00:00, 557.50batch/s, loss=1.33]\n"
     ]
    },
    {
     "name": "stdout",
     "output_type": "stream",
     "text": [
      "Epoch 53/100, Loss: 1.3276\n",
      "MSE: 0.2212, RMSE: 0.4703, R²: 0.7788, MAE: 0.2872\n"
     ]
    },
    {
     "name": "stderr",
     "output_type": "stream",
     "text": [
      "Epoch 54: 100%|██████████| 75/75 [00:00<00:00, 507.26batch/s, loss=1.32]\n"
     ]
    },
    {
     "name": "stdout",
     "output_type": "stream",
     "text": [
      "Epoch 54/100, Loss: 1.3153\n",
      "MSE: 0.2191, RMSE: 0.4680, R²: 0.7809, MAE: 0.2840\n"
     ]
    },
    {
     "name": "stderr",
     "output_type": "stream",
     "text": [
      "Epoch 55: 100%|██████████| 75/75 [00:00<00:00, 378.05batch/s, loss=1.32]\n"
     ]
    },
    {
     "name": "stdout",
     "output_type": "stream",
     "text": [
      "Epoch 55/100, Loss: 1.3159\n",
      "MSE: 0.2196, RMSE: 0.4686, R²: 0.7804, MAE: 0.2847\n"
     ]
    },
    {
     "name": "stderr",
     "output_type": "stream",
     "text": [
      "Epoch 56: 100%|██████████| 75/75 [00:00<00:00, 530.85batch/s, loss=1.32]\n"
     ]
    },
    {
     "name": "stdout",
     "output_type": "stream",
     "text": [
      "Epoch 56/100, Loss: 1.3198\n",
      "MSE: 0.2201, RMSE: 0.4691, R²: 0.7799, MAE: 0.2843\n"
     ]
    },
    {
     "name": "stderr",
     "output_type": "stream",
     "text": [
      "Epoch 57: 100%|██████████| 75/75 [00:00<00:00, 564.35batch/s, loss=1.31]\n"
     ]
    },
    {
     "name": "stdout",
     "output_type": "stream",
     "text": [
      "Epoch 57/100, Loss: 1.3106\n",
      "MSE: 0.2184, RMSE: 0.4674, R²: 0.7816, MAE: 0.2835\n"
     ]
    },
    {
     "name": "stderr",
     "output_type": "stream",
     "text": [
      "Epoch 58: 100%|██████████| 75/75 [00:00<00:00, 537.67batch/s, loss=1.32]\n"
     ]
    },
    {
     "name": "stdout",
     "output_type": "stream",
     "text": [
      "Epoch 58/100, Loss: 1.3160\n",
      "MSE: 0.2197, RMSE: 0.4687, R²: 0.7803, MAE: 0.2849\n"
     ]
    },
    {
     "name": "stderr",
     "output_type": "stream",
     "text": [
      "Epoch 59: 100%|██████████| 75/75 [00:00<00:00, 527.31batch/s, loss=1.33]\n"
     ]
    },
    {
     "name": "stdout",
     "output_type": "stream",
     "text": [
      "Epoch 59/100, Loss: 1.3258\n",
      "MSE: 0.2209, RMSE: 0.4700, R²: 0.7791, MAE: 0.2864\n"
     ]
    },
    {
     "name": "stderr",
     "output_type": "stream",
     "text": [
      "Epoch 60: 100%|██████████| 75/75 [00:00<00:00, 516.46batch/s, loss=1.32]\n"
     ]
    },
    {
     "name": "stdout",
     "output_type": "stream",
     "text": [
      "Epoch 60/100, Loss: 1.3165\n",
      "MSE: 0.2192, RMSE: 0.4682, R²: 0.7808, MAE: 0.2848\n"
     ]
    },
    {
     "name": "stderr",
     "output_type": "stream",
     "text": [
      "Epoch 61: 100%|██████████| 75/75 [00:00<00:00, 565.35batch/s, loss=1.31]\n"
     ]
    },
    {
     "name": "stdout",
     "output_type": "stream",
     "text": [
      "Epoch 61/100, Loss: 1.3114\n",
      "MSE: 0.2179, RMSE: 0.4668, R²: 0.7821, MAE: 0.2827\n"
     ]
    },
    {
     "name": "stderr",
     "output_type": "stream",
     "text": [
      "Epoch 62: 100%|██████████| 75/75 [00:00<00:00, 377.26batch/s, loss=1.3] \n"
     ]
    },
    {
     "name": "stdout",
     "output_type": "stream",
     "text": [
      "Epoch 62/100, Loss: 1.3029\n",
      "MSE: 0.2170, RMSE: 0.4658, R²: 0.7830, MAE: 0.2817\n"
     ]
    },
    {
     "name": "stderr",
     "output_type": "stream",
     "text": [
      "Epoch 63: 100%|██████████| 75/75 [00:00<00:00, 526.35batch/s, loss=1.31]\n"
     ]
    },
    {
     "name": "stdout",
     "output_type": "stream",
     "text": [
      "Epoch 63/100, Loss: 1.3101\n",
      "MSE: 0.2184, RMSE: 0.4673, R²: 0.7816, MAE: 0.2842\n"
     ]
    },
    {
     "name": "stderr",
     "output_type": "stream",
     "text": [
      "Epoch 64: 100%|██████████| 75/75 [00:00<00:00, 505.21batch/s, loss=1.31]\n"
     ]
    },
    {
     "name": "stdout",
     "output_type": "stream",
     "text": [
      "Epoch 64/100, Loss: 1.3060\n",
      "MSE: 0.2179, RMSE: 0.4668, R²: 0.7821, MAE: 0.2826\n"
     ]
    },
    {
     "name": "stderr",
     "output_type": "stream",
     "text": [
      "Epoch 65: 100%|██████████| 75/75 [00:00<00:00, 537.30batch/s, loss=1.31]\n"
     ]
    },
    {
     "name": "stdout",
     "output_type": "stream",
     "text": [
      "Epoch 65/100, Loss: 1.3109\n",
      "MSE: 0.2187, RMSE: 0.4676, R²: 0.7813, MAE: 0.2823\n"
     ]
    },
    {
     "name": "stderr",
     "output_type": "stream",
     "text": [
      "Epoch 66: 100%|██████████| 75/75 [00:00<00:00, 539.96batch/s, loss=1.32]\n"
     ]
    },
    {
     "name": "stdout",
     "output_type": "stream",
     "text": [
      "Epoch 66/100, Loss: 1.3202\n",
      "MSE: 0.2198, RMSE: 0.4689, R²: 0.7802, MAE: 0.2855\n"
     ]
    },
    {
     "name": "stderr",
     "output_type": "stream",
     "text": [
      "Epoch 67: 100%|██████████| 75/75 [00:00<00:00, 336.07batch/s, loss=1.31]\n"
     ]
    },
    {
     "name": "stdout",
     "output_type": "stream",
     "text": [
      "Epoch 67/100, Loss: 1.3141\n",
      "MSE: 0.2192, RMSE: 0.4682, R²: 0.7808, MAE: 0.2848\n"
     ]
    },
    {
     "name": "stderr",
     "output_type": "stream",
     "text": [
      "Epoch 68: 100%|██████████| 75/75 [00:00<00:00, 522.53batch/s, loss=1.32]\n"
     ]
    },
    {
     "name": "stdout",
     "output_type": "stream",
     "text": [
      "Epoch 68/100, Loss: 1.3178\n",
      "MSE: 0.2197, RMSE: 0.4688, R²: 0.7803, MAE: 0.2856\n"
     ]
    },
    {
     "name": "stderr",
     "output_type": "stream",
     "text": [
      "Epoch 69: 100%|██████████| 75/75 [00:00<00:00, 501.85batch/s, loss=1.3] \n"
     ]
    },
    {
     "name": "stdout",
     "output_type": "stream",
     "text": [
      "Epoch 69/100, Loss: 1.2997\n",
      "MSE: 0.2168, RMSE: 0.4657, R²: 0.7832, MAE: 0.2813\n"
     ]
    },
    {
     "name": "stderr",
     "output_type": "stream",
     "text": [
      "Epoch 70: 100%|██████████| 75/75 [00:00<00:00, 533.58batch/s, loss=1.31]\n"
     ]
    },
    {
     "name": "stdout",
     "output_type": "stream",
     "text": [
      "Epoch 70/100, Loss: 1.3147\n",
      "MSE: 0.2189, RMSE: 0.4679, R²: 0.7811, MAE: 0.2859\n"
     ]
    },
    {
     "name": "stderr",
     "output_type": "stream",
     "text": [
      "Epoch 71: 100%|██████████| 75/75 [00:00<00:00, 544.56batch/s, loss=1.32]\n"
     ]
    },
    {
     "name": "stdout",
     "output_type": "stream",
     "text": [
      "Epoch 71/100, Loss: 1.3152\n",
      "MSE: 0.2191, RMSE: 0.4681, R²: 0.7809, MAE: 0.2837\n"
     ]
    },
    {
     "name": "stderr",
     "output_type": "stream",
     "text": [
      "Epoch 72: 100%|██████████| 75/75 [00:00<00:00, 550.09batch/s, loss=1.3] \n"
     ]
    },
    {
     "name": "stdout",
     "output_type": "stream",
     "text": [
      "Epoch 72/100, Loss: 1.2974\n",
      "MSE: 0.2161, RMSE: 0.4649, R²: 0.7839, MAE: 0.2795\n"
     ]
    },
    {
     "name": "stderr",
     "output_type": "stream",
     "text": [
      "Epoch 73: 100%|██████████| 75/75 [00:00<00:00, 388.86batch/s, loss=1.31]\n"
     ]
    },
    {
     "name": "stdout",
     "output_type": "stream",
     "text": [
      "Epoch 73/100, Loss: 1.3125\n",
      "MSE: 0.2188, RMSE: 0.4677, R²: 0.7812, MAE: 0.2860\n"
     ]
    },
    {
     "name": "stderr",
     "output_type": "stream",
     "text": [
      "Epoch 74: 100%|██████████| 75/75 [00:00<00:00, 544.83batch/s, loss=1.31]\n"
     ]
    },
    {
     "name": "stdout",
     "output_type": "stream",
     "text": [
      "Epoch 74/100, Loss: 1.3057\n",
      "MSE: 0.2178, RMSE: 0.4667, R²: 0.7822, MAE: 0.2853\n"
     ]
    },
    {
     "name": "stderr",
     "output_type": "stream",
     "text": [
      "Epoch 75: 100%|██████████| 75/75 [00:00<00:00, 550.23batch/s, loss=1.31]\n"
     ]
    },
    {
     "name": "stdout",
     "output_type": "stream",
     "text": [
      "Epoch 75/100, Loss: 1.3090\n",
      "MSE: 0.2184, RMSE: 0.4673, R²: 0.7816, MAE: 0.2835\n"
     ]
    },
    {
     "name": "stderr",
     "output_type": "stream",
     "text": [
      "Epoch 76: 100%|██████████| 75/75 [00:00<00:00, 545.66batch/s, loss=1.32]\n"
     ]
    },
    {
     "name": "stdout",
     "output_type": "stream",
     "text": [
      "Epoch 76/100, Loss: 1.3172\n",
      "MSE: 0.2199, RMSE: 0.4689, R²: 0.7801, MAE: 0.2860\n"
     ]
    },
    {
     "name": "stderr",
     "output_type": "stream",
     "text": [
      "Epoch 77: 100%|██████████| 75/75 [00:00<00:00, 538.14batch/s, loss=1.33]\n"
     ]
    },
    {
     "name": "stdout",
     "output_type": "stream",
     "text": [
      "Epoch 77/100, Loss: 1.3253\n",
      "MSE: 0.2210, RMSE: 0.4701, R²: 0.7790, MAE: 0.2867\n"
     ]
    },
    {
     "name": "stderr",
     "output_type": "stream",
     "text": [
      "Epoch 78: 100%|██████████| 75/75 [00:00<00:00, 546.36batch/s, loss=1.3] \n"
     ]
    },
    {
     "name": "stdout",
     "output_type": "stream",
     "text": [
      "Epoch 78/100, Loss: 1.2976\n",
      "MSE: 0.2159, RMSE: 0.4647, R²: 0.7841, MAE: 0.2807\n"
     ]
    },
    {
     "name": "stderr",
     "output_type": "stream",
     "text": [
      "Epoch 79: 100%|██████████| 75/75 [00:00<00:00, 379.74batch/s, loss=1.31]\n"
     ]
    },
    {
     "name": "stdout",
     "output_type": "stream",
     "text": [
      "Epoch 79/100, Loss: 1.3090\n",
      "MSE: 0.2180, RMSE: 0.4670, R²: 0.7820, MAE: 0.2842\n"
     ]
    },
    {
     "name": "stderr",
     "output_type": "stream",
     "text": [
      "Epoch 80: 100%|██████████| 75/75 [00:00<00:00, 494.91batch/s, loss=1.29]\n"
     ]
    },
    {
     "name": "stdout",
     "output_type": "stream",
     "text": [
      "Epoch 80/100, Loss: 1.2926\n",
      "MSE: 0.2155, RMSE: 0.4642, R²: 0.7845, MAE: 0.2807\n"
     ]
    },
    {
     "name": "stderr",
     "output_type": "stream",
     "text": [
      "Epoch 81: 100%|██████████| 75/75 [00:00<00:00, 527.10batch/s, loss=1.32]\n"
     ]
    },
    {
     "name": "stdout",
     "output_type": "stream",
     "text": [
      "Epoch 81/100, Loss: 1.3213\n",
      "MSE: 0.2199, RMSE: 0.4689, R²: 0.7801, MAE: 0.2871\n"
     ]
    },
    {
     "name": "stderr",
     "output_type": "stream",
     "text": [
      "Epoch 82: 100%|██████████| 75/75 [00:00<00:00, 533.15batch/s, loss=1.31]\n"
     ]
    },
    {
     "name": "stdout",
     "output_type": "stream",
     "text": [
      "Epoch 82/100, Loss: 1.3097\n",
      "MSE: 0.2184, RMSE: 0.4674, R²: 0.7816, MAE: 0.2839\n"
     ]
    },
    {
     "name": "stderr",
     "output_type": "stream",
     "text": [
      "Epoch 83: 100%|██████████| 75/75 [00:00<00:00, 545.12batch/s, loss=1.3] \n"
     ]
    },
    {
     "name": "stdout",
     "output_type": "stream",
     "text": [
      "Epoch 83/100, Loss: 1.3027\n",
      "MSE: 0.2173, RMSE: 0.4662, R²: 0.7827, MAE: 0.2842\n"
     ]
    },
    {
     "name": "stderr",
     "output_type": "stream",
     "text": [
      "Epoch 84: 100%|██████████| 75/75 [00:00<00:00, 514.02batch/s, loss=1.3] \n"
     ]
    },
    {
     "name": "stdout",
     "output_type": "stream",
     "text": [
      "Epoch 84/100, Loss: 1.2987\n",
      "MSE: 0.2163, RMSE: 0.4651, R²: 0.7837, MAE: 0.2814\n"
     ]
    },
    {
     "name": "stderr",
     "output_type": "stream",
     "text": [
      "Epoch 85: 100%|██████████| 75/75 [00:00<00:00, 382.54batch/s, loss=1.29]\n"
     ]
    },
    {
     "name": "stdout",
     "output_type": "stream",
     "text": [
      "Epoch 85/100, Loss: 1.2919\n",
      "MSE: 0.2155, RMSE: 0.4642, R²: 0.7845, MAE: 0.2806\n"
     ]
    },
    {
     "name": "stderr",
     "output_type": "stream",
     "text": [
      "Epoch 86: 100%|██████████| 75/75 [00:00<00:00, 541.69batch/s, loss=1.31]\n"
     ]
    },
    {
     "name": "stdout",
     "output_type": "stream",
     "text": [
      "Epoch 86/100, Loss: 1.3064\n",
      "MSE: 0.2179, RMSE: 0.4669, R²: 0.7821, MAE: 0.2835\n"
     ]
    },
    {
     "name": "stderr",
     "output_type": "stream",
     "text": [
      "Epoch 87: 100%|██████████| 75/75 [00:00<00:00, 554.41batch/s, loss=1.3] \n"
     ]
    },
    {
     "name": "stdout",
     "output_type": "stream",
     "text": [
      "Epoch 87/100, Loss: 1.3006\n",
      "MSE: 0.2167, RMSE: 0.4656, R²: 0.7833, MAE: 0.2826\n"
     ]
    },
    {
     "name": "stderr",
     "output_type": "stream",
     "text": [
      "Epoch 88: 100%|██████████| 75/75 [00:00<00:00, 512.91batch/s, loss=1.31]\n"
     ]
    },
    {
     "name": "stdout",
     "output_type": "stream",
     "text": [
      "Epoch 88/100, Loss: 1.3098\n",
      "MSE: 0.2180, RMSE: 0.4669, R²: 0.7820, MAE: 0.2835\n"
     ]
    },
    {
     "name": "stderr",
     "output_type": "stream",
     "text": [
      "Epoch 89: 100%|██████████| 75/75 [00:00<00:00, 546.35batch/s, loss=1.31]\n"
     ]
    },
    {
     "name": "stdout",
     "output_type": "stream",
     "text": [
      "Epoch 89/100, Loss: 1.3062\n",
      "MSE: 0.2176, RMSE: 0.4664, R²: 0.7824, MAE: 0.2848\n"
     ]
    },
    {
     "name": "stderr",
     "output_type": "stream",
     "text": [
      "Epoch 90: 100%|██████████| 75/75 [00:00<00:00, 545.38batch/s, loss=1.3] \n"
     ]
    },
    {
     "name": "stdout",
     "output_type": "stream",
     "text": [
      "Epoch 90/100, Loss: 1.3014\n",
      "MSE: 0.2167, RMSE: 0.4656, R²: 0.7833, MAE: 0.2841\n"
     ]
    },
    {
     "name": "stderr",
     "output_type": "stream",
     "text": [
      "Epoch 91: 100%|██████████| 75/75 [00:00<00:00, 386.80batch/s, loss=1.31]\n"
     ]
    },
    {
     "name": "stdout",
     "output_type": "stream",
     "text": [
      "Epoch 91/100, Loss: 1.3101\n",
      "MSE: 0.2184, RMSE: 0.4673, R²: 0.7816, MAE: 0.2845\n"
     ]
    },
    {
     "name": "stderr",
     "output_type": "stream",
     "text": [
      "Epoch 92: 100%|██████████| 75/75 [00:00<00:00, 538.55batch/s, loss=1.3] \n"
     ]
    },
    {
     "name": "stdout",
     "output_type": "stream",
     "text": [
      "Epoch 92/100, Loss: 1.3030\n",
      "MSE: 0.2172, RMSE: 0.4661, R²: 0.7828, MAE: 0.2821\n"
     ]
    },
    {
     "name": "stderr",
     "output_type": "stream",
     "text": [
      "Epoch 93: 100%|██████████| 75/75 [00:00<00:00, 496.28batch/s, loss=1.31]\n"
     ]
    },
    {
     "name": "stdout",
     "output_type": "stream",
     "text": [
      "Epoch 93/100, Loss: 1.3067\n",
      "MSE: 0.2180, RMSE: 0.4669, R²: 0.7820, MAE: 0.2845\n"
     ]
    },
    {
     "name": "stderr",
     "output_type": "stream",
     "text": [
      "Epoch 94: 100%|██████████| 75/75 [00:00<00:00, 502.70batch/s, loss=1.3] \n"
     ]
    },
    {
     "name": "stdout",
     "output_type": "stream",
     "text": [
      "Epoch 94/100, Loss: 1.3021\n",
      "MSE: 0.2174, RMSE: 0.4662, R²: 0.7826, MAE: 0.2851\n"
     ]
    },
    {
     "name": "stderr",
     "output_type": "stream",
     "text": [
      "Epoch 95: 100%|██████████| 75/75 [00:00<00:00, 524.61batch/s, loss=1.3] \n"
     ]
    },
    {
     "name": "stdout",
     "output_type": "stream",
     "text": [
      "Epoch 95/100, Loss: 1.2982\n",
      "MSE: 0.2163, RMSE: 0.4651, R²: 0.7837, MAE: 0.2806\n"
     ]
    },
    {
     "name": "stderr",
     "output_type": "stream",
     "text": [
      "Epoch 96: 100%|██████████| 75/75 [00:00<00:00, 380.54batch/s, loss=1.29]\n"
     ]
    },
    {
     "name": "stdout",
     "output_type": "stream",
     "text": [
      "Epoch 96/100, Loss: 1.2936\n",
      "MSE: 0.2158, RMSE: 0.4645, R²: 0.7842, MAE: 0.2831\n"
     ]
    },
    {
     "name": "stderr",
     "output_type": "stream",
     "text": [
      "Epoch 97: 100%|██████████| 75/75 [00:00<00:00, 538.19batch/s, loss=1.3] \n"
     ]
    },
    {
     "name": "stdout",
     "output_type": "stream",
     "text": [
      "Epoch 97/100, Loss: 1.2996\n",
      "MSE: 0.2168, RMSE: 0.4656, R²: 0.7832, MAE: 0.2814\n"
     ]
    },
    {
     "name": "stderr",
     "output_type": "stream",
     "text": [
      "Epoch 98: 100%|██████████| 75/75 [00:00<00:00, 528.77batch/s, loss=1.3] \n"
     ]
    },
    {
     "name": "stdout",
     "output_type": "stream",
     "text": [
      "Epoch 98/100, Loss: 1.3007\n",
      "MSE: 0.2165, RMSE: 0.4653, R²: 0.7835, MAE: 0.2819\n"
     ]
    },
    {
     "name": "stderr",
     "output_type": "stream",
     "text": [
      "Epoch 99: 100%|██████████| 75/75 [00:00<00:00, 527.71batch/s, loss=1.3] \n"
     ]
    },
    {
     "name": "stdout",
     "output_type": "stream",
     "text": [
      "Epoch 99/100, Loss: 1.2967\n",
      "MSE: 0.2163, RMSE: 0.4651, R²: 0.7837, MAE: 0.2813\n"
     ]
    },
    {
     "name": "stderr",
     "output_type": "stream",
     "text": [
      "Epoch 100: 100%|██████████| 75/75 [00:00<00:00, 475.36batch/s, loss=1.31]\n"
     ]
    },
    {
     "name": "stdout",
     "output_type": "stream",
     "text": [
      "Epoch 100/100, Loss: 1.3051\n",
      "MSE: 0.2174, RMSE: 0.4663, R²: 0.7826, MAE: 0.2834\n",
      "Model Training: Success\n"
     ]
    }
   ],
   "source": [
    "print(\"Process Starting\")\n",
    "print(\"Parsing Data: Working..\")\n",
    "weather_data = json_to_dataframe()\n",
    "print(\"Parsing Data: Success\")\n",
    "print(\"Cleaning Data: Working..\")\n",
    "weather_data = clean_dataframe(weather_data)\n",
    "print(\"Cleaning Data: Success\")\n",
    "print(\"Validating Data: Working..\")\n",
    "validation_status = validate_data_columns(weather_data)\n",
    "\n",
    "if validation_status:\n",
    "    print(\"Validating Data: Success\")\n",
    "    print(\"Transforming Data: Working..\")\n",
    "    weather_data = transform_date_feature(weather_data)\n",
    "    print(\"Transforming Data: Success\")\n",
    "    print(\"Target Variable Prep: Working..\")\n",
    "    weather_data = make_target_features(weather_data)\n",
    "    print(\"Target Variable Prep: Success\")\n",
    "    print(\"Preparing for Model Training: Working..\")\n",
    "    train(weather_data)\n",
    "    print(\"Model Training: Success\")\n",
    "\n",
    "else:\n",
    "    print(\"Validating Data: Failed\")\n",
    "\n",
    "\n"
   ]
  },
  {
   "cell_type": "code",
   "execution_count": 206,
   "metadata": {},
   "outputs": [],
   "source": [
    "# NOT READY\n",
    "def eval():\n",
    "        test_data = pd.read_csv(self.config.test_data_path)\n",
    "        X, y = self.prepare_test_data(test_data, self.config.feature_columns_names, self.config.target_column_names)\n",
    "\n",
    "        mlflow.set_registry_uri(self.config.mlflow_uri)\n",
    "        #tracking_url_type_store = urlparse(mlflow.get_tracking_uri()).scheme\n",
    "\n",
    "        with mlflow.start_run():\n",
    "\n",
    "            model.eval()\n",
    "            with torch.inference_mode():\n",
    "                predictions = model(X)\n",
    "\n",
    "            pred_wind_direction, pred_pressure, pred_wind_speed, pred_temperature, pred_visibility, pred_weather_type = predictions\n",
    "            stacked_pred = torch.cat([pred_wind_direction, pred_pressure, pred_wind_speed, pred_temperature, pred_visibility, pred_weather_type], dim=1)\n",
    "\n",
    "            mse = F.mse_loss(stacked_pred, y)\n",
    "            rmse = torch.sqrt(mse)\n",
    "            mae = F.l1_loss(stacked_pred, y)\n",
    "            r2 = 1 - (mse / torch.var(y))\n",
    "\n",
    "            mlflow.log_params(self.config.parameters)\n",
    "\n",
    "            mlflow.log_metric(\"MSE\", mse)\n",
    "            mlflow.log_metric(\"RMSE\", rmse)\n",
    "            mlflow.log_metric(\"MAE\", mae)\n",
    "            mlflow.log_metric(\"R2\", r2)\n",
    "\n",
    "            mlflow.pytorch.log_model(pytorch_model=model, artifact_path=\"model\", registered_model_name=\"PyTorch Model\")\n",
    "\n",
    "            logger.info(f\"Evaluation Metrics:\\n\"\n",
    "                        f\"MSE: {mse:.4f} |\"\\\n",
    "                        f\" RMSE: {rmse:.4f} |\"\\\n",
    "                        f\" MAE: {mae:.4f} |\"\\\n",
    "                        f\" R2: {r2:.4f}\")\n"
   ]
  },
  {
   "cell_type": "code",
   "execution_count": null,
   "metadata": {},
   "outputs": [],
   "source": []
  }
 ],
 "metadata": {
  "kernelspec": {
   "display_name": "Python 3",
   "language": "python",
   "name": "python3"
  },
  "language_info": {
   "codemirror_mode": {
    "name": "ipython",
    "version": 3
   },
   "file_extension": ".py",
   "mimetype": "text/x-python",
   "name": "python",
   "nbconvert_exporter": "python",
   "pygments_lexer": "ipython3",
   "version": "3.10.13"
  }
 },
 "nbformat": 4,
 "nbformat_minor": 2
}
