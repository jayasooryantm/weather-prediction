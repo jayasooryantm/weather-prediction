{
 "cells": [
  {
   "cell_type": "code",
   "execution_count": 19,
   "metadata": {},
   "outputs": [],
   "source": [
    "import os\n",
    "import json\n",
    "from pathlib import Path\n",
    "from datetime import datetime\n",
    "\n",
    "import pandas as pd\n",
    "import numpy as np\n",
    "from tqdm import tqdm\n",
    "\n",
    "from torch import nn, optim\n",
    "from torch.utils.data import Dataset, DataLoader\n",
    "import torch\n",
    "\n",
    "from sklearn.preprocessing import MinMaxScaler\n",
    "from sklearn.model_selection import train_test_split\n",
    "from sklearn.metrics import mean_squared_error, mean_absolute_error, r2_score\n",
    "from sklearn.preprocessing import StandardScaler\n"
   ]
  },
  {
   "cell_type": "code",
   "execution_count": 20,
   "metadata": {},
   "outputs": [],
   "source": [
    "def json_to_dataframe() -> pd.DataFrame:\n",
    "        \"\"\"\n",
    "            Converts the JSON data into a pandas dataframe.\n",
    "\n",
    "            :arg:\n",
    "                None\n",
    "            :return:\n",
    "                weather_data (pandas dataframe): dataframe containing the weather data\n",
    "            \"\"\"\n",
    "\n",
    "        folder_path = \"/Users/jaya/Downloads/Git/Github/weather-prediction/artifacts/data_ingestion/data\"\n",
    "        file_names = os.listdir(folder_path)\n",
    "        \n",
    "        json_filepaths = [os.path.join(folder_path, name) for name in file_names if os.path.isfile(os.path.join(folder_path, name))]\n",
    "        weather_data = None\n",
    "        for filepath in json_filepaths:\n",
    "            json_file = json.load(Path(filepath).open())\n",
    "            for day in json_file['SiteRep']['DV']['Location']['Period']:\n",
    "                df = pd.DataFrame(day['Rep'])\n",
    "                df['date'] = day['value']\n",
    "                weather_data = pd.concat([weather_data, df], ignore_index=True)\n",
    "        return weather_data\n"
   ]
  },
  {
   "cell_type": "code",
   "execution_count": 21,
   "metadata": {},
   "outputs": [],
   "source": [
    "data_headers = {\n",
    "\"D\": \"Wind Direction(compass)\",\n",
    "\"G\": \"Wind Gust(mph)\",\n",
    "\"H\": \"Screen Relative Humidity(%)\",\n",
    "\"P\": \"Pressure(hpa)\",\n",
    "\"S\": \"Wind Speed(mph)\",\n",
    "\"T\": \"Temperature(C)\",\n",
    "\"V\": \"Visibility(m)\",\n",
    "\"W\": \"Weather Type\",\n",
    "\"Pt\": \"Pressure Tendency\",\n",
    "\"Dp\": \"Dew Point(C)\",\n",
    "\"$\": \"Minutes Since 12o Clock\"\n",
    "}\n",
    "\n",
    "compass_directions_map = {\n",
    "\"N\": 1,\n",
    "\"NNE\": 2,\n",
    "\"NE\": 3,\n",
    "\"ENE\": 4,\n",
    "\"E\": 5,\n",
    "\"ESE\": 6,\n",
    "\"SE\": 7,\n",
    "\"SSE\": 8,\n",
    "\"S\": 9,\n",
    "\"SSW\": 10,\n",
    "\"SW\": 11,\n",
    "\"WSW\": 12,\n",
    "\"W\": 13,\n",
    "\"WNW\": 14,\n",
    "\"NW\": 15,\n",
    "\"NNW\": 16 }\n",
    "\n",
    "Pressure_tendency_map = {\"F\": 0, \"R\": 1, \"S\": 2}\n",
    "\n",
    "column_datatypes = {\n",
    "\"Wind Direction(compass)\": int,\n",
    "\"Wind Gust(mph)\": float,\n",
    "\"Screen Relative Humidity(%)\": float,\n",
    "\"Pressure(hpa)\": float,\n",
    "\"Wind Speed(mph)\": float,\n",
    "\"Temperature(C)\": float,\n",
    "\"Visibility(m)\": float,\n",
    "\"Weather Type\": int,\n",
    "\"Pressure Tendency\": int,\n",
    "\"Dew Point(C)\": float,\n",
    "\"Minutes Since 12o Clock\": int,\n",
    "\"date\": \"datetime64[ns]\"\n",
    "}\n",
    "\n",
    "def clean_dataframe(weather_data: pd.DataFrame):\n",
    "    weather_data.rename(columns=data_headers, inplace=True)\n",
    "    weather_data.dropna(how='any', inplace=True)\n",
    "    weather_data['Wind Direction(compass)'] = weather_data['Wind Direction(compass)'].map(compass_directions_map)\n",
    "    weather_data['Pressure Tendency'] = weather_data['Pressure Tendency'].map(Pressure_tendency_map)\n",
    "    weather_data['date'] = weather_data['date'].str.replace('Z','')\n",
    "    weather_data = weather_data.astype(column_datatypes)\n",
    "    weather_data['date'] = pd.to_datetime(weather_data['date'], format='%Y-%m-%d')\n",
    "    return weather_data\n",
    "\n",
    "def validate_data_columns(weather_data: pd.DataFrame) -> bool:\n",
    "    try:\n",
    "        validation_status = None\n",
    "        data = weather_data\n",
    "        all_columns = list(data.columns)\n",
    "        schema_columns = list(column_datatypes.keys())\n",
    "        if not sorted(all_columns) == sorted(schema_columns):\n",
    "            validation_status = False\n",
    "        else:\n",
    "            validation_status = True\n",
    "            for column, datatype in column_datatypes.items():\n",
    "                if not data[column].dtype == datatype:\n",
    "                    validation_status = False\n",
    "        return validation_status\n",
    "    except Exception as e:\n",
    "        raise e\n"
   ]
  },
  {
   "cell_type": "code",
   "execution_count": 22,
   "metadata": {},
   "outputs": [],
   "source": [
    "target_variables = ['Wind Direction(compass)', 'Pressure(hpa)', 'Wind Speed(mph)', 'Temperature(C)', 'Visibility(m)', 'Weather Type']\n",
    "target_column_names = ['Wind Direction(compass) (t+1)', 'Pressure(hpa) (t+1)', 'Wind Speed(mph) (t+1)', 'Temperature(C) (t+1)', 'Visibility(m) (t+1)', 'Weather Type (t+1)']\n",
    "\n",
    "def transform_date_feature(weather_data) -> pd.DataFrame:\n",
    "    weather_data['day'] = weather_data['date'].dt.day\n",
    "    weather_data['month'] = weather_data['date'].dt.month\n",
    "    weather_data['year'] = weather_data['date'].dt.year\n",
    "    weather_data.drop('date', axis=1, inplace=True)\n",
    "    return weather_data\n",
    "\n",
    "def make_target_features(weather_data) -> pd.DataFrame:\n",
    "    weather_data.sort_values(by=['year', 'month', 'day', 'Minutes Since 12o Clock'], kind='mergesort', inplace=True)\n",
    "    target = weather_data[target_variables].shift(-1)\n",
    "    target.columns = target_column_names\n",
    "    target = pd.concat([weather_data, target], axis=1)\n",
    "    target.dropna(inplace=True)\n",
    "    return target\n",
    "\n",
    "# def split_data(self, x, y):\n",
    "#     X_train, y_train, X_test, y_test = train_test_split(x, y, test_size=0.2, random_state=42)\n",
    "#     return X_train, y_train, X_test, y_test\n",
    "\n",
    "# def min_max_scaler(x:pd.DataFrame) -> (pd.DataFrame, MinMaxScaler):\n",
    "#     scaler = MinMaxScaler()\n",
    "\n",
    "#     scaled_x = scaler.fit_transform(x)\n",
    "#     return pd.DataFrame(scaled_x, columns=x.columns), scaler\n",
    "\n",
    "# def invert_min_max_scaler(x:pd.DataFrame, scaler: MinMaxScaler) -> pd.DataFrame:\n",
    "#     original_data = scaler.inverse_transform(x)\n",
    "\n",
    "#     return pd.DataFrame(original_data, x.columns)\n"
   ]
  },
  {
   "cell_type": "code",
   "execution_count": 23,
   "metadata": {},
   "outputs": [],
   "source": [
    "parameters = {\n",
    "  \"input_dim\": 14,\n",
    "  \"output_dim\": 1,\n",
    "  \"hidden_dim\": 20,\n",
    "  \"learning_rate\": 0.001,\n",
    "  \"batch_size\": 100,\n",
    "  \"num_batches\": 62,\n",
    "  \"num_epochs\": 100\n",
    "}\n",
    "\n",
    "class WeatherModel(nn.Module):\n",
    "    def __init__(self, parameters:dict):\n",
    "        input_dim=parameters[\"input_dim\"]\n",
    "        output_dim=parameters[\"output_dim\"]\n",
    "        hidden_dim=parameters[\"hidden_dim\"]\n",
    "\n",
    "        super(WeatherModel, self).__init__()\n",
    "\n",
    "        # Shared hidden layers\n",
    "        self.shared_layer = nn.Sequential(\n",
    "            nn.Linear(input_dim, hidden_dim),\n",
    "            nn.ReLU(),\n",
    "            nn.Linear(hidden_dim, hidden_dim),\n",
    "            nn.ReLU()\n",
    "        )\n",
    "\n",
    "        # Output layers for each output\n",
    "        self.temperature_layer = nn.Linear(hidden_dim, output_dim)\n",
    "        self.visibility_layer = nn.Linear(hidden_dim, output_dim)\n",
    "        self.wind_direction_layer = nn.Linear(hidden_dim, output_dim)\n",
    "        self.wind_speed_layer = nn.Linear(hidden_dim, output_dim)\n",
    "        self.weather_type_layer = nn.Linear(hidden_dim, output_dim)\n",
    "        self.pressure_layer = nn.Linear(hidden_dim, output_dim)\n",
    "\n",
    "    def forward(self, input):\n",
    "        # Pass through shared hidden layer\n",
    "        shared_output = self.shared_layer(input)\n",
    "\n",
    "        # Separate output predictions\n",
    "        temperature = self.temperature_layer(shared_output)\n",
    "        visibility = self.visibility_layer(shared_output)\n",
    "        wind_direction = self.wind_direction_layer(shared_output)\n",
    "        wind_speed = self.wind_speed_layer(shared_output)\n",
    "        weather_type = self.weather_type_layer(shared_output)\n",
    "        pressure = self.pressure_layer(shared_output)\n",
    "\n",
    "        return wind_direction, pressure, wind_speed, temperature, visibility, weather_type\n"
   ]
  },
  {
   "cell_type": "code",
   "execution_count": 24,
   "metadata": {},
   "outputs": [],
   "source": [
    "class WeatherDataLoader(Dataset):\n",
    "    def __init__(self, data:pd.DataFrame, features:list, target:list):\n",
    "        self.X = torch.tensor(data[features].values,\n",
    "                              dtype=torch.float32)\n",
    "        self.y = torch.tensor(data[target].values, dtype=torch.float32)\n",
    "\n",
    "    def __len__(self):\n",
    "        return len(self.X)\n",
    "\n",
    "    def __getitem__(self, idx):\n",
    "        return self.X[idx], self.y[idx]\n"
   ]
  },
  {
   "cell_type": "code",
   "execution_count": 25,
   "metadata": {},
   "outputs": [],
   "source": [
    "feature_columns_names = ['Wind Direction(compass)', 'Wind Gust(mph)', 'Screen Relative Humidity(%)', 'Pressure(hpa)', 'Wind Speed(mph)', 'Temperature(C)', 'Visibility(m)', 'Weather Type', 'Pressure Tendency', 'Dew Point(C)', 'Minutes Since 12o Clock', 'day', 'month', 'year']\n",
    "target_column_names = ['Wind Direction(compass) (t+1)', 'Pressure(hpa) (t+1)', 'Wind Speed(mph) (t+1)', 'Temperature(C) (t+1)', 'Visibility(m) (t+1)', 'Weather Type (t+1)']\n",
    "\n",
    "# Data normalization\n",
    "def normalize_data(df, feature_columns, target_columns):\n",
    "    scaler = StandardScaler()\n",
    "    df[feature_columns] = scaler.fit_transform(df[feature_columns])\n",
    "    #df[target_columns] = scaler.fit_transform(df[target_columns])\n",
    "    return df\n",
    "\n",
    "def train(weather_data:pd.DataFrame):\n",
    "\n",
    "    weather_data = normalize_data(weather_data, feature_columns_names, target_column_names)\n",
    "    \n",
    "    model = WeatherModel(parameters)\n",
    "    weather_data_class = WeatherDataLoader(data=weather_data, features=feature_columns_names, target=target_column_names)\n",
    "    dataloader = DataLoader(weather_data_class, batch_size=parameters[\"batch_size\"], shuffle=True)\n",
    "    criterion = nn.MSELoss()\n",
    "    optimizer = optim.Adam(model.parameters(), lr=parameters[\"learning_rate\"])\n",
    "\n",
    "    for epoch in range(parameters[\"num_epochs\"]):\n",
    "        all_preds = []\n",
    "        all_labels = []\n",
    "        running_loss = 0.0\n",
    "\n",
    "        with tqdm(dataloader, unit=\"batch\") as tepoch:\n",
    "            for idx, (X, y) in enumerate(tepoch):\n",
    "                tepoch.set_description(f\"Epoch {epoch + 1}\")\n",
    "\n",
    "                # Zero the gradients\n",
    "                optimizer.zero_grad()\n",
    "                # Forward pass\n",
    "                wind_direction, pressure, wind_speed, temperature, visibility, weather_type = model(X)\n",
    "\n",
    "                # Compute loss\n",
    "                loss_wind_direction = criterion(wind_direction, y[:, 0].view(-1, 1))\n",
    "                loss_pressure = criterion(pressure, y[:, 1].view(-1, 1))\n",
    "                loss_wind_speed = criterion(wind_speed, y[:, 2].view(-1, 1))\n",
    "                loss_temperature = criterion(temperature, y[:, 3].view(-1, 1))\n",
    "                loss_visibility = criterion(visibility, y[:, 4].view(-1, 1))\n",
    "                loss_weather_type = criterion(weather_type, y[:, 5].view(-1, 1))\n",
    "                # total loss\n",
    "                loss = (loss_wind_direction + loss_pressure + loss_wind_speed + loss_temperature + loss_visibility + loss_weather_type)\n",
    "\n",
    "                # Backpropagation and optimization\n",
    "                loss.backward()\n",
    "                optimizer.step()\n",
    "\n",
    "                running_loss += loss.item()\n",
    "                batch_preds = torch.cat([\n",
    "                    wind_direction.unsqueeze(1), pressure.unsqueeze(1), wind_speed.unsqueeze(1), \n",
    "                    temperature.unsqueeze(1), visibility.unsqueeze(1), weather_type.unsqueeze(1)\n",
    "                ], dim=1)\n",
    "                all_preds.append(batch_preds.detach().cpu().numpy())\n",
    "                all_labels.append(y.detach().cpu().numpy())\n",
    "\n",
    "                tepoch.set_postfix(loss=running_loss / (idx + 1))\n",
    "\n",
    "            all_preds = np.concatenate(all_preds, axis=0)\n",
    "            all_labels = np.concatenate(all_labels, axis=0)\n",
    "\n",
    "            all_preds = all_preds.reshape(-1, len(target_column_names))\n",
    "            all_labels = all_labels.reshape(-1, len(target_column_names))\n",
    "\n",
    "            mse = mean_squared_error(all_labels, all_preds)\n",
    "            rmse = np.sqrt(mse)\n",
    "            r2 = r2_score(all_labels, all_preds)\n",
    "            mae = mean_absolute_error(all_labels, all_preds)\n",
    "            \n",
    "            # Print metrics for the epoch\n",
    "            print(f'Epoch {epoch + 1}/{parameters[\"num_epochs\"]}, Loss: {running_loss / len(dataloader):.4f}')\n",
    "            print(f'MSE: {mse:.4f}, RMSE: {rmse:.4f}, R²: {r2:.4f}, MAE: {mae:.4f}')\n",
    "\n",
    "    torch.save(model.state_dict(), \"/Users/jaya/Downloads/Git/Github/weather-prediction/artifacts/model_trainer/models/model.pth\")\n"
   ]
  },
  {
   "cell_type": "code",
   "execution_count": 26,
   "metadata": {},
   "outputs": [
    {
     "name": "stdout",
     "output_type": "stream",
     "text": [
      "Process Starting\n",
      "Parsing Data: Working..\n",
      "Parsing Data: Success\n",
      "Cleaning Data: Working..\n",
      "Cleaning Data: Success\n",
      "Validating Data: Working..\n",
      "Validating Data: Success\n",
      "Transforming Data: Working..\n",
      "Transforming Data: Success\n",
      "Target Variable Prep: Working..\n",
      "Target Variable Prep: Success\n",
      "Preparing for Model Training: Working..\n"
     ]
    },
    {
     "name": "stderr",
     "output_type": "stream",
     "text": [
      "Epoch 1: 100%|██████████| 75/75 [00:00<00:00, 273.00batch/s, loss=1.26e+9]\n"
     ]
    },
    {
     "name": "stdout",
     "output_type": "stream",
     "text": [
      "Epoch 1/100, Loss: 1262691039.5733\n",
      "MSE: 210579344.0000, RMSE: 14511.3525, R²: -1034.0287, MAE: 5288.3833\n"
     ]
    },
    {
     "name": "stderr",
     "output_type": "stream",
     "text": [
      "Epoch 2: 100%|██████████| 75/75 [00:00<00:00, 245.67batch/s, loss=1.26e+9]\n"
     ]
    },
    {
     "name": "stdout",
     "output_type": "stream",
     "text": [
      "Epoch 2/100, Loss: 1263577664.8533\n",
      "MSE: 210535504.0000, RMSE: 14509.8418, R²: -1028.5302, MAE: 5286.1929\n"
     ]
    },
    {
     "name": "stderr",
     "output_type": "stream",
     "text": [
      "Epoch 3: 100%|██████████| 75/75 [00:00<00:00, 245.92batch/s, loss=1.26e+9]\n"
     ]
    },
    {
     "name": "stdout",
     "output_type": "stream",
     "text": [
      "Epoch 3/100, Loss: 1259667845.1200\n",
      "MSE: 210331408.0000, RMSE: 14502.8066, R²: -1004.0027, MAE: 5280.0161\n"
     ]
    },
    {
     "name": "stderr",
     "output_type": "stream",
     "text": [
      "Epoch 4: 100%|██████████| 75/75 [00:00<00:00, 264.78batch/s, loss=1.26e+9]\n"
     ]
    },
    {
     "name": "stdout",
     "output_type": "stream",
     "text": [
      "Epoch 4/100, Loss: 1259788247.8933\n",
      "MSE: 209798208.0000, RMSE: 14484.4121, R²: -938.2844, MAE: 5267.3394\n"
     ]
    },
    {
     "name": "stderr",
     "output_type": "stream",
     "text": [
      "Epoch 5: 100%|██████████| 75/75 [00:00<00:00, 251.48batch/s, loss=1.25e+9]\n"
     ]
    },
    {
     "name": "stdout",
     "output_type": "stream",
     "text": [
      "Epoch 5/100, Loss: 1251035010.5600\n",
      "MSE: 208733360.0000, RMSE: 14447.6074, R²: -811.8031, MAE: 5241.9653\n"
     ]
    },
    {
     "name": "stderr",
     "output_type": "stream",
     "text": [
      "Epoch 6: 100%|██████████| 75/75 [00:00<00:00, 246.37batch/s, loss=1.24e+9]\n"
     ]
    },
    {
     "name": "stdout",
     "output_type": "stream",
     "text": [
      "Epoch 6/100, Loss: 1243434339.8400\n",
      "MSE: 206952752.0000, RMSE: 14385.8525, R²: -633.9871, MAE: 5199.8931\n"
     ]
    },
    {
     "name": "stderr",
     "output_type": "stream",
     "text": [
      "Epoch 7: 100%|██████████| 75/75 [00:00<00:00, 247.10batch/s, loss=1.23e+9]\n"
     ]
    },
    {
     "name": "stdout",
     "output_type": "stream",
     "text": [
      "Epoch 7/100, Loss: 1225710818.9867\n",
      "MSE: 204322992.0000, RMSE: 14294.1592, R²: -455.8094, MAE: 5140.6533\n"
     ]
    },
    {
     "name": "stderr",
     "output_type": "stream",
     "text": [
      "Epoch 8: 100%|██████████| 75/75 [00:00<00:00, 276.57batch/s, loss=1.2e+9] \n"
     ]
    },
    {
     "name": "stdout",
     "output_type": "stream",
     "text": [
      "Epoch 8/100, Loss: 1203924714.6667\n",
      "MSE: 200759792.0000, RMSE: 14168.9727, R²: -360.2331, MAE: 5079.1514\n"
     ]
    },
    {
     "name": "stderr",
     "output_type": "stream",
     "text": [
      "Epoch 9: 100%|██████████| 75/75 [00:00<00:00, 248.52batch/s, loss=1.18e+9]\n"
     ]
    },
    {
     "name": "stdout",
     "output_type": "stream",
     "text": [
      "Epoch 9/100, Loss: 1176689449.8133\n",
      "MSE: 196205488.0000, RMSE: 14007.3369, R²: -384.0149, MAE: 5021.1362\n"
     ]
    },
    {
     "name": "stderr",
     "output_type": "stream",
     "text": [
      "Epoch 10: 100%|██████████| 75/75 [00:00<00:00, 223.65batch/s, loss=1.14e+9]\n"
     ]
    },
    {
     "name": "stdout",
     "output_type": "stream",
     "text": [
      "Epoch 10/100, Loss: 1142368378.8800\n",
      "MSE: 190592528.0000, RMSE: 13805.5254, R²: -440.8681, MAE: 4952.8628\n"
     ]
    },
    {
     "name": "stderr",
     "output_type": "stream",
     "text": [
      "Epoch 11: 100%|██████████| 75/75 [00:00<00:00, 274.46batch/s, loss=1.11e+9]\n"
     ]
    },
    {
     "name": "stdout",
     "output_type": "stream",
     "text": [
      "Epoch 11/100, Loss: 1105165841.9200\n",
      "MSE: 183908112.0000, RMSE: 13561.2725, R²: -454.7701, MAE: 4865.7280\n"
     ]
    },
    {
     "name": "stderr",
     "output_type": "stream",
     "text": [
      "Epoch 12: 100%|██████████| 75/75 [00:00<00:00, 222.83batch/s, loss=1.06e+9]\n"
     ]
    },
    {
     "name": "stdout",
     "output_type": "stream",
     "text": [
      "Epoch 12/100, Loss: 1056961794.5600\n",
      "MSE: 176203440.0000, RMSE: 13274.1641, R²: -441.7517, MAE: 4760.5435\n"
     ]
    },
    {
     "name": "stderr",
     "output_type": "stream",
     "text": [
      "Epoch 13: 100%|██████████| 75/75 [00:00<00:00, 219.54batch/s, loss=1.01e+9]\n"
     ]
    },
    {
     "name": "stdout",
     "output_type": "stream",
     "text": [
      "Epoch 13/100, Loss: 1005060613.1200\n",
      "MSE: 167575984.0000, RMSE: 12945.1143, R²: -425.8499, MAE: 4639.6880\n"
     ]
    },
    {
     "name": "stderr",
     "output_type": "stream",
     "text": [
      "Epoch 14: 100%|██████████| 75/75 [00:00<00:00, 217.62batch/s, loss=9.5e+8] \n"
     ]
    },
    {
     "name": "stdout",
     "output_type": "stream",
     "text": [
      "Epoch 14/100, Loss: 949801494.1867\n",
      "MSE: 158200144.0000, RMSE: 12577.7637, R²: -419.3602, MAE: 4504.0312\n"
     ]
    },
    {
     "name": "stderr",
     "output_type": "stream",
     "text": [
      "Epoch 15: 100%|██████████| 75/75 [00:00<00:00, 243.66batch/s, loss=8.89e+8]\n"
     ]
    },
    {
     "name": "stdout",
     "output_type": "stream",
     "text": [
      "Epoch 15/100, Loss: 888683343.3600\n",
      "MSE: 148227376.0000, RMSE: 12174.8662, R²: -419.7702, MAE: 4355.4263\n"
     ]
    },
    {
     "name": "stderr",
     "output_type": "stream",
     "text": [
      "Epoch 16: 100%|██████████| 75/75 [00:00<00:00, 223.74batch/s, loss=8.28e+8]\n"
     ]
    },
    {
     "name": "stdout",
     "output_type": "stream",
     "text": [
      "Epoch 16/100, Loss: 827775317.3333\n",
      "MSE: 137920832.0000, RMSE: 11743.9697, R²: -422.2264, MAE: 4194.1079\n"
     ]
    },
    {
     "name": "stderr",
     "output_type": "stream",
     "text": [
      "Epoch 17: 100%|██████████| 75/75 [00:00<00:00, 242.46batch/s, loss=7.65e+8]\n"
     ]
    },
    {
     "name": "stdout",
     "output_type": "stream",
     "text": [
      "Epoch 17/100, Loss: 764943980.3733\n",
      "MSE: 127481768.0000, RMSE: 11290.7822, R²: -424.7674, MAE: 4022.1331\n"
     ]
    },
    {
     "name": "stderr",
     "output_type": "stream",
     "text": [
      "Epoch 18: 100%|██████████| 75/75 [00:00<00:00, 275.27batch/s, loss=7.02e+8]\n"
     ]
    },
    {
     "name": "stdout",
     "output_type": "stream",
     "text": [
      "Epoch 18/100, Loss: 702083673.1733\n",
      "MSE: 117113544.0000, RMSE: 10821.9014, R²: -426.0649, MAE: 3841.9836\n"
     ]
    },
    {
     "name": "stderr",
     "output_type": "stream",
     "text": [
      "Epoch 19: 100%|██████████| 75/75 [00:00<00:00, 249.33batch/s, loss=6.44e+8]\n"
     ]
    },
    {
     "name": "stdout",
     "output_type": "stream",
     "text": [
      "Epoch 19/100, Loss: 643912511.5733\n",
      "MSE: 107097272.0000, RMSE: 10348.7812, R²: -426.5599, MAE: 3658.0859\n"
     ]
    },
    {
     "name": "stderr",
     "output_type": "stream",
     "text": [
      "Epoch 20: 100%|██████████| 75/75 [00:00<00:00, 223.49batch/s, loss=5.85e+8]\n"
     ]
    },
    {
     "name": "stdout",
     "output_type": "stream",
     "text": [
      "Epoch 20/100, Loss: 585148881.4933\n",
      "MSE: 97603496.0000, RMSE: 9879.4482, R²: -426.3975, MAE: 3472.8220\n"
     ]
    },
    {
     "name": "stderr",
     "output_type": "stream",
     "text": [
      "Epoch 21: 100%|██████████| 75/75 [00:00<00:00, 243.03batch/s, loss=5.33e+8]\n"
     ]
    },
    {
     "name": "stdout",
     "output_type": "stream",
     "text": [
      "Epoch 21/100, Loss: 533097868.3733\n",
      "MSE: 88832256.0000, RMSE: 9425.0869, R²: -425.3436, MAE: 3291.5459\n"
     ]
    },
    {
     "name": "stderr",
     "output_type": "stream",
     "text": [
      "Epoch 22: 100%|██████████| 75/75 [00:00<00:00, 276.87batch/s, loss=4.85e+8]\n"
     ]
    },
    {
     "name": "stdout",
     "output_type": "stream",
     "text": [
      "Epoch 22/100, Loss: 485201531.3067\n",
      "MSE: 80899528.0000, RMSE: 8994.4160, R²: -423.1936, MAE: 3118.3809\n"
     ]
    },
    {
     "name": "stderr",
     "output_type": "stream",
     "text": [
      "Epoch 23: 100%|██████████| 75/75 [00:00<00:00, 249.30batch/s, loss=4.43e+8]\n"
     ]
    },
    {
     "name": "stdout",
     "output_type": "stream",
     "text": [
      "Epoch 23/100, Loss: 442521565.0133\n",
      "MSE: 73874120.0000, RMSE: 8595.0059, R²: -420.1702, MAE: 2958.5957\n"
     ]
    },
    {
     "name": "stderr",
     "output_type": "stream",
     "text": [
      "Epoch 24: 100%|██████████| 75/75 [00:00<00:00, 248.17batch/s, loss=4.05e+8]\n"
     ]
    },
    {
     "name": "stdout",
     "output_type": "stream",
     "text": [
      "Epoch 24/100, Loss: 405348525.2267\n",
      "MSE: 67612760.0000, RMSE: 8222.6982, R²: -415.7940, MAE: 2808.6035\n"
     ]
    },
    {
     "name": "stderr",
     "output_type": "stream",
     "text": [
      "Epoch 25: 100%|██████████| 75/75 [00:00<00:00, 246.03batch/s, loss=3.73e+8]\n"
     ]
    },
    {
     "name": "stdout",
     "output_type": "stream",
     "text": [
      "Epoch 25/100, Loss: 372504420.6933\n",
      "MSE: 62090012.0000, RMSE: 7879.7217, R²: -411.0781, MAE: 2670.0002\n"
     ]
    },
    {
     "name": "stderr",
     "output_type": "stream",
     "text": [
      "Epoch 26: 100%|██████████| 75/75 [00:00<00:00, 277.22batch/s, loss=3.45e+8]\n"
     ]
    },
    {
     "name": "stdout",
     "output_type": "stream",
     "text": [
      "Epoch 26/100, Loss: 344660712.1067\n",
      "MSE: 57449444.0000, RMSE: 7579.5410, R²: -404.9764, MAE: 2549.5569\n"
     ]
    },
    {
     "name": "stderr",
     "output_type": "stream",
     "text": [
      "Epoch 27: 100%|██████████| 75/75 [00:00<00:00, 242.50batch/s, loss=3.21e+8]\n"
     ]
    },
    {
     "name": "stdout",
     "output_type": "stream",
     "text": [
      "Epoch 27/100, Loss: 321177263.5733\n",
      "MSE: 53604484.0000, RMSE: 7321.5083, R²: -398.6927, MAE: 2449.3345\n"
     ]
    },
    {
     "name": "stderr",
     "output_type": "stream",
     "text": [
      "Epoch 28: 100%|██████████| 75/75 [00:00<00:00, 223.63batch/s, loss=3.03e+8]\n"
     ]
    },
    {
     "name": "stdout",
     "output_type": "stream",
     "text": [
      "Epoch 28/100, Loss: 302570006.8267\n",
      "MSE: 50421404.0000, RMSE: 7100.8032, R²: -390.9048, MAE: 2365.0017\n"
     ]
    },
    {
     "name": "stderr",
     "output_type": "stream",
     "text": [
      "Epoch 29: 100%|██████████| 75/75 [00:00<00:00, 158.46batch/s, loss=2.87e+8]\n"
     ]
    },
    {
     "name": "stdout",
     "output_type": "stream",
     "text": [
      "Epoch 29/100, Loss: 286566102.4000\n",
      "MSE: 47750980.0000, RMSE: 6910.2085, R²: -382.4894, MAE: 2294.2583\n"
     ]
    },
    {
     "name": "stderr",
     "output_type": "stream",
     "text": [
      "Epoch 30: 100%|██████████| 75/75 [00:00<00:00, 134.78batch/s, loss=2.73e+8]\n"
     ]
    },
    {
     "name": "stdout",
     "output_type": "stream",
     "text": [
      "Epoch 30/100, Loss: 272637067.0933\n",
      "MSE: 45455732.0000, RMSE: 6742.0864, R²: -373.5966, MAE: 2231.5625\n"
     ]
    },
    {
     "name": "stderr",
     "output_type": "stream",
     "text": [
      "Epoch 31: 100%|██████████| 75/75 [00:00<00:00, 253.27batch/s, loss=2.61e+8]\n"
     ]
    },
    {
     "name": "stdout",
     "output_type": "stream",
     "text": [
      "Epoch 31/100, Loss: 261036730.6667\n",
      "MSE: 43446044.0000, RMSE: 6591.3613, R²: -363.6087, MAE: 2176.2415\n"
     ]
    },
    {
     "name": "stderr",
     "output_type": "stream",
     "text": [
      "Epoch 32: 100%|██████████| 75/75 [00:00<00:00, 240.15batch/s, loss=2.5e+8] \n"
     ]
    },
    {
     "name": "stdout",
     "output_type": "stream",
     "text": [
      "Epoch 32/100, Loss: 249725177.6000\n",
      "MSE: 41625532.0000, RMSE: 6451.7852, R²: -354.0620, MAE: 2124.2227\n"
     ]
    },
    {
     "name": "stderr",
     "output_type": "stream",
     "text": [
      "Epoch 33: 100%|██████████| 75/75 [00:00<00:00, 229.63batch/s, loss=2.4e+8] \n"
     ]
    },
    {
     "name": "stdout",
     "output_type": "stream",
     "text": [
      "Epoch 33/100, Loss: 240402865.0667\n",
      "MSE: 39964072.0000, RMSE: 6321.7144, R²: -343.8215, MAE: 2076.2776\n"
     ]
    },
    {
     "name": "stderr",
     "output_type": "stream",
     "text": [
      "Epoch 34: 100%|██████████| 75/75 [00:00<00:00, 209.16batch/s, loss=2.3e+8] \n"
     ]
    },
    {
     "name": "stdout",
     "output_type": "stream",
     "text": [
      "Epoch 34/100, Loss: 230312376.5333\n",
      "MSE: 38421204.0000, RMSE: 6198.4839, R²: -333.5142, MAE: 2030.7284\n"
     ]
    },
    {
     "name": "stderr",
     "output_type": "stream",
     "text": [
      "Epoch 35: 100%|██████████| 75/75 [00:00<00:00, 186.08batch/s, loss=2.22e+8]\n"
     ]
    },
    {
     "name": "stdout",
     "output_type": "stream",
     "text": [
      "Epoch 35/100, Loss: 221958001.6000\n",
      "MSE: 36985164.0000, RMSE: 6081.5430, R²: -323.2133, MAE: 1987.4069\n"
     ]
    },
    {
     "name": "stderr",
     "output_type": "stream",
     "text": [
      "Epoch 36: 100%|██████████| 75/75 [00:00<00:00, 196.34batch/s, loss=2.14e+8]\n"
     ]
    },
    {
     "name": "stdout",
     "output_type": "stream",
     "text": [
      "Epoch 36/100, Loss: 213904198.6133\n",
      "MSE: 35647440.0000, RMSE: 5970.5479, R²: -312.6355, MAE: 1945.7770\n"
     ]
    },
    {
     "name": "stderr",
     "output_type": "stream",
     "text": [
      "Epoch 37: 100%|██████████| 75/75 [00:00<00:00, 213.92batch/s, loss=2.07e+8]\n"
     ]
    },
    {
     "name": "stdout",
     "output_type": "stream",
     "text": [
      "Epoch 37/100, Loss: 206524381.3333\n",
      "MSE: 34384588.0000, RMSE: 5863.8374, R²: -302.9085, MAE: 1905.9005\n"
     ]
    },
    {
     "name": "stderr",
     "output_type": "stream",
     "text": [
      "Epoch 38: 100%|██████████| 75/75 [00:00<00:00, 206.28batch/s, loss=1.99e+8]\n"
     ]
    },
    {
     "name": "stdout",
     "output_type": "stream",
     "text": [
      "Epoch 38/100, Loss: 199311605.8667\n",
      "MSE: 33201232.0000, RMSE: 5762.0508, R²: -293.1410, MAE: 1868.4147\n"
     ]
    },
    {
     "name": "stderr",
     "output_type": "stream",
     "text": [
      "Epoch 39: 100%|██████████| 75/75 [00:00<00:00, 217.96batch/s, loss=1.93e+8]\n"
     ]
    },
    {
     "name": "stdout",
     "output_type": "stream",
     "text": [
      "Epoch 39/100, Loss: 192684686.7200\n",
      "MSE: 32086222.0000, RMSE: 5664.4702, R²: -283.7290, MAE: 1832.2064\n"
     ]
    },
    {
     "name": "stderr",
     "output_type": "stream",
     "text": [
      "Epoch 40: 100%|██████████| 75/75 [00:00<00:00, 249.09batch/s, loss=1.86e+8]\n"
     ]
    },
    {
     "name": "stdout",
     "output_type": "stream",
     "text": [
      "Epoch 40/100, Loss: 185894699.6267\n",
      "MSE: 31043984.0000, RMSE: 5571.7129, R²: -275.4339, MAE: 1798.3495\n"
     ]
    },
    {
     "name": "stderr",
     "output_type": "stream",
     "text": [
      "Epoch 41: 100%|██████████| 75/75 [00:00<00:00, 210.17batch/s, loss=1.8e+8] \n"
     ]
    },
    {
     "name": "stdout",
     "output_type": "stream",
     "text": [
      "Epoch 41/100, Loss: 179992560.3200\n",
      "MSE: 30072042.0000, RMSE: 5483.7983, R²: -266.1527, MAE: 1766.2749\n"
     ]
    },
    {
     "name": "stderr",
     "output_type": "stream",
     "text": [
      "Epoch 42: 100%|██████████| 75/75 [00:00<00:00, 208.35batch/s, loss=1.75e+8]\n"
     ]
    },
    {
     "name": "stdout",
     "output_type": "stream",
     "text": [
      "Epoch 42/100, Loss: 174933906.6667\n",
      "MSE: 29161854.0000, RMSE: 5400.1719, R²: -258.2767, MAE: 1736.0682\n"
     ]
    },
    {
     "name": "stderr",
     "output_type": "stream",
     "text": [
      "Epoch 43: 100%|██████████| 75/75 [00:00<00:00, 211.63batch/s, loss=1.7e+8] \n"
     ]
    },
    {
     "name": "stdout",
     "output_type": "stream",
     "text": [
      "Epoch 43/100, Loss: 169855411.8400\n",
      "MSE: 28315238.0000, RMSE: 5321.2065, R²: -250.6563, MAE: 1707.2091\n"
     ]
    },
    {
     "name": "stderr",
     "output_type": "stream",
     "text": [
      "Epoch 44: 100%|██████████| 75/75 [00:00<00:00, 233.69batch/s, loss=1.65e+8]\n"
     ]
    },
    {
     "name": "stdout",
     "output_type": "stream",
     "text": [
      "Epoch 44/100, Loss: 165188705.1733\n",
      "MSE: 27528696.0000, RMSE: 5246.7798, R²: -243.3450, MAE: 1680.2139\n"
     ]
    },
    {
     "name": "stderr",
     "output_type": "stream",
     "text": [
      "Epoch 45: 100%|██████████| 75/75 [00:00<00:00, 233.62batch/s, loss=1.61e+8]\n"
     ]
    },
    {
     "name": "stdout",
     "output_type": "stream",
     "text": [
      "Epoch 45/100, Loss: 160575547.3067\n",
      "MSE: 26798574.0000, RMSE: 5176.7339, R²: -236.5979, MAE: 1654.2875\n"
     ]
    },
    {
     "name": "stderr",
     "output_type": "stream",
     "text": [
      "Epoch 46: 100%|██████████| 75/75 [00:00<00:00, 235.65batch/s, loss=1.57e+8]\n"
     ]
    },
    {
     "name": "stdout",
     "output_type": "stream",
     "text": [
      "Epoch 46/100, Loss: 156595489.9200\n",
      "MSE: 26117270.0000, RMSE: 5110.5059, R²: -230.3864, MAE: 1630.5264\n"
     ]
    },
    {
     "name": "stderr",
     "output_type": "stream",
     "text": [
      "Epoch 47: 100%|██████████| 75/75 [00:00<00:00, 223.98batch/s, loss=1.53e+8]\n"
     ]
    },
    {
     "name": "stdout",
     "output_type": "stream",
     "text": [
      "Epoch 47/100, Loss: 152986593.7067\n",
      "MSE: 25485762.0000, RMSE: 5048.3423, R²: -224.9660, MAE: 1607.4823\n"
     ]
    },
    {
     "name": "stderr",
     "output_type": "stream",
     "text": [
      "Epoch 48: 100%|██████████| 75/75 [00:00<00:00, 237.10batch/s, loss=1.49e+8]\n"
     ]
    },
    {
     "name": "stdout",
     "output_type": "stream",
     "text": [
      "Epoch 48/100, Loss: 149153158.8267\n",
      "MSE: 24898462.0000, RMSE: 4989.8359, R²: -219.7932, MAE: 1585.8663\n"
     ]
    },
    {
     "name": "stderr",
     "output_type": "stream",
     "text": [
      "Epoch 49: 100%|██████████| 75/75 [00:00<00:00, 216.67batch/s, loss=1.46e+8]\n"
     ]
    },
    {
     "name": "stdout",
     "output_type": "stream",
     "text": [
      "Epoch 49/100, Loss: 145911429.1200\n",
      "MSE: 24352144.0000, RMSE: 4934.7891, R²: -214.9083, MAE: 1565.5653\n"
     ]
    },
    {
     "name": "stderr",
     "output_type": "stream",
     "text": [
      "Epoch 50: 100%|██████████| 75/75 [00:00<00:00, 232.85batch/s, loss=1.43e+8]\n"
     ]
    },
    {
     "name": "stdout",
     "output_type": "stream",
     "text": [
      "Epoch 50/100, Loss: 142727303.3600\n",
      "MSE: 23848792.0000, RMSE: 4883.5225, R²: -210.5740, MAE: 1546.6119\n"
     ]
    },
    {
     "name": "stderr",
     "output_type": "stream",
     "text": [
      "Epoch 51: 100%|██████████| 75/75 [00:00<00:00, 216.75batch/s, loss=1.4e+8] \n"
     ]
    },
    {
     "name": "stdout",
     "output_type": "stream",
     "text": [
      "Epoch 51/100, Loss: 140281949.4400\n",
      "MSE: 23386288.0000, RMSE: 4835.9370, R²: -206.9267, MAE: 1528.2251\n"
     ]
    },
    {
     "name": "stderr",
     "output_type": "stream",
     "text": [
      "Epoch 52: 100%|██████████| 75/75 [00:00<00:00, 226.07batch/s, loss=1.38e+8]\n"
     ]
    },
    {
     "name": "stdout",
     "output_type": "stream",
     "text": [
      "Epoch 52/100, Loss: 137620218.7733\n",
      "MSE: 22950454.0000, RMSE: 4790.6631, R²: -203.0754, MAE: 1511.2446\n"
     ]
    },
    {
     "name": "stderr",
     "output_type": "stream",
     "text": [
      "Epoch 53: 100%|██████████| 75/75 [00:00<00:00, 238.99batch/s, loss=1.35e+8]\n"
     ]
    },
    {
     "name": "stdout",
     "output_type": "stream",
     "text": [
      "Epoch 53/100, Loss: 135174743.6800\n",
      "MSE: 22547890.0000, RMSE: 4748.4619, R²: -200.3856, MAE: 1494.9374\n"
     ]
    },
    {
     "name": "stderr",
     "output_type": "stream",
     "text": [
      "Epoch 54: 100%|██████████| 75/75 [00:00<00:00, 258.52batch/s, loss=1.33e+8]\n"
     ]
    },
    {
     "name": "stdout",
     "output_type": "stream",
     "text": [
      "Epoch 54/100, Loss: 133255548.2667\n",
      "MSE: 22174790.0000, RMSE: 4709.0117, R²: -197.6808, MAE: 1479.7008\n"
     ]
    },
    {
     "name": "stderr",
     "output_type": "stream",
     "text": [
      "Epoch 55: 100%|██████████| 75/75 [00:00<00:00, 221.52batch/s, loss=1.31e+8]\n"
     ]
    },
    {
     "name": "stdout",
     "output_type": "stream",
     "text": [
      "Epoch 55/100, Loss: 131147978.5600\n",
      "MSE: 21826986.0000, RMSE: 4671.9360, R²: -195.4298, MAE: 1465.2438\n"
     ]
    },
    {
     "name": "stderr",
     "output_type": "stream",
     "text": [
      "Epoch 56: 100%|██████████| 75/75 [00:00<00:00, 238.81batch/s, loss=1.29e+8]\n"
     ]
    },
    {
     "name": "stdout",
     "output_type": "stream",
     "text": [
      "Epoch 56/100, Loss: 129088619.3067\n",
      "MSE: 21505518.0000, RMSE: 4637.4043, R²: -193.1773, MAE: 1451.4977\n"
     ]
    },
    {
     "name": "stderr",
     "output_type": "stream",
     "text": [
      "Epoch 57: 100%|██████████| 75/75 [00:00<00:00, 252.67batch/s, loss=1.27e+8]\n"
     ]
    },
    {
     "name": "stdout",
     "output_type": "stream",
     "text": [
      "Epoch 57/100, Loss: 127387971.5200\n",
      "MSE: 21203790.0000, RMSE: 4604.7573, R²: -191.4440, MAE: 1438.7012\n"
     ]
    },
    {
     "name": "stderr",
     "output_type": "stream",
     "text": [
      "Epoch 58: 100%|██████████| 75/75 [00:00<00:00, 233.39batch/s, loss=1.25e+8]\n"
     ]
    },
    {
     "name": "stdout",
     "output_type": "stream",
     "text": [
      "Epoch 58/100, Loss: 125371772.4800\n",
      "MSE: 20927412.0000, RMSE: 4574.6489, R²: -190.0716, MAE: 1426.3885\n"
     ]
    },
    {
     "name": "stderr",
     "output_type": "stream",
     "text": [
      "Epoch 59: 100%|██████████| 75/75 [00:00<00:00, 229.52batch/s, loss=1.24e+8]\n"
     ]
    },
    {
     "name": "stdout",
     "output_type": "stream",
     "text": [
      "Epoch 59/100, Loss: 124161857.9200\n",
      "MSE: 20667578.0000, RMSE: 4546.1606, R²: -188.3606, MAE: 1414.7440\n"
     ]
    },
    {
     "name": "stderr",
     "output_type": "stream",
     "text": [
      "Epoch 60: 100%|██████████| 75/75 [00:00<00:00, 262.93batch/s, loss=1.23e+8]\n"
     ]
    },
    {
     "name": "stdout",
     "output_type": "stream",
     "text": [
      "Epoch 60/100, Loss: 122553153.5467\n",
      "MSE: 20427506.0000, RMSE: 4519.6797, R²: -187.1117, MAE: 1404.1810\n"
     ]
    },
    {
     "name": "stderr",
     "output_type": "stream",
     "text": [
      "Epoch 61: 100%|██████████| 75/75 [00:00<00:00, 233.37batch/s, loss=1.21e+8]\n"
     ]
    },
    {
     "name": "stdout",
     "output_type": "stream",
     "text": [
      "Epoch 61/100, Loss: 121199243.3067\n",
      "MSE: 20206212.0000, RMSE: 4495.1318, R²: -186.5239, MAE: 1393.5631\n"
     ]
    },
    {
     "name": "stderr",
     "output_type": "stream",
     "text": [
      "Epoch 62: 100%|██████████| 75/75 [00:00<00:00, 228.27batch/s, loss=1.2e+8] \n"
     ]
    },
    {
     "name": "stdout",
     "output_type": "stream",
     "text": [
      "Epoch 62/100, Loss: 119936673.1733\n",
      "MSE: 19998592.0000, RMSE: 4471.9785, R²: -185.5382, MAE: 1383.4655\n"
     ]
    },
    {
     "name": "stderr",
     "output_type": "stream",
     "text": [
      "Epoch 63: 100%|██████████| 75/75 [00:00<00:00, 241.00batch/s, loss=1.19e+8]\n"
     ]
    },
    {
     "name": "stdout",
     "output_type": "stream",
     "text": [
      "Epoch 63/100, Loss: 118740170.7733\n",
      "MSE: 19807498.0000, RMSE: 4450.5615, R²: -185.1928, MAE: 1374.1947\n"
     ]
    },
    {
     "name": "stderr",
     "output_type": "stream",
     "text": [
      "Epoch 64: 100%|██████████| 75/75 [00:00<00:00, 259.67batch/s, loss=1.18e+8]\n"
     ]
    },
    {
     "name": "stdout",
     "output_type": "stream",
     "text": [
      "Epoch 64/100, Loss: 117757203.3067\n",
      "MSE: 19632516.0000, RMSE: 4430.8594, R²: -184.2867, MAE: 1365.2782\n"
     ]
    },
    {
     "name": "stderr",
     "output_type": "stream",
     "text": [
      "Epoch 65: 100%|██████████| 75/75 [00:00<00:00, 213.08batch/s, loss=1.17e+8]\n"
     ]
    },
    {
     "name": "stdout",
     "output_type": "stream",
     "text": [
      "Epoch 65/100, Loss: 116891522.0267\n",
      "MSE: 19471210.0000, RMSE: 4412.6196, R²: -183.2023, MAE: 1357.6586\n"
     ]
    },
    {
     "name": "stderr",
     "output_type": "stream",
     "text": [
      "Epoch 66: 100%|██████████| 75/75 [00:00<00:00, 227.84batch/s, loss=1.16e+8]\n"
     ]
    },
    {
     "name": "stdout",
     "output_type": "stream",
     "text": [
      "Epoch 66/100, Loss: 115732204.6400\n",
      "MSE: 19317838.0000, RMSE: 4395.2061, R²: -183.5224, MAE: 1349.1415\n"
     ]
    },
    {
     "name": "stderr",
     "output_type": "stream",
     "text": [
      "Epoch 67: 100%|██████████| 75/75 [00:00<00:00, 253.25batch/s, loss=1.15e+8]\n"
     ]
    },
    {
     "name": "stdout",
     "output_type": "stream",
     "text": [
      "Epoch 67/100, Loss: 114848798.5600\n",
      "MSE: 19175490.0000, RMSE: 4378.9829, R²: -183.2006, MAE: 1341.8785\n"
     ]
    },
    {
     "name": "stderr",
     "output_type": "stream",
     "text": [
      "Epoch 68: 100%|██████████| 75/75 [00:00<00:00, 235.59batch/s, loss=1.14e+8]\n"
     ]
    },
    {
     "name": "stdout",
     "output_type": "stream",
     "text": [
      "Epoch 68/100, Loss: 113994193.7600\n",
      "MSE: 19049906.0000, RMSE: 4364.6196, R²: -182.4163, MAE: 1334.9518\n"
     ]
    },
    {
     "name": "stderr",
     "output_type": "stream",
     "text": [
      "Epoch 69: 100%|██████████| 75/75 [00:00<00:00, 232.31batch/s, loss=1.13e+8]\n"
     ]
    },
    {
     "name": "stdout",
     "output_type": "stream",
     "text": [
      "Epoch 69/100, Loss: 113472370.5067\n",
      "MSE: 18925554.0000, RMSE: 4350.3511, R²: -182.7363, MAE: 1328.2462\n"
     ]
    },
    {
     "name": "stderr",
     "output_type": "stream",
     "text": [
      "Epoch 70: 100%|██████████| 75/75 [00:00<00:00, 258.81batch/s, loss=1.13e+8]\n"
     ]
    },
    {
     "name": "stdout",
     "output_type": "stream",
     "text": [
      "Epoch 70/100, Loss: 113015290.5600\n",
      "MSE: 18812582.0000, RMSE: 4337.3472, R²: -182.7420, MAE: 1321.7241\n"
     ]
    },
    {
     "name": "stderr",
     "output_type": "stream",
     "text": [
      "Epoch 71: 100%|██████████| 75/75 [00:00<00:00, 234.84batch/s, loss=1.12e+8]\n"
     ]
    },
    {
     "name": "stdout",
     "output_type": "stream",
     "text": [
      "Epoch 71/100, Loss: 112476198.5067\n",
      "MSE: 18709246.0000, RMSE: 4325.4185, R²: -182.2220, MAE: 1315.8600\n"
     ]
    },
    {
     "name": "stderr",
     "output_type": "stream",
     "text": [
      "Epoch 72: 100%|██████████| 75/75 [00:00<00:00, 219.91batch/s, loss=1.12e+8]\n"
     ]
    },
    {
     "name": "stdout",
     "output_type": "stream",
     "text": [
      "Epoch 72/100, Loss: 111516555.8400\n",
      "MSE: 18613002.0000, RMSE: 4314.2788, R²: -182.2990, MAE: 1310.7438\n"
     ]
    },
    {
     "name": "stderr",
     "output_type": "stream",
     "text": [
      "Epoch 73: 100%|██████████| 75/75 [00:00<00:00, 227.81batch/s, loss=1.11e+8]\n"
     ]
    },
    {
     "name": "stdout",
     "output_type": "stream",
     "text": [
      "Epoch 73/100, Loss: 111088253.5467\n",
      "MSE: 18522698.0000, RMSE: 4303.8003, R²: -182.6568, MAE: 1305.4424\n"
     ]
    },
    {
     "name": "stderr",
     "output_type": "stream",
     "text": [
      "Epoch 74: 100%|██████████| 75/75 [00:00<00:00, 241.66batch/s, loss=1.1e+8] \n"
     ]
    },
    {
     "name": "stdout",
     "output_type": "stream",
     "text": [
      "Epoch 74/100, Loss: 110472221.2267\n",
      "MSE: 18441454.0000, RMSE: 4294.3516, R²: -182.7902, MAE: 1300.1135\n"
     ]
    },
    {
     "name": "stderr",
     "output_type": "stream",
     "text": [
      "Epoch 75: 100%|██████████| 75/75 [00:00<00:00, 223.38batch/s, loss=1.1e+8] \n"
     ]
    },
    {
     "name": "stdout",
     "output_type": "stream",
     "text": [
      "Epoch 75/100, Loss: 110170297.8667\n",
      "MSE: 18363662.0000, RMSE: 4285.2842, R²: -182.7175, MAE: 1295.7960\n"
     ]
    },
    {
     "name": "stderr",
     "output_type": "stream",
     "text": [
      "Epoch 76: 100%|██████████| 75/75 [00:00<00:00, 221.40batch/s, loss=1.1e+8] \n"
     ]
    },
    {
     "name": "stdout",
     "output_type": "stream",
     "text": [
      "Epoch 76/100, Loss: 109802505.8133\n",
      "MSE: 18293754.0000, RMSE: 4277.1196, R²: -182.7576, MAE: 1291.3217\n"
     ]
    },
    {
     "name": "stderr",
     "output_type": "stream",
     "text": [
      "Epoch 77: 100%|██████████| 75/75 [00:00<00:00, 228.13batch/s, loss=1.09e+8]\n"
     ]
    },
    {
     "name": "stdout",
     "output_type": "stream",
     "text": [
      "Epoch 77/100, Loss: 109477922.8800\n",
      "MSE: 18226306.0000, RMSE: 4269.2280, R²: -182.9472, MAE: 1287.0822\n"
     ]
    },
    {
     "name": "stderr",
     "output_type": "stream",
     "text": [
      "Epoch 78: 100%|██████████| 75/75 [00:00<00:00, 254.82batch/s, loss=1.09e+8]\n"
     ]
    },
    {
     "name": "stdout",
     "output_type": "stream",
     "text": [
      "Epoch 78/100, Loss: 108804911.9467\n",
      "MSE: 18164820.0000, RMSE: 4262.0205, R²: -182.7248, MAE: 1283.8527\n"
     ]
    },
    {
     "name": "stderr",
     "output_type": "stream",
     "text": [
      "Epoch 79: 100%|██████████| 75/75 [00:00<00:00, 219.05batch/s, loss=1.08e+8]\n"
     ]
    },
    {
     "name": "stdout",
     "output_type": "stream",
     "text": [
      "Epoch 79/100, Loss: 108484753.6000\n",
      "MSE: 18106706.0000, RMSE: 4255.1978, R²: -182.7106, MAE: 1280.1759\n"
     ]
    },
    {
     "name": "stderr",
     "output_type": "stream",
     "text": [
      "Epoch 80: 100%|██████████| 75/75 [00:00<00:00, 219.55batch/s, loss=1.08e+8]\n"
     ]
    },
    {
     "name": "stdout",
     "output_type": "stream",
     "text": [
      "Epoch 80/100, Loss: 108379335.8933\n",
      "MSE: 18055638.0000, RMSE: 4249.1929, R²: -182.9421, MAE: 1276.5824\n"
     ]
    },
    {
     "name": "stderr",
     "output_type": "stream",
     "text": [
      "Epoch 81: 100%|██████████| 75/75 [00:00<00:00, 252.68batch/s, loss=1.08e+8]\n"
     ]
    },
    {
     "name": "stdout",
     "output_type": "stream",
     "text": [
      "Epoch 81/100, Loss: 107932474.0800\n",
      "MSE: 18004098.0000, RMSE: 4243.1235, R²: -182.9946, MAE: 1273.8173\n"
     ]
    },
    {
     "name": "stderr",
     "output_type": "stream",
     "text": [
      "Epoch 82: 100%|██████████| 75/75 [00:00<00:00, 227.66batch/s, loss=1.08e+8]\n"
     ]
    },
    {
     "name": "stdout",
     "output_type": "stream",
     "text": [
      "Epoch 82/100, Loss: 107747309.3867\n",
      "MSE: 17959104.0000, RMSE: 4237.8184, R²: -183.4733, MAE: 1270.4275\n"
     ]
    },
    {
     "name": "stderr",
     "output_type": "stream",
     "text": [
      "Epoch 83: 100%|██████████| 75/75 [00:00<00:00, 221.49batch/s, loss=1.08e+8]\n"
     ]
    },
    {
     "name": "stdout",
     "output_type": "stream",
     "text": [
      "Epoch 83/100, Loss: 107745828.6400\n",
      "MSE: 17914686.0000, RMSE: 4232.5742, R²: -183.3144, MAE: 1267.8909\n"
     ]
    },
    {
     "name": "stderr",
     "output_type": "stream",
     "text": [
      "Epoch 84: 100%|██████████| 75/75 [00:00<00:00, 214.93batch/s, loss=1.07e+8]\n"
     ]
    },
    {
     "name": "stdout",
     "output_type": "stream",
     "text": [
      "Epoch 84/100, Loss: 107124932.1067\n",
      "MSE: 17871856.0000, RMSE: 4227.5117, R²: -183.6127, MAE: 1265.0045\n"
     ]
    },
    {
     "name": "stderr",
     "output_type": "stream",
     "text": [
      "Epoch 85: 100%|██████████| 75/75 [00:00<00:00, 253.85batch/s, loss=1.07e+8]\n"
     ]
    },
    {
     "name": "stdout",
     "output_type": "stream",
     "text": [
      "Epoch 85/100, Loss: 106766073.4933\n",
      "MSE: 17833034.0000, RMSE: 4222.9175, R²: -183.1660, MAE: 1262.4613\n"
     ]
    },
    {
     "name": "stderr",
     "output_type": "stream",
     "text": [
      "Epoch 86: 100%|██████████| 75/75 [00:00<00:00, 228.88batch/s, loss=1.07e+8]\n"
     ]
    },
    {
     "name": "stdout",
     "output_type": "stream",
     "text": [
      "Epoch 86/100, Loss: 106970806.6667\n",
      "MSE: 17797170.0000, RMSE: 4218.6694, R²: -183.5276, MAE: 1260.1708\n"
     ]
    },
    {
     "name": "stderr",
     "output_type": "stream",
     "text": [
      "Epoch 87: 100%|██████████| 75/75 [00:00<00:00, 223.57batch/s, loss=1.06e+8]\n"
     ]
    },
    {
     "name": "stdout",
     "output_type": "stream",
     "text": [
      "Epoch 87/100, Loss: 106278329.3333\n",
      "MSE: 17761524.0000, RMSE: 4214.4424, R²: -183.3884, MAE: 1258.1171\n"
     ]
    },
    {
     "name": "stderr",
     "output_type": "stream",
     "text": [
      "Epoch 88: 100%|██████████| 75/75 [00:00<00:00, 223.88batch/s, loss=1.06e+8]\n"
     ]
    },
    {
     "name": "stdout",
     "output_type": "stream",
     "text": [
      "Epoch 88/100, Loss: 106261373.1200\n",
      "MSE: 17729132.0000, RMSE: 4210.5977, R²: -183.9249, MAE: 1255.7194\n"
     ]
    },
    {
     "name": "stderr",
     "output_type": "stream",
     "text": [
      "Epoch 89: 100%|██████████| 75/75 [00:00<00:00, 227.91batch/s, loss=1.06e+8]\n"
     ]
    },
    {
     "name": "stdout",
     "output_type": "stream",
     "text": [
      "Epoch 89/100, Loss: 105989082.2400\n",
      "MSE: 17697938.0000, RMSE: 4206.8916, R²: -183.5500, MAE: 1254.3109\n"
     ]
    },
    {
     "name": "stderr",
     "output_type": "stream",
     "text": [
      "Epoch 90: 100%|██████████| 75/75 [00:00<00:00, 216.39batch/s, loss=1.06e+8]\n"
     ]
    },
    {
     "name": "stdout",
     "output_type": "stream",
     "text": [
      "Epoch 90/100, Loss: 105855053.3867\n",
      "MSE: 17667782.0000, RMSE: 4203.3062, R²: -183.8514, MAE: 1251.7802\n"
     ]
    },
    {
     "name": "stderr",
     "output_type": "stream",
     "text": [
      "Epoch 91: 100%|██████████| 75/75 [00:00<00:00, 247.91batch/s, loss=1.06e+8]\n"
     ]
    },
    {
     "name": "stdout",
     "output_type": "stream",
     "text": [
      "Epoch 91/100, Loss: 105990036.9600\n",
      "MSE: 17640328.0000, RMSE: 4200.0391, R²: -183.6395, MAE: 1250.4589\n"
     ]
    },
    {
     "name": "stderr",
     "output_type": "stream",
     "text": [
      "Epoch 92: 100%|██████████| 75/75 [00:00<00:00, 220.85batch/s, loss=1.06e+8]\n"
     ]
    },
    {
     "name": "stdout",
     "output_type": "stream",
     "text": [
      "Epoch 92/100, Loss: 105588945.1733\n",
      "MSE: 17611110.0000, RMSE: 4196.5591, R²: -184.1653, MAE: 1248.4777\n"
     ]
    },
    {
     "name": "stderr",
     "output_type": "stream",
     "text": [
      "Epoch 93: 100%|██████████| 75/75 [00:00<00:00, 207.08batch/s, loss=1.06e+8]\n"
     ]
    },
    {
     "name": "stdout",
     "output_type": "stream",
     "text": [
      "Epoch 93/100, Loss: 105526429.7600\n",
      "MSE: 17585158.0000, RMSE: 4193.4663, R²: -183.9047, MAE: 1246.8141\n"
     ]
    },
    {
     "name": "stderr",
     "output_type": "stream",
     "text": [
      "Epoch 94: 100%|██████████| 75/75 [00:00<00:00, 222.22batch/s, loss=1.06e+8]\n"
     ]
    },
    {
     "name": "stdout",
     "output_type": "stream",
     "text": [
      "Epoch 94/100, Loss: 105519248.6400\n",
      "MSE: 17559442.0000, RMSE: 4190.3989, R²: -184.1069, MAE: 1244.7777\n"
     ]
    },
    {
     "name": "stderr",
     "output_type": "stream",
     "text": [
      "Epoch 95: 100%|██████████| 75/75 [00:00<00:00, 231.67batch/s, loss=1.05e+8]\n"
     ]
    },
    {
     "name": "stdout",
     "output_type": "stream",
     "text": [
      "Epoch 95/100, Loss: 105053406.0800\n",
      "MSE: 17533542.0000, RMSE: 4187.3071, R²: -184.3337, MAE: 1243.3472\n"
     ]
    },
    {
     "name": "stderr",
     "output_type": "stream",
     "text": [
      "Epoch 96: 100%|██████████| 75/75 [00:00<00:00, 218.33batch/s, loss=1.05e+8]\n"
     ]
    },
    {
     "name": "stdout",
     "output_type": "stream",
     "text": [
      "Epoch 96/100, Loss: 105197942.2400\n",
      "MSE: 17513086.0000, RMSE: 4184.8638, R²: -184.3303, MAE: 1242.2710\n"
     ]
    },
    {
     "name": "stderr",
     "output_type": "stream",
     "text": [
      "Epoch 97: 100%|██████████| 75/75 [00:00<00:00, 223.84batch/s, loss=1.05e+8]\n"
     ]
    },
    {
     "name": "stdout",
     "output_type": "stream",
     "text": [
      "Epoch 97/100, Loss: 105070991.3600\n",
      "MSE: 17489954.0000, RMSE: 4182.0991, R²: -184.4959, MAE: 1240.8062\n"
     ]
    },
    {
     "name": "stderr",
     "output_type": "stream",
     "text": [
      "Epoch 98: 100%|██████████| 75/75 [00:00<00:00, 243.40batch/s, loss=1.05e+8]\n"
     ]
    },
    {
     "name": "stdout",
     "output_type": "stream",
     "text": [
      "Epoch 98/100, Loss: 104848296.9067\n",
      "MSE: 17466712.0000, RMSE: 4179.3193, R²: -184.2818, MAE: 1239.3690\n"
     ]
    },
    {
     "name": "stderr",
     "output_type": "stream",
     "text": [
      "Epoch 99: 100%|██████████| 75/75 [00:00<00:00, 210.93batch/s, loss=1.05e+8]\n"
     ]
    },
    {
     "name": "stdout",
     "output_type": "stream",
     "text": [
      "Epoch 99/100, Loss: 104621341.1733\n",
      "MSE: 17447154.0000, RMSE: 4176.9790, R²: -184.3455, MAE: 1238.0991\n"
     ]
    },
    {
     "name": "stderr",
     "output_type": "stream",
     "text": [
      "Epoch 100: 100%|██████████| 75/75 [00:00<00:00, 221.93batch/s, loss=1.04e+8]\n"
     ]
    },
    {
     "name": "stdout",
     "output_type": "stream",
     "text": [
      "Epoch 100/100, Loss: 104219163.4667\n",
      "MSE: 17423388.0000, RMSE: 4174.1333, R²: -184.0522, MAE: 1236.9452\n",
      "Model Training: Success\n"
     ]
    }
   ],
   "source": [
    "print(\"Process Starting\")\n",
    "print(\"Parsing Data: Working..\")\n",
    "weather_data = json_to_dataframe()\n",
    "print(\"Parsing Data: Success\")\n",
    "print(\"Cleaning Data: Working..\")\n",
    "weather_data = clean_dataframe(weather_data)\n",
    "print(\"Cleaning Data: Success\")\n",
    "print(\"Validating Data: Working..\")\n",
    "validation_status = validate_data_columns(weather_data)\n",
    "\n",
    "if validation_status:\n",
    "    print(\"Validating Data: Success\")\n",
    "    print(\"Transforming Data: Working..\")\n",
    "    weather_data = transform_date_feature(weather_data)\n",
    "    print(\"Transforming Data: Success\")\n",
    "    print(\"Target Variable Prep: Working..\")\n",
    "    weather_data = make_target_features(weather_data)\n",
    "    print(\"Target Variable Prep: Success\")\n",
    "    print(\"Preparing for Model Training: Working..\")\n",
    "    train(weather_data)\n",
    "    print(\"Model Training: Success\")\n",
    "\n",
    "else:\n",
    "    print(\"Validating Data: Failed\")\n",
    "\n",
    "\n"
   ]
  },
  {
   "cell_type": "code",
   "execution_count": null,
   "metadata": {},
   "outputs": [],
   "source": []
  }
 ],
 "metadata": {
  "kernelspec": {
   "display_name": "Python 3",
   "language": "python",
   "name": "python3"
  },
  "language_info": {
   "codemirror_mode": {
    "name": "ipython",
    "version": 3
   },
   "file_extension": ".py",
   "mimetype": "text/x-python",
   "name": "python",
   "nbconvert_exporter": "python",
   "pygments_lexer": "ipython3",
   "version": "3.10.13"
  }
 },
 "nbformat": 4,
 "nbformat_minor": 2
}
