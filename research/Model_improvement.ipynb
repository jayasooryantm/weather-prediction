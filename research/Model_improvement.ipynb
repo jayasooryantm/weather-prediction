{
 "cells": [
  {
   "cell_type": "code",
   "execution_count": 511,
   "metadata": {},
   "outputs": [],
   "source": [
    "import os\n",
    "import json\n",
    "from pathlib import Path\n",
    "from datetime import datetime\n",
    "\n",
    "import pandas as pd\n",
    "import numpy as np\n",
    "from tqdm import tqdm\n",
    "\n",
    "from torch import nn, optim\n",
    "from torch.utils.data import Dataset, DataLoader\n",
    "import torch\n",
    "\n",
    "from sklearn.preprocessing import MinMaxScaler\n",
    "from sklearn.model_selection import train_test_split\n",
    "from sklearn.metrics import mean_squared_error, mean_absolute_error, r2_score\n",
    "from sklearn.preprocessing import StandardScaler\n"
   ]
  },
  {
   "cell_type": "code",
   "execution_count": 512,
   "metadata": {},
   "outputs": [],
   "source": [
    "def json_to_dataframe() -> pd.DataFrame:\n",
    "        \"\"\"\n",
    "            Converts the JSON data into a pandas dataframe.\n",
    "\n",
    "            :arg:\n",
    "                None\n",
    "            :return:\n",
    "                weather_data (pandas dataframe): dataframe containing the weather data\n",
    "            \"\"\"\n",
    "\n",
    "        folder_path = \"/Users/jaya/Downloads/Git/Github/weather-prediction/artifacts/data_ingestion/data\"\n",
    "        file_names = os.listdir(folder_path)\n",
    "        \n",
    "        json_filepaths = [os.path.join(folder_path, name) for name in file_names if os.path.isfile(os.path.join(folder_path, name))]\n",
    "        weather_data = None\n",
    "        for filepath in json_filepaths:\n",
    "            json_file = json.load(Path(filepath).open())\n",
    "            for day in json_file['SiteRep']['DV']['Location']['Period']:\n",
    "                df = pd.DataFrame(day['Rep'])\n",
    "                df['date'] = day['value']\n",
    "                weather_data = pd.concat([weather_data, df], ignore_index=True)\n",
    "        return weather_data\n"
   ]
  },
  {
   "cell_type": "code",
   "execution_count": 513,
   "metadata": {},
   "outputs": [],
   "source": [
    "data_headers = {\n",
    "\"D\": \"Wind Direction(compass)\",\n",
    "\"G\": \"Wind Gust(mph)\",\n",
    "\"H\": \"Screen Relative Humidity(%)\",\n",
    "\"P\": \"Pressure(hpa)\",\n",
    "\"S\": \"Wind Speed(mph)\",\n",
    "\"T\": \"Temperature(C)\",\n",
    "\"V\": \"Visibility(m)\",\n",
    "\"W\": \"Weather Type\",\n",
    "\"Pt\": \"Pressure Tendency\",\n",
    "\"Dp\": \"Dew Point(C)\",\n",
    "\"$\": \"Minutes Since 12o Clock\"\n",
    "}\n",
    "\n",
    "compass_directions_map = {\n",
    "\"N\": 1,\n",
    "\"NNE\": 2,\n",
    "\"NE\": 3,\n",
    "\"ENE\": 4,\n",
    "\"E\": 5,\n",
    "\"ESE\": 6,\n",
    "\"SE\": 7,\n",
    "\"SSE\": 8,\n",
    "\"S\": 9,\n",
    "\"SSW\": 10,\n",
    "\"SW\": 11,\n",
    "\"WSW\": 12,\n",
    "\"W\": 13,\n",
    "\"WNW\": 14,\n",
    "\"NW\": 15,\n",
    "\"NNW\": 16 }\n",
    "\n",
    "Pressure_tendency_map = {\"F\": 0, \"R\": 1, \"S\": 2}\n",
    "\n",
    "column_datatypes = {\n",
    "\"Wind Direction(compass)\": int,\n",
    "\"Wind Gust(mph)\": float,\n",
    "\"Screen Relative Humidity(%)\": float,\n",
    "\"Pressure(hpa)\": float,\n",
    "\"Wind Speed(mph)\": float,\n",
    "\"Temperature(C)\": float,\n",
    "\"Visibility(m)\": float,\n",
    "\"Weather Type\": int,\n",
    "\"Pressure Tendency\": int,\n",
    "\"Dew Point(C)\": float,\n",
    "\"Minutes Since 12o Clock\": int,\n",
    "\"date\": \"datetime64[ns]\"\n",
    "}\n",
    "\n",
    "def clean_dataframe(weather_data: pd.DataFrame):\n",
    "    weather_data.rename(columns=data_headers, inplace=True)\n",
    "    weather_data.dropna(how='any', inplace=True)\n",
    "    weather_data['Wind Direction(compass)'] = weather_data['Wind Direction(compass)'].map(compass_directions_map)\n",
    "    weather_data['Pressure Tendency'] = weather_data['Pressure Tendency'].map(Pressure_tendency_map)\n",
    "    weather_data['date'] = weather_data['date'].str.replace('Z','')\n",
    "    weather_data = weather_data.astype(column_datatypes)\n",
    "    weather_data['date'] = pd.to_datetime(weather_data['date'], format='%Y-%m-%d')\n",
    "    return weather_data\n",
    "\n",
    "def validate_data_columns(weather_data: pd.DataFrame) -> bool:\n",
    "    try:\n",
    "        validation_status = None\n",
    "        data = weather_data\n",
    "        all_columns = list(data.columns)\n",
    "        schema_columns = list(column_datatypes.keys())\n",
    "        if not sorted(all_columns) == sorted(schema_columns):\n",
    "            validation_status = False\n",
    "        else:\n",
    "            validation_status = True\n",
    "            for column, datatype in column_datatypes.items():\n",
    "                if not data[column].dtype == datatype:\n",
    "                    validation_status = False\n",
    "        return validation_status\n",
    "    except Exception as e:\n",
    "        raise e\n"
   ]
  },
  {
   "cell_type": "code",
   "execution_count": 514,
   "metadata": {},
   "outputs": [],
   "source": [
    "target_variables = ['Wind Direction(compass)', 'Pressure(hpa)', 'Wind Speed(mph)', 'Temperature(C)', 'Visibility(m)', 'Weather Type']\n",
    "target_column_names = ['Wind Direction(compass) (t+1)', 'Pressure(hpa) (t+1)', 'Wind Speed(mph) (t+1)', 'Temperature(C) (t+1)', 'Visibility(m) (t+1)', 'Weather Type (t+1)']\n",
    "\n",
    "def transform_date_feature(weather_data) -> pd.DataFrame:\n",
    "    weather_data['day'] = weather_data['date'].dt.day\n",
    "    weather_data['month'] = weather_data['date'].dt.month\n",
    "    weather_data['year'] = weather_data['date'].dt.year\n",
    "    weather_data.drop('date', axis=1, inplace=True)\n",
    "    return weather_data\n",
    "\n",
    "def make_target_features(weather_data) -> pd.DataFrame:\n",
    "    weather_data.sort_values(by=['year', 'month', 'day', 'Minutes Since 12o Clock'], kind='mergesort', inplace=True)\n",
    "    target = weather_data[target_variables].shift(-1)\n",
    "    target.columns = target_column_names\n",
    "    target = pd.concat([weather_data, target], axis=1)\n",
    "    target.dropna(inplace=True)\n",
    "    return target\n",
    "\n",
    "# def split_data(self, x, y):\n",
    "#     X_train, y_train, X_test, y_test = train_test_split(x, y, test_size=0.2, random_state=42)\n",
    "#     return X_train, y_train, X_test, y_test\n",
    "\n",
    "# def min_max_scaler(x:pd.DataFrame) -> (pd.DataFrame, MinMaxScaler):\n",
    "#     scaler = MinMaxScaler()\n",
    "\n",
    "#     scaled_x = scaler.fit_transform(x)\n",
    "#     return pd.DataFrame(scaled_x, columns=x.columns), scaler\n",
    "\n",
    "# def invert_min_max_scaler(x:pd.DataFrame, scaler: MinMaxScaler) -> pd.DataFrame:\n",
    "#     original_data = scaler.inverse_transform(x)\n",
    "\n",
    "#     return pd.DataFrame(original_data, x.columns)\n"
   ]
  },
  {
   "cell_type": "code",
   "execution_count": 515,
   "metadata": {},
   "outputs": [],
   "source": [
    "parameters = {\n",
    "  \"input_dim\": 14,\n",
    "  \"output_dim\": 1,\n",
    "  \"hidden_dim\": 20,\n",
    "  \"learning_rate\": 0.001,\n",
    "  \"batch_size\": 100,\n",
    "  \"num_batches\": 62,\n",
    "  \"num_epochs\": 100\n",
    "}\n",
    "\n",
    "class WeatherModel(nn.Module):\n",
    "    def __init__(self, parameters:dict):\n",
    "        input_dim=parameters[\"input_dim\"]\n",
    "        output_dim=parameters[\"output_dim\"]\n",
    "        hidden_dim=parameters[\"hidden_dim\"]\n",
    "\n",
    "        super(WeatherModel, self).__init__()\n",
    "\n",
    "        # Shared hidden layers\n",
    "        self.shared_layer = nn.Sequential(\n",
    "            nn.Linear(input_dim, hidden_dim),\n",
    "            nn.ReLU(),\n",
    "            nn.Linear(hidden_dim, hidden_dim),\n",
    "            nn.ReLU()\n",
    "        )\n",
    "\n",
    "        # Output layers for each output\n",
    "        self.temperature_layer = nn.Linear(hidden_dim, output_dim)\n",
    "        self.visibility_layer = nn.Linear(hidden_dim, output_dim)\n",
    "        self.wind_direction_layer = nn.Linear(hidden_dim, output_dim)\n",
    "        self.wind_speed_layer = nn.Linear(hidden_dim, output_dim)\n",
    "        self.weather_type_layer = nn.Linear(hidden_dim, output_dim)\n",
    "        self.pressure_layer = nn.Linear(hidden_dim, output_dim)\n",
    "\n",
    "    def forward(self, input):\n",
    "        # Pass through shared hidden layer\n",
    "        shared_output = self.shared_layer(input)\n",
    "\n",
    "        # Separate output predictions\n",
    "        temperature = self.temperature_layer(shared_output)\n",
    "        visibility = self.visibility_layer(shared_output)\n",
    "        wind_direction = self.wind_direction_layer(shared_output)\n",
    "        wind_speed = self.wind_speed_layer(shared_output)\n",
    "        weather_type = self.weather_type_layer(shared_output)\n",
    "        pressure = self.pressure_layer(shared_output)\n",
    "\n",
    "        return wind_direction, pressure, wind_speed, temperature, visibility, weather_type\n"
   ]
  },
  {
   "cell_type": "code",
   "execution_count": 516,
   "metadata": {},
   "outputs": [],
   "source": [
    "class WeatherDataLoader(Dataset):\n",
    "    def __init__(self, data:pd.DataFrame, features:list, target:list):\n",
    "        self.X = torch.tensor(data[features].values,\n",
    "                              dtype=torch.float32)\n",
    "        self.y = torch.tensor(data[target].values, dtype=torch.float32)\n",
    "\n",
    "    def __len__(self):\n",
    "        return len(self.X)\n",
    "\n",
    "    def __getitem__(self, idx):\n",
    "        return self.X[idx], self.y[idx]\n"
   ]
  },
  {
   "cell_type": "code",
   "execution_count": 517,
   "metadata": {},
   "outputs": [],
   "source": [
    "feature_columns_names = ['Wind Direction(compass)', 'Wind Gust(mph)', 'Screen Relative Humidity(%)', 'Pressure(hpa)', 'Wind Speed(mph)', 'Temperature(C)', 'Visibility(m)', 'Weather Type', 'Pressure Tendency', 'Dew Point(C)', 'Minutes Since 12o Clock', 'day', 'month', 'year']\n",
    "target_column_names = ['Wind Direction(compass) (t+1)', 'Pressure(hpa) (t+1)', 'Wind Speed(mph) (t+1)', 'Temperature(C) (t+1)', 'Visibility(m) (t+1)', 'Weather Type (t+1)']\n",
    "\n",
    "# Data normalization\n",
    "def normalize_data(df, feature_columns, target_columns):\n",
    "    scaler = StandardScaler()\n",
    "    df[feature_columns] = scaler.fit_transform(df[feature_columns])\n",
    "    df[target_columns] = scaler.fit_transform(df[target_columns])\n",
    "    return df\n",
    "\n",
    "def train(weather_data:pd.DataFrame):\n",
    "\n",
    "    weather_data = normalize_data(weather_data, feature_columns_names, target_column_names)\n",
    "    \n",
    "    model = WeatherModel(parameters)\n",
    "    weather_data_class = WeatherDataLoader(data=weather_data, features=feature_columns_names, target=target_column_names)\n",
    "    dataloader = DataLoader(weather_data_class, batch_size=parameters[\"batch_size\"], shuffle=True)\n",
    "    criterion = nn.MSELoss()\n",
    "    optimizer = optim.Adam(model.parameters(), lr=parameters[\"learning_rate\"])\n",
    "\n",
    "    for epoch in range(parameters[\"num_epochs\"]):\n",
    "        all_preds = []\n",
    "        all_labels = []\n",
    "        running_loss = 0.0\n",
    "\n",
    "        with tqdm(dataloader, unit=\"batch\") as tepoch:\n",
    "            for idx, (X, y) in enumerate(tepoch):\n",
    "                tepoch.set_description(f\"Epoch {epoch + 1}\")\n",
    "\n",
    "                # Zero the gradients\n",
    "                optimizer.zero_grad()\n",
    "                # Forward pass\n",
    "                wind_direction, pressure, wind_speed, temperature, visibility, weather_type = model(X)\n",
    "\n",
    "                # Compute loss\n",
    "                loss_wind_direction = criterion(wind_direction, y[:, 0].view(-1, 1))\n",
    "                loss_pressure = criterion(pressure, y[:, 1].view(-1, 1))\n",
    "                loss_wind_speed = criterion(wind_speed, y[:, 2].view(-1, 1))\n",
    "                loss_temperature = criterion(temperature, y[:, 3].view(-1, 1))\n",
    "                loss_visibility = criterion(visibility, y[:, 4].view(-1, 1))\n",
    "                loss_weather_type = criterion(weather_type, y[:, 5].view(-1, 1))\n",
    "                # total loss\n",
    "                loss = (loss_wind_direction + loss_pressure + loss_wind_speed + loss_temperature + loss_visibility + loss_weather_type)\n",
    "\n",
    "                # Backpropagation and optimization\n",
    "                loss.backward()\n",
    "                optimizer.step()\n",
    "\n",
    "                running_loss += loss.item()\n",
    "                batch_preds = torch.cat([\n",
    "                    wind_direction.unsqueeze(1), pressure.unsqueeze(1), wind_speed.unsqueeze(1), \n",
    "                    temperature.unsqueeze(1), visibility.unsqueeze(1), weather_type.unsqueeze(1)\n",
    "                ], dim=1)\n",
    "                all_preds.append(batch_preds.detach().cpu().numpy())\n",
    "                all_labels.append(y.detach().cpu().numpy())\n",
    "\n",
    "                tepoch.set_postfix(loss=running_loss / (idx + 1))\n",
    "\n",
    "            all_preds = np.concatenate(all_preds, axis=0)\n",
    "            all_labels = np.concatenate(all_labels, axis=0)\n",
    "\n",
    "            all_preds = all_preds.reshape(-1, len(target_column_names))\n",
    "            all_labels = all_labels.reshape(-1, len(target_column_names))\n",
    "\n",
    "            mse = mean_squared_error(all_labels, all_preds)\n",
    "            rmse = np.sqrt(mse)\n",
    "            r2 = r2_score(all_labels, all_preds)\n",
    "            mae = mean_absolute_error(all_labels, all_preds)\n",
    "            \n",
    "            # Print metrics for the epoch\n",
    "            print(f'Epoch {epoch + 1}/{parameters[\"num_epochs\"]}, Loss: {running_loss / len(dataloader):.4f}')\n",
    "            print(f'MSE: {mse:.4f}, RMSE: {rmse:.4f}, R²: {r2:.4f}, MAE: {mae:.4f}')\n"
   ]
  },
  {
   "cell_type": "code",
   "execution_count": 518,
   "metadata": {},
   "outputs": [
    {
     "name": "stdout",
     "output_type": "stream",
     "text": [
      "Process Starting\n",
      "Parsing Data: Working..\n",
      "Parsing Data: Success\n",
      "Cleaning Data: Working..\n",
      "Cleaning Data: Success\n",
      "Validating Data: Working..\n",
      "Validating Data: Success\n",
      "Transforming Data: Working..\n",
      "Transforming Data: Success\n",
      "Target Variable Prep: Working..\n",
      "Target Variable Prep: Success\n",
      "Preparing for Model Training: Working..\n"
     ]
    },
    {
     "name": "stderr",
     "output_type": "stream",
     "text": [
      "Epoch 1: 100%|██████████| 75/75 [00:00<00:00, 373.79batch/s, loss=5.56]\n"
     ]
    },
    {
     "name": "stdout",
     "output_type": "stream",
     "text": [
      "Epoch 1/100, Loss: 5.5612\n",
      "MSE: 0.9277, RMSE: 0.9632, R²: 0.0723, MAE: 0.7635\n"
     ]
    },
    {
     "name": "stderr",
     "output_type": "stream",
     "text": [
      "Epoch 2: 100%|██████████| 75/75 [00:00<00:00, 382.64batch/s, loss=3.55]\n"
     ]
    },
    {
     "name": "stdout",
     "output_type": "stream",
     "text": [
      "Epoch 2/100, Loss: 3.5466\n",
      "MSE: 0.5917, RMSE: 0.7692, R²: 0.4083, MAE: 0.5961\n"
     ]
    },
    {
     "name": "stderr",
     "output_type": "stream",
     "text": [
      "Epoch 3: 100%|██████████| 75/75 [00:00<00:00, 385.44batch/s, loss=2.25]\n"
     ]
    },
    {
     "name": "stdout",
     "output_type": "stream",
     "text": [
      "Epoch 3/100, Loss: 2.2483\n",
      "MSE: 0.3751, RMSE: 0.6125, R²: 0.6249, MAE: 0.4546\n"
     ]
    },
    {
     "name": "stderr",
     "output_type": "stream",
     "text": [
      "Epoch 4: 100%|██████████| 75/75 [00:00<00:00, 318.40batch/s, loss=1.71]\n"
     ]
    },
    {
     "name": "stdout",
     "output_type": "stream",
     "text": [
      "Epoch 4/100, Loss: 1.7076\n",
      "MSE: 0.2842, RMSE: 0.5331, R²: 0.7158, MAE: 0.3717\n"
     ]
    },
    {
     "name": "stderr",
     "output_type": "stream",
     "text": [
      "Epoch 5: 100%|██████████| 75/75 [00:00<00:00, 275.07batch/s, loss=1.52]\n"
     ]
    },
    {
     "name": "stdout",
     "output_type": "stream",
     "text": [
      "Epoch 5/100, Loss: 1.5184\n",
      "MSE: 0.2529, RMSE: 0.5029, R²: 0.7471, MAE: 0.3295\n"
     ]
    },
    {
     "name": "stderr",
     "output_type": "stream",
     "text": [
      "Epoch 6: 100%|██████████| 75/75 [00:00<00:00, 146.95batch/s, loss=1.46]\n"
     ]
    },
    {
     "name": "stdout",
     "output_type": "stream",
     "text": [
      "Epoch 6/100, Loss: 1.4593\n",
      "MSE: 0.2435, RMSE: 0.4934, R²: 0.7565, MAE: 0.3153\n"
     ]
    },
    {
     "name": "stderr",
     "output_type": "stream",
     "text": [
      "Epoch 7: 100%|██████████| 75/75 [00:00<00:00, 360.59batch/s, loss=1.43]\n"
     ]
    },
    {
     "name": "stdout",
     "output_type": "stream",
     "text": [
      "Epoch 7/100, Loss: 1.4274\n",
      "MSE: 0.2381, RMSE: 0.4879, R²: 0.7619, MAE: 0.3069\n"
     ]
    },
    {
     "name": "stderr",
     "output_type": "stream",
     "text": [
      "Epoch 8: 100%|██████████| 75/75 [00:00<00:00, 376.66batch/s, loss=1.4] \n"
     ]
    },
    {
     "name": "stdout",
     "output_type": "stream",
     "text": [
      "Epoch 8/100, Loss: 1.4048\n",
      "MSE: 0.2344, RMSE: 0.4842, R²: 0.7656, MAE: 0.3024\n"
     ]
    },
    {
     "name": "stderr",
     "output_type": "stream",
     "text": [
      "Epoch 9: 100%|██████████| 75/75 [00:00<00:00, 368.76batch/s, loss=1.39]\n"
     ]
    },
    {
     "name": "stdout",
     "output_type": "stream",
     "text": [
      "Epoch 9/100, Loss: 1.3922\n",
      "MSE: 0.2320, RMSE: 0.4816, R²: 0.7680, MAE: 0.2986\n"
     ]
    },
    {
     "name": "stderr",
     "output_type": "stream",
     "text": [
      "Epoch 10: 100%|██████████| 75/75 [00:00<00:00, 376.13batch/s, loss=1.38]\n"
     ]
    },
    {
     "name": "stdout",
     "output_type": "stream",
     "text": [
      "Epoch 10/100, Loss: 1.3812\n",
      "MSE: 0.2302, RMSE: 0.4798, R²: 0.7698, MAE: 0.2956\n"
     ]
    },
    {
     "name": "stderr",
     "output_type": "stream",
     "text": [
      "Epoch 11: 100%|██████████| 75/75 [00:00<00:00, 365.10batch/s, loss=1.37]\n"
     ]
    },
    {
     "name": "stdout",
     "output_type": "stream",
     "text": [
      "Epoch 11/100, Loss: 1.3705\n",
      "MSE: 0.2287, RMSE: 0.4782, R²: 0.7713, MAE: 0.2930\n"
     ]
    },
    {
     "name": "stderr",
     "output_type": "stream",
     "text": [
      "Epoch 12: 100%|██████████| 75/75 [00:00<00:00, 246.63batch/s, loss=1.37]\n"
     ]
    },
    {
     "name": "stdout",
     "output_type": "stream",
     "text": [
      "Epoch 12/100, Loss: 1.3653\n",
      "MSE: 0.2275, RMSE: 0.4770, R²: 0.7725, MAE: 0.2919\n"
     ]
    },
    {
     "name": "stderr",
     "output_type": "stream",
     "text": [
      "Epoch 13: 100%|██████████| 75/75 [00:00<00:00, 376.90batch/s, loss=1.36]\n"
     ]
    },
    {
     "name": "stdout",
     "output_type": "stream",
     "text": [
      "Epoch 13/100, Loss: 1.3604\n",
      "MSE: 0.2264, RMSE: 0.4758, R²: 0.7736, MAE: 0.2898\n"
     ]
    },
    {
     "name": "stderr",
     "output_type": "stream",
     "text": [
      "Epoch 14: 100%|██████████| 75/75 [00:00<00:00, 364.49batch/s, loss=1.36]\n"
     ]
    },
    {
     "name": "stdout",
     "output_type": "stream",
     "text": [
      "Epoch 14/100, Loss: 1.3571\n",
      "MSE: 0.2257, RMSE: 0.4751, R²: 0.7743, MAE: 0.2900\n"
     ]
    },
    {
     "name": "stderr",
     "output_type": "stream",
     "text": [
      "Epoch 15: 100%|██████████| 75/75 [00:00<00:00, 365.95batch/s, loss=1.35]\n"
     ]
    },
    {
     "name": "stdout",
     "output_type": "stream",
     "text": [
      "Epoch 15/100, Loss: 1.3510\n",
      "MSE: 0.2251, RMSE: 0.4744, R²: 0.7749, MAE: 0.2876\n"
     ]
    },
    {
     "name": "stderr",
     "output_type": "stream",
     "text": [
      "Epoch 16: 100%|██████████| 75/75 [00:00<00:00, 375.28batch/s, loss=1.35]\n"
     ]
    },
    {
     "name": "stdout",
     "output_type": "stream",
     "text": [
      "Epoch 16/100, Loss: 1.3456\n",
      "MSE: 0.2246, RMSE: 0.4739, R²: 0.7754, MAE: 0.2867\n"
     ]
    },
    {
     "name": "stderr",
     "output_type": "stream",
     "text": [
      "Epoch 17: 100%|██████████| 75/75 [00:00<00:00, 376.09batch/s, loss=1.34]\n"
     ]
    },
    {
     "name": "stdout",
     "output_type": "stream",
     "text": [
      "Epoch 17/100, Loss: 1.3406\n",
      "MSE: 0.2236, RMSE: 0.4729, R²: 0.7764, MAE: 0.2856\n"
     ]
    },
    {
     "name": "stderr",
     "output_type": "stream",
     "text": [
      "Epoch 18: 100%|██████████| 75/75 [00:00<00:00, 222.51batch/s, loss=1.34]\n"
     ]
    },
    {
     "name": "stdout",
     "output_type": "stream",
     "text": [
      "Epoch 18/100, Loss: 1.3403\n",
      "MSE: 0.2233, RMSE: 0.4725, R²: 0.7767, MAE: 0.2855\n"
     ]
    },
    {
     "name": "stderr",
     "output_type": "stream",
     "text": [
      "Epoch 19: 100%|██████████| 75/75 [00:00<00:00, 246.61batch/s, loss=1.34]\n"
     ]
    },
    {
     "name": "stdout",
     "output_type": "stream",
     "text": [
      "Epoch 19/100, Loss: 1.3395\n",
      "MSE: 0.2230, RMSE: 0.4723, R²: 0.7770, MAE: 0.2850\n"
     ]
    },
    {
     "name": "stderr",
     "output_type": "stream",
     "text": [
      "Epoch 20: 100%|██████████| 75/75 [00:00<00:00, 242.40batch/s, loss=1.34]\n"
     ]
    },
    {
     "name": "stdout",
     "output_type": "stream",
     "text": [
      "Epoch 20/100, Loss: 1.3390\n",
      "MSE: 0.2226, RMSE: 0.4718, R²: 0.7774, MAE: 0.2837\n"
     ]
    },
    {
     "name": "stderr",
     "output_type": "stream",
     "text": [
      "Epoch 21: 100%|██████████| 75/75 [00:00<00:00, 184.37batch/s, loss=1.33]\n"
     ]
    },
    {
     "name": "stdout",
     "output_type": "stream",
     "text": [
      "Epoch 21/100, Loss: 1.3306\n",
      "MSE: 0.2220, RMSE: 0.4712, R²: 0.7780, MAE: 0.2832\n"
     ]
    },
    {
     "name": "stderr",
     "output_type": "stream",
     "text": [
      "Epoch 22: 100%|██████████| 75/75 [00:00<00:00, 333.87batch/s, loss=1.33]\n"
     ]
    },
    {
     "name": "stdout",
     "output_type": "stream",
     "text": [
      "Epoch 22/100, Loss: 1.3299\n",
      "MSE: 0.2216, RMSE: 0.4707, R²: 0.7784, MAE: 0.2823\n"
     ]
    },
    {
     "name": "stderr",
     "output_type": "stream",
     "text": [
      "Epoch 23: 100%|██████████| 75/75 [00:00<00:00, 353.73batch/s, loss=1.33]\n"
     ]
    },
    {
     "name": "stdout",
     "output_type": "stream",
     "text": [
      "Epoch 23/100, Loss: 1.3302\n",
      "MSE: 0.2216, RMSE: 0.4708, R²: 0.7784, MAE: 0.2822\n"
     ]
    },
    {
     "name": "stderr",
     "output_type": "stream",
     "text": [
      "Epoch 24: 100%|██████████| 75/75 [00:00<00:00, 189.47batch/s, loss=1.33]\n"
     ]
    },
    {
     "name": "stdout",
     "output_type": "stream",
     "text": [
      "Epoch 24/100, Loss: 1.3258\n",
      "MSE: 0.2211, RMSE: 0.4702, R²: 0.7789, MAE: 0.2811\n"
     ]
    },
    {
     "name": "stderr",
     "output_type": "stream",
     "text": [
      "Epoch 25: 100%|██████████| 75/75 [00:00<00:00, 336.59batch/s, loss=1.32]\n"
     ]
    },
    {
     "name": "stdout",
     "output_type": "stream",
     "text": [
      "Epoch 25/100, Loss: 1.3215\n",
      "MSE: 0.2205, RMSE: 0.4696, R²: 0.7795, MAE: 0.2808\n"
     ]
    },
    {
     "name": "stderr",
     "output_type": "stream",
     "text": [
      "Epoch 26: 100%|██████████| 75/75 [00:00<00:00, 365.98batch/s, loss=1.33]\n"
     ]
    },
    {
     "name": "stdout",
     "output_type": "stream",
     "text": [
      "Epoch 26/100, Loss: 1.3251\n",
      "MSE: 0.2206, RMSE: 0.4697, R²: 0.7794, MAE: 0.2798\n"
     ]
    },
    {
     "name": "stderr",
     "output_type": "stream",
     "text": [
      "Epoch 27: 100%|██████████| 75/75 [00:00<00:00, 347.41batch/s, loss=1.32]\n"
     ]
    },
    {
     "name": "stdout",
     "output_type": "stream",
     "text": [
      "Epoch 27/100, Loss: 1.3213\n",
      "MSE: 0.2202, RMSE: 0.4693, R²: 0.7798, MAE: 0.2802\n"
     ]
    },
    {
     "name": "stderr",
     "output_type": "stream",
     "text": [
      "Epoch 28: 100%|██████████| 75/75 [00:00<00:00, 349.28batch/s, loss=1.32]\n"
     ]
    },
    {
     "name": "stdout",
     "output_type": "stream",
     "text": [
      "Epoch 28/100, Loss: 1.3189\n",
      "MSE: 0.2198, RMSE: 0.4688, R²: 0.7802, MAE: 0.2791\n"
     ]
    },
    {
     "name": "stderr",
     "output_type": "stream",
     "text": [
      "Epoch 29: 100%|██████████| 75/75 [00:00<00:00, 348.79batch/s, loss=1.32]\n"
     ]
    },
    {
     "name": "stdout",
     "output_type": "stream",
     "text": [
      "Epoch 29/100, Loss: 1.3208\n",
      "MSE: 0.2197, RMSE: 0.4688, R²: 0.7803, MAE: 0.2789\n"
     ]
    },
    {
     "name": "stderr",
     "output_type": "stream",
     "text": [
      "Epoch 30: 100%|██████████| 75/75 [00:00<00:00, 242.74batch/s, loss=1.32]\n"
     ]
    },
    {
     "name": "stdout",
     "output_type": "stream",
     "text": [
      "Epoch 30/100, Loss: 1.3164\n",
      "MSE: 0.2194, RMSE: 0.4684, R²: 0.7806, MAE: 0.2783\n"
     ]
    },
    {
     "name": "stderr",
     "output_type": "stream",
     "text": [
      "Epoch 31: 100%|██████████| 75/75 [00:00<00:00, 325.89batch/s, loss=1.32]\n"
     ]
    },
    {
     "name": "stdout",
     "output_type": "stream",
     "text": [
      "Epoch 31/100, Loss: 1.3169\n",
      "MSE: 0.2192, RMSE: 0.4682, R²: 0.7808, MAE: 0.2788\n"
     ]
    },
    {
     "name": "stderr",
     "output_type": "stream",
     "text": [
      "Epoch 32: 100%|██████████| 75/75 [00:00<00:00, 366.94batch/s, loss=1.32]\n"
     ]
    },
    {
     "name": "stdout",
     "output_type": "stream",
     "text": [
      "Epoch 32/100, Loss: 1.3156\n",
      "MSE: 0.2191, RMSE: 0.4681, R²: 0.7809, MAE: 0.2775\n"
     ]
    },
    {
     "name": "stderr",
     "output_type": "stream",
     "text": [
      "Epoch 33: 100%|██████████| 75/75 [00:00<00:00, 376.07batch/s, loss=1.31]\n"
     ]
    },
    {
     "name": "stdout",
     "output_type": "stream",
     "text": [
      "Epoch 33/100, Loss: 1.3112\n",
      "MSE: 0.2188, RMSE: 0.4678, R²: 0.7812, MAE: 0.2778\n"
     ]
    },
    {
     "name": "stderr",
     "output_type": "stream",
     "text": [
      "Epoch 34: 100%|██████████| 75/75 [00:00<00:00, 372.61batch/s, loss=1.31]\n"
     ]
    },
    {
     "name": "stdout",
     "output_type": "stream",
     "text": [
      "Epoch 34/100, Loss: 1.3110\n",
      "MSE: 0.2187, RMSE: 0.4677, R²: 0.7813, MAE: 0.2769\n"
     ]
    },
    {
     "name": "stderr",
     "output_type": "stream",
     "text": [
      "Epoch 35: 100%|██████████| 75/75 [00:00<00:00, 375.32batch/s, loss=1.31]\n"
     ]
    },
    {
     "name": "stdout",
     "output_type": "stream",
     "text": [
      "Epoch 35/100, Loss: 1.3077\n",
      "MSE: 0.2180, RMSE: 0.4669, R²: 0.7820, MAE: 0.2761\n"
     ]
    },
    {
     "name": "stderr",
     "output_type": "stream",
     "text": [
      "Epoch 36: 100%|██████████| 75/75 [00:00<00:00, 363.77batch/s, loss=1.31]\n"
     ]
    },
    {
     "name": "stdout",
     "output_type": "stream",
     "text": [
      "Epoch 36/100, Loss: 1.3076\n",
      "MSE: 0.2179, RMSE: 0.4668, R²: 0.7821, MAE: 0.2759\n"
     ]
    },
    {
     "name": "stderr",
     "output_type": "stream",
     "text": [
      "Epoch 37: 100%|██████████| 75/75 [00:00<00:00, 226.68batch/s, loss=1.31]\n"
     ]
    },
    {
     "name": "stdout",
     "output_type": "stream",
     "text": [
      "Epoch 37/100, Loss: 1.3071\n",
      "MSE: 0.2180, RMSE: 0.4669, R²: 0.7820, MAE: 0.2758\n"
     ]
    },
    {
     "name": "stderr",
     "output_type": "stream",
     "text": [
      "Epoch 38: 100%|██████████| 75/75 [00:00<00:00, 348.38batch/s, loss=1.3] \n"
     ]
    },
    {
     "name": "stdout",
     "output_type": "stream",
     "text": [
      "Epoch 38/100, Loss: 1.3043\n",
      "MSE: 0.2176, RMSE: 0.4665, R²: 0.7824, MAE: 0.2757\n"
     ]
    },
    {
     "name": "stderr",
     "output_type": "stream",
     "text": [
      "Epoch 39: 100%|██████████| 75/75 [00:00<00:00, 335.11batch/s, loss=1.31]\n"
     ]
    },
    {
     "name": "stdout",
     "output_type": "stream",
     "text": [
      "Epoch 39/100, Loss: 1.3055\n",
      "MSE: 0.2176, RMSE: 0.4665, R²: 0.7824, MAE: 0.2758\n"
     ]
    },
    {
     "name": "stderr",
     "output_type": "stream",
     "text": [
      "Epoch 40: 100%|██████████| 75/75 [00:00<00:00, 343.18batch/s, loss=1.3] \n"
     ]
    },
    {
     "name": "stdout",
     "output_type": "stream",
     "text": [
      "Epoch 40/100, Loss: 1.3028\n",
      "MSE: 0.2174, RMSE: 0.4662, R²: 0.7826, MAE: 0.2747\n"
     ]
    },
    {
     "name": "stderr",
     "output_type": "stream",
     "text": [
      "Epoch 41: 100%|██████████| 75/75 [00:00<00:00, 347.26batch/s, loss=1.31]\n"
     ]
    },
    {
     "name": "stdout",
     "output_type": "stream",
     "text": [
      "Epoch 41/100, Loss: 1.3051\n",
      "MSE: 0.2171, RMSE: 0.4659, R²: 0.7829, MAE: 0.2748\n"
     ]
    },
    {
     "name": "stderr",
     "output_type": "stream",
     "text": [
      "Epoch 42: 100%|██████████| 75/75 [00:00<00:00, 316.49batch/s, loss=1.3] \n"
     ]
    },
    {
     "name": "stdout",
     "output_type": "stream",
     "text": [
      "Epoch 42/100, Loss: 1.3001\n",
      "MSE: 0.2167, RMSE: 0.4655, R²: 0.7833, MAE: 0.2746\n"
     ]
    },
    {
     "name": "stderr",
     "output_type": "stream",
     "text": [
      "Epoch 43: 100%|██████████| 75/75 [00:00<00:00, 239.78batch/s, loss=1.3] \n"
     ]
    },
    {
     "name": "stdout",
     "output_type": "stream",
     "text": [
      "Epoch 43/100, Loss: 1.3025\n",
      "MSE: 0.2171, RMSE: 0.4659, R²: 0.7829, MAE: 0.2739\n"
     ]
    },
    {
     "name": "stderr",
     "output_type": "stream",
     "text": [
      "Epoch 44: 100%|██████████| 75/75 [00:00<00:00, 372.12batch/s, loss=1.3] \n"
     ]
    },
    {
     "name": "stdout",
     "output_type": "stream",
     "text": [
      "Epoch 44/100, Loss: 1.3009\n",
      "MSE: 0.2167, RMSE: 0.4655, R²: 0.7833, MAE: 0.2748\n"
     ]
    },
    {
     "name": "stderr",
     "output_type": "stream",
     "text": [
      "Epoch 45: 100%|██████████| 75/75 [00:00<00:00, 375.05batch/s, loss=1.3] \n"
     ]
    },
    {
     "name": "stdout",
     "output_type": "stream",
     "text": [
      "Epoch 45/100, Loss: 1.3007\n",
      "MSE: 0.2165, RMSE: 0.4653, R²: 0.7835, MAE: 0.2737\n"
     ]
    },
    {
     "name": "stderr",
     "output_type": "stream",
     "text": [
      "Epoch 46: 100%|██████████| 75/75 [00:00<00:00, 350.47batch/s, loss=1.3] \n"
     ]
    },
    {
     "name": "stdout",
     "output_type": "stream",
     "text": [
      "Epoch 46/100, Loss: 1.2977\n",
      "MSE: 0.2162, RMSE: 0.4650, R²: 0.7838, MAE: 0.2741\n"
     ]
    },
    {
     "name": "stderr",
     "output_type": "stream",
     "text": [
      "Epoch 47: 100%|██████████| 75/75 [00:00<00:00, 366.91batch/s, loss=1.3] \n"
     ]
    },
    {
     "name": "stdout",
     "output_type": "stream",
     "text": [
      "Epoch 47/100, Loss: 1.2999\n",
      "MSE: 0.2165, RMSE: 0.4653, R²: 0.7835, MAE: 0.2738\n"
     ]
    },
    {
     "name": "stderr",
     "output_type": "stream",
     "text": [
      "Epoch 48: 100%|██████████| 75/75 [00:00<00:00, 342.18batch/s, loss=1.3] \n"
     ]
    },
    {
     "name": "stdout",
     "output_type": "stream",
     "text": [
      "Epoch 48/100, Loss: 1.2989\n",
      "MSE: 0.2165, RMSE: 0.4652, R²: 0.7835, MAE: 0.2745\n"
     ]
    },
    {
     "name": "stderr",
     "output_type": "stream",
     "text": [
      "Epoch 49: 100%|██████████| 75/75 [00:00<00:00, 229.19batch/s, loss=1.3] \n"
     ]
    },
    {
     "name": "stdout",
     "output_type": "stream",
     "text": [
      "Epoch 49/100, Loss: 1.2965\n",
      "MSE: 0.2162, RMSE: 0.4649, R²: 0.7838, MAE: 0.2734\n"
     ]
    },
    {
     "name": "stderr",
     "output_type": "stream",
     "text": [
      "Epoch 50: 100%|██████████| 75/75 [00:00<00:00, 348.56batch/s, loss=1.29]\n"
     ]
    },
    {
     "name": "stdout",
     "output_type": "stream",
     "text": [
      "Epoch 50/100, Loss: 1.2932\n",
      "MSE: 0.2156, RMSE: 0.4643, R²: 0.7844, MAE: 0.2724\n"
     ]
    },
    {
     "name": "stderr",
     "output_type": "stream",
     "text": [
      "Epoch 51: 100%|██████████| 75/75 [00:00<00:00, 370.67batch/s, loss=1.29]\n"
     ]
    },
    {
     "name": "stdout",
     "output_type": "stream",
     "text": [
      "Epoch 51/100, Loss: 1.2936\n",
      "MSE: 0.2156, RMSE: 0.4643, R²: 0.7844, MAE: 0.2725\n"
     ]
    },
    {
     "name": "stderr",
     "output_type": "stream",
     "text": [
      "Epoch 52: 100%|██████████| 75/75 [00:00<00:00, 373.83batch/s, loss=1.29]\n"
     ]
    },
    {
     "name": "stdout",
     "output_type": "stream",
     "text": [
      "Epoch 52/100, Loss: 1.2922\n",
      "MSE: 0.2157, RMSE: 0.4645, R²: 0.7843, MAE: 0.2732\n"
     ]
    },
    {
     "name": "stderr",
     "output_type": "stream",
     "text": [
      "Epoch 53: 100%|██████████| 75/75 [00:00<00:00, 370.67batch/s, loss=1.29]\n"
     ]
    },
    {
     "name": "stdout",
     "output_type": "stream",
     "text": [
      "Epoch 53/100, Loss: 1.2914\n",
      "MSE: 0.2156, RMSE: 0.4643, R²: 0.7844, MAE: 0.2722\n"
     ]
    },
    {
     "name": "stderr",
     "output_type": "stream",
     "text": [
      "Epoch 54: 100%|██████████| 75/75 [00:00<00:00, 360.58batch/s, loss=1.29]\n"
     ]
    },
    {
     "name": "stdout",
     "output_type": "stream",
     "text": [
      "Epoch 54/100, Loss: 1.2911\n",
      "MSE: 0.2153, RMSE: 0.4640, R²: 0.7847, MAE: 0.2725\n"
     ]
    },
    {
     "name": "stderr",
     "output_type": "stream",
     "text": [
      "Epoch 55: 100%|██████████| 75/75 [00:00<00:00, 239.66batch/s, loss=1.29]\n"
     ]
    },
    {
     "name": "stdout",
     "output_type": "stream",
     "text": [
      "Epoch 55/100, Loss: 1.2935\n",
      "MSE: 0.2154, RMSE: 0.4641, R²: 0.7846, MAE: 0.2722\n"
     ]
    },
    {
     "name": "stderr",
     "output_type": "stream",
     "text": [
      "Epoch 56: 100%|██████████| 75/75 [00:00<00:00, 90.46batch/s, loss=1.29]\n"
     ]
    },
    {
     "name": "stdout",
     "output_type": "stream",
     "text": [
      "Epoch 56/100, Loss: 1.2884\n",
      "MSE: 0.2151, RMSE: 0.4638, R²: 0.7849, MAE: 0.2723\n"
     ]
    },
    {
     "name": "stderr",
     "output_type": "stream",
     "text": [
      "Epoch 57: 100%|██████████| 75/75 [00:00<00:00, 181.57batch/s, loss=1.29]\n"
     ]
    },
    {
     "name": "stdout",
     "output_type": "stream",
     "text": [
      "Epoch 57/100, Loss: 1.2924\n",
      "MSE: 0.2152, RMSE: 0.4639, R²: 0.7848, MAE: 0.2719\n"
     ]
    },
    {
     "name": "stderr",
     "output_type": "stream",
     "text": [
      "Epoch 58: 100%|██████████| 75/75 [00:00<00:00, 286.21batch/s, loss=1.29]\n"
     ]
    },
    {
     "name": "stdout",
     "output_type": "stream",
     "text": [
      "Epoch 58/100, Loss: 1.2908\n",
      "MSE: 0.2151, RMSE: 0.4638, R²: 0.7849, MAE: 0.2725\n"
     ]
    },
    {
     "name": "stderr",
     "output_type": "stream",
     "text": [
      "Epoch 59: 100%|██████████| 75/75 [00:00<00:00, 366.51batch/s, loss=1.29]\n"
     ]
    },
    {
     "name": "stdout",
     "output_type": "stream",
     "text": [
      "Epoch 59/100, Loss: 1.2902\n",
      "MSE: 0.2150, RMSE: 0.4636, R²: 0.7850, MAE: 0.2712\n"
     ]
    },
    {
     "name": "stderr",
     "output_type": "stream",
     "text": [
      "Epoch 60: 100%|██████████| 75/75 [00:00<00:00, 370.52batch/s, loss=1.29]\n"
     ]
    },
    {
     "name": "stdout",
     "output_type": "stream",
     "text": [
      "Epoch 60/100, Loss: 1.2901\n",
      "MSE: 0.2149, RMSE: 0.4636, R²: 0.7851, MAE: 0.2720\n"
     ]
    },
    {
     "name": "stderr",
     "output_type": "stream",
     "text": [
      "Epoch 61: 100%|██████████| 75/75 [00:00<00:00, 182.54batch/s, loss=1.29]\n"
     ]
    },
    {
     "name": "stdout",
     "output_type": "stream",
     "text": [
      "Epoch 61/100, Loss: 1.2873\n",
      "MSE: 0.2145, RMSE: 0.4632, R²: 0.7855, MAE: 0.2715\n"
     ]
    },
    {
     "name": "stderr",
     "output_type": "stream",
     "text": [
      "Epoch 62: 100%|██████████| 75/75 [00:00<00:00, 328.95batch/s, loss=1.29]\n"
     ]
    },
    {
     "name": "stdout",
     "output_type": "stream",
     "text": [
      "Epoch 62/100, Loss: 1.2876\n",
      "MSE: 0.2145, RMSE: 0.4632, R²: 0.7855, MAE: 0.2711\n"
     ]
    },
    {
     "name": "stderr",
     "output_type": "stream",
     "text": [
      "Epoch 63: 100%|██████████| 75/75 [00:00<00:00, 346.63batch/s, loss=1.29]\n"
     ]
    },
    {
     "name": "stdout",
     "output_type": "stream",
     "text": [
      "Epoch 63/100, Loss: 1.2856\n",
      "MSE: 0.2143, RMSE: 0.4629, R²: 0.7857, MAE: 0.2709\n"
     ]
    },
    {
     "name": "stderr",
     "output_type": "stream",
     "text": [
      "Epoch 64: 100%|██████████| 75/75 [00:00<00:00, 348.75batch/s, loss=1.29]\n"
     ]
    },
    {
     "name": "stdout",
     "output_type": "stream",
     "text": [
      "Epoch 64/100, Loss: 1.2888\n",
      "MSE: 0.2146, RMSE: 0.4632, R²: 0.7854, MAE: 0.2721\n"
     ]
    },
    {
     "name": "stderr",
     "output_type": "stream",
     "text": [
      "Epoch 65: 100%|██████████| 75/75 [00:00<00:00, 324.01batch/s, loss=1.28]\n"
     ]
    },
    {
     "name": "stdout",
     "output_type": "stream",
     "text": [
      "Epoch 65/100, Loss: 1.2825\n",
      "MSE: 0.2140, RMSE: 0.4626, R²: 0.7860, MAE: 0.2715\n"
     ]
    },
    {
     "name": "stderr",
     "output_type": "stream",
     "text": [
      "Epoch 66: 100%|██████████| 75/75 [00:00<00:00, 369.66batch/s, loss=1.28]\n"
     ]
    },
    {
     "name": "stdout",
     "output_type": "stream",
     "text": [
      "Epoch 66/100, Loss: 1.2840\n",
      "MSE: 0.2142, RMSE: 0.4628, R²: 0.7858, MAE: 0.2709\n"
     ]
    },
    {
     "name": "stderr",
     "output_type": "stream",
     "text": [
      "Epoch 67: 100%|██████████| 75/75 [00:00<00:00, 221.97batch/s, loss=1.28]\n"
     ]
    },
    {
     "name": "stdout",
     "output_type": "stream",
     "text": [
      "Epoch 67/100, Loss: 1.2843\n",
      "MSE: 0.2141, RMSE: 0.4627, R²: 0.7859, MAE: 0.2704\n"
     ]
    },
    {
     "name": "stderr",
     "output_type": "stream",
     "text": [
      "Epoch 68: 100%|██████████| 75/75 [00:00<00:00, 292.86batch/s, loss=1.28]\n"
     ]
    },
    {
     "name": "stdout",
     "output_type": "stream",
     "text": [
      "Epoch 68/100, Loss: 1.2841\n",
      "MSE: 0.2140, RMSE: 0.4626, R²: 0.7860, MAE: 0.2716\n"
     ]
    },
    {
     "name": "stderr",
     "output_type": "stream",
     "text": [
      "Epoch 69: 100%|██████████| 75/75 [00:00<00:00, 288.97batch/s, loss=1.28]\n"
     ]
    },
    {
     "name": "stdout",
     "output_type": "stream",
     "text": [
      "Epoch 69/100, Loss: 1.2835\n",
      "MSE: 0.2141, RMSE: 0.4627, R²: 0.7859, MAE: 0.2713\n"
     ]
    },
    {
     "name": "stderr",
     "output_type": "stream",
     "text": [
      "Epoch 70: 100%|██████████| 75/75 [00:00<00:00, 329.14batch/s, loss=1.28]\n"
     ]
    },
    {
     "name": "stdout",
     "output_type": "stream",
     "text": [
      "Epoch 70/100, Loss: 1.2834\n",
      "MSE: 0.2138, RMSE: 0.4624, R²: 0.7862, MAE: 0.2710\n"
     ]
    },
    {
     "name": "stderr",
     "output_type": "stream",
     "text": [
      "Epoch 71: 100%|██████████| 75/75 [00:00<00:00, 132.10batch/s, loss=1.28]\n"
     ]
    },
    {
     "name": "stdout",
     "output_type": "stream",
     "text": [
      "Epoch 71/100, Loss: 1.2823\n",
      "MSE: 0.2139, RMSE: 0.4625, R²: 0.7861, MAE: 0.2702\n"
     ]
    },
    {
     "name": "stderr",
     "output_type": "stream",
     "text": [
      "Epoch 72: 100%|██████████| 75/75 [00:00<00:00, 100.67batch/s, loss=1.28]\n"
     ]
    },
    {
     "name": "stdout",
     "output_type": "stream",
     "text": [
      "Epoch 72/100, Loss: 1.2821\n",
      "MSE: 0.2137, RMSE: 0.4623, R²: 0.7863, MAE: 0.2708\n"
     ]
    },
    {
     "name": "stderr",
     "output_type": "stream",
     "text": [
      "Epoch 73: 100%|██████████| 75/75 [00:00<00:00, 311.95batch/s, loss=1.28]\n"
     ]
    },
    {
     "name": "stdout",
     "output_type": "stream",
     "text": [
      "Epoch 73/100, Loss: 1.2820\n",
      "MSE: 0.2138, RMSE: 0.4624, R²: 0.7862, MAE: 0.2708\n"
     ]
    },
    {
     "name": "stderr",
     "output_type": "stream",
     "text": [
      "Epoch 74: 100%|██████████| 75/75 [00:00<00:00, 312.45batch/s, loss=1.28]\n"
     ]
    },
    {
     "name": "stdout",
     "output_type": "stream",
     "text": [
      "Epoch 74/100, Loss: 1.2807\n",
      "MSE: 0.2136, RMSE: 0.4622, R²: 0.7864, MAE: 0.2704\n"
     ]
    },
    {
     "name": "stderr",
     "output_type": "stream",
     "text": [
      "Epoch 75: 100%|██████████| 75/75 [00:00<00:00, 344.15batch/s, loss=1.28]\n"
     ]
    },
    {
     "name": "stdout",
     "output_type": "stream",
     "text": [
      "Epoch 75/100, Loss: 1.2794\n",
      "MSE: 0.2133, RMSE: 0.4618, R²: 0.7867, MAE: 0.2707\n"
     ]
    },
    {
     "name": "stderr",
     "output_type": "stream",
     "text": [
      "Epoch 76: 100%|██████████| 75/75 [00:00<00:00, 344.21batch/s, loss=1.28]\n"
     ]
    },
    {
     "name": "stdout",
     "output_type": "stream",
     "text": [
      "Epoch 76/100, Loss: 1.2826\n",
      "MSE: 0.2133, RMSE: 0.4619, R²: 0.7867, MAE: 0.2705\n"
     ]
    },
    {
     "name": "stderr",
     "output_type": "stream",
     "text": [
      "Epoch 77: 100%|██████████| 75/75 [00:00<00:00, 359.82batch/s, loss=1.28]\n"
     ]
    },
    {
     "name": "stdout",
     "output_type": "stream",
     "text": [
      "Epoch 77/100, Loss: 1.2829\n",
      "MSE: 0.2136, RMSE: 0.4622, R²: 0.7864, MAE: 0.2706\n"
     ]
    },
    {
     "name": "stderr",
     "output_type": "stream",
     "text": [
      "Epoch 78: 100%|██████████| 75/75 [00:00<00:00, 204.95batch/s, loss=1.28]\n"
     ]
    },
    {
     "name": "stdout",
     "output_type": "stream",
     "text": [
      "Epoch 78/100, Loss: 1.2804\n",
      "MSE: 0.2133, RMSE: 0.4619, R²: 0.7867, MAE: 0.2701\n"
     ]
    },
    {
     "name": "stderr",
     "output_type": "stream",
     "text": [
      "Epoch 79: 100%|██████████| 75/75 [00:00<00:00, 292.33batch/s, loss=1.28]\n"
     ]
    },
    {
     "name": "stdout",
     "output_type": "stream",
     "text": [
      "Epoch 79/100, Loss: 1.2795\n",
      "MSE: 0.2131, RMSE: 0.4616, R²: 0.7869, MAE: 0.2703\n"
     ]
    },
    {
     "name": "stderr",
     "output_type": "stream",
     "text": [
      "Epoch 80: 100%|██████████| 75/75 [00:00<00:00, 361.03batch/s, loss=1.28]\n"
     ]
    },
    {
     "name": "stdout",
     "output_type": "stream",
     "text": [
      "Epoch 80/100, Loss: 1.2774\n",
      "MSE: 0.2130, RMSE: 0.4616, R²: 0.7870, MAE: 0.2703\n"
     ]
    },
    {
     "name": "stderr",
     "output_type": "stream",
     "text": [
      "Epoch 81: 100%|██████████| 75/75 [00:00<00:00, 367.08batch/s, loss=1.28]\n"
     ]
    },
    {
     "name": "stdout",
     "output_type": "stream",
     "text": [
      "Epoch 81/100, Loss: 1.2769\n",
      "MSE: 0.2128, RMSE: 0.4613, R²: 0.7872, MAE: 0.2695\n"
     ]
    },
    {
     "name": "stderr",
     "output_type": "stream",
     "text": [
      "Epoch 82: 100%|██████████| 75/75 [00:00<00:00, 331.90batch/s, loss=1.28]\n"
     ]
    },
    {
     "name": "stdout",
     "output_type": "stream",
     "text": [
      "Epoch 82/100, Loss: 1.2786\n",
      "MSE: 0.2133, RMSE: 0.4618, R²: 0.7867, MAE: 0.2707\n"
     ]
    },
    {
     "name": "stderr",
     "output_type": "stream",
     "text": [
      "Epoch 83: 100%|██████████| 75/75 [00:00<00:00, 335.73batch/s, loss=1.28]\n"
     ]
    },
    {
     "name": "stdout",
     "output_type": "stream",
     "text": [
      "Epoch 83/100, Loss: 1.2763\n",
      "MSE: 0.2128, RMSE: 0.4613, R²: 0.7872, MAE: 0.2692\n"
     ]
    },
    {
     "name": "stderr",
     "output_type": "stream",
     "text": [
      "Epoch 84: 100%|██████████| 75/75 [00:00<00:00, 213.16batch/s, loss=1.28]\n"
     ]
    },
    {
     "name": "stdout",
     "output_type": "stream",
     "text": [
      "Epoch 84/100, Loss: 1.2760\n",
      "MSE: 0.2131, RMSE: 0.4616, R²: 0.7869, MAE: 0.2709\n"
     ]
    },
    {
     "name": "stderr",
     "output_type": "stream",
     "text": [
      "Epoch 85: 100%|██████████| 75/75 [00:00<00:00, 351.46batch/s, loss=1.28]\n"
     ]
    },
    {
     "name": "stdout",
     "output_type": "stream",
     "text": [
      "Epoch 85/100, Loss: 1.2779\n",
      "MSE: 0.2129, RMSE: 0.4614, R²: 0.7871, MAE: 0.2702\n"
     ]
    },
    {
     "name": "stderr",
     "output_type": "stream",
     "text": [
      "Epoch 86: 100%|██████████| 75/75 [00:00<00:00, 356.83batch/s, loss=1.27]\n"
     ]
    },
    {
     "name": "stdout",
     "output_type": "stream",
     "text": [
      "Epoch 86/100, Loss: 1.2734\n",
      "MSE: 0.2125, RMSE: 0.4610, R²: 0.7875, MAE: 0.2692\n"
     ]
    },
    {
     "name": "stderr",
     "output_type": "stream",
     "text": [
      "Epoch 87: 100%|██████████| 75/75 [00:00<00:00, 367.48batch/s, loss=1.27]\n"
     ]
    },
    {
     "name": "stdout",
     "output_type": "stream",
     "text": [
      "Epoch 87/100, Loss: 1.2738\n",
      "MSE: 0.2127, RMSE: 0.4612, R²: 0.7873, MAE: 0.2700\n"
     ]
    },
    {
     "name": "stderr",
     "output_type": "stream",
     "text": [
      "Epoch 88: 100%|██████████| 75/75 [00:00<00:00, 369.37batch/s, loss=1.28]\n"
     ]
    },
    {
     "name": "stdout",
     "output_type": "stream",
     "text": [
      "Epoch 88/100, Loss: 1.2759\n",
      "MSE: 0.2128, RMSE: 0.4613, R²: 0.7872, MAE: 0.2700\n"
     ]
    },
    {
     "name": "stderr",
     "output_type": "stream",
     "text": [
      "Epoch 89: 100%|██████████| 75/75 [00:00<00:00, 351.05batch/s, loss=1.28]\n"
     ]
    },
    {
     "name": "stdout",
     "output_type": "stream",
     "text": [
      "Epoch 89/100, Loss: 1.2762\n",
      "MSE: 0.2127, RMSE: 0.4611, R²: 0.7873, MAE: 0.2693\n"
     ]
    },
    {
     "name": "stderr",
     "output_type": "stream",
     "text": [
      "Epoch 90: 100%|██████████| 75/75 [00:00<00:00, 247.55batch/s, loss=1.28]\n"
     ]
    },
    {
     "name": "stdout",
     "output_type": "stream",
     "text": [
      "Epoch 90/100, Loss: 1.2759\n",
      "MSE: 0.2126, RMSE: 0.4611, R²: 0.7874, MAE: 0.2695\n"
     ]
    },
    {
     "name": "stderr",
     "output_type": "stream",
     "text": [
      "Epoch 91: 100%|██████████| 75/75 [00:00<00:00, 371.96batch/s, loss=1.28]\n"
     ]
    },
    {
     "name": "stdout",
     "output_type": "stream",
     "text": [
      "Epoch 91/100, Loss: 1.2780\n",
      "MSE: 0.2125, RMSE: 0.4610, R²: 0.7875, MAE: 0.2706\n"
     ]
    },
    {
     "name": "stderr",
     "output_type": "stream",
     "text": [
      "Epoch 92: 100%|██████████| 75/75 [00:00<00:00, 370.28batch/s, loss=1.27]\n"
     ]
    },
    {
     "name": "stdout",
     "output_type": "stream",
     "text": [
      "Epoch 92/100, Loss: 1.2727\n",
      "MSE: 0.2124, RMSE: 0.4608, R²: 0.7876, MAE: 0.2698\n"
     ]
    },
    {
     "name": "stderr",
     "output_type": "stream",
     "text": [
      "Epoch 93: 100%|██████████| 75/75 [00:00<00:00, 369.41batch/s, loss=1.27]\n"
     ]
    },
    {
     "name": "stdout",
     "output_type": "stream",
     "text": [
      "Epoch 93/100, Loss: 1.2732\n",
      "MSE: 0.2124, RMSE: 0.4608, R²: 0.7876, MAE: 0.2702\n"
     ]
    },
    {
     "name": "stderr",
     "output_type": "stream",
     "text": [
      "Epoch 94: 100%|██████████| 75/75 [00:00<00:00, 356.25batch/s, loss=1.27]\n"
     ]
    },
    {
     "name": "stdout",
     "output_type": "stream",
     "text": [
      "Epoch 94/100, Loss: 1.2713\n",
      "MSE: 0.2121, RMSE: 0.4605, R²: 0.7879, MAE: 0.2689\n"
     ]
    },
    {
     "name": "stderr",
     "output_type": "stream",
     "text": [
      "Epoch 95: 100%|██████████| 75/75 [00:00<00:00, 373.76batch/s, loss=1.27]\n"
     ]
    },
    {
     "name": "stdout",
     "output_type": "stream",
     "text": [
      "Epoch 95/100, Loss: 1.2712\n",
      "MSE: 0.2119, RMSE: 0.4603, R²: 0.7881, MAE: 0.2695\n"
     ]
    },
    {
     "name": "stderr",
     "output_type": "stream",
     "text": [
      "Epoch 96: 100%|██████████| 75/75 [00:00<00:00, 352.34batch/s, loss=1.27]\n"
     ]
    },
    {
     "name": "stdout",
     "output_type": "stream",
     "text": [
      "Epoch 96/100, Loss: 1.2735\n",
      "MSE: 0.2121, RMSE: 0.4606, R²: 0.7879, MAE: 0.2694\n"
     ]
    },
    {
     "name": "stderr",
     "output_type": "stream",
     "text": [
      "Epoch 97: 100%|██████████| 75/75 [00:00<00:00, 245.53batch/s, loss=1.27]\n"
     ]
    },
    {
     "name": "stdout",
     "output_type": "stream",
     "text": [
      "Epoch 97/100, Loss: 1.2714\n",
      "MSE: 0.2120, RMSE: 0.4605, R²: 0.7880, MAE: 0.2692\n"
     ]
    },
    {
     "name": "stderr",
     "output_type": "stream",
     "text": [
      "Epoch 98: 100%|██████████| 75/75 [00:00<00:00, 327.41batch/s, loss=1.27]\n"
     ]
    },
    {
     "name": "stdout",
     "output_type": "stream",
     "text": [
      "Epoch 98/100, Loss: 1.2723\n",
      "MSE: 0.2120, RMSE: 0.4604, R²: 0.7880, MAE: 0.2696\n"
     ]
    },
    {
     "name": "stderr",
     "output_type": "stream",
     "text": [
      "Epoch 99: 100%|██████████| 75/75 [00:00<00:00, 360.49batch/s, loss=1.27]\n"
     ]
    },
    {
     "name": "stdout",
     "output_type": "stream",
     "text": [
      "Epoch 99/100, Loss: 1.2736\n",
      "MSE: 0.2121, RMSE: 0.4606, R²: 0.7879, MAE: 0.2696\n"
     ]
    },
    {
     "name": "stderr",
     "output_type": "stream",
     "text": [
      "Epoch 100: 100%|██████████| 75/75 [00:00<00:00, 363.47batch/s, loss=1.27]\n"
     ]
    },
    {
     "name": "stdout",
     "output_type": "stream",
     "text": [
      "Epoch 100/100, Loss: 1.2709\n",
      "MSE: 0.2117, RMSE: 0.4602, R²: 0.7883, MAE: 0.2693\n",
      "Model Training: Success\n"
     ]
    }
   ],
   "source": [
    "print(\"Process Starting\")\n",
    "print(\"Parsing Data: Working..\")\n",
    "weather_data = json_to_dataframe()\n",
    "print(\"Parsing Data: Success\")\n",
    "print(\"Cleaning Data: Working..\")\n",
    "weather_data = clean_dataframe(weather_data)\n",
    "print(\"Cleaning Data: Success\")\n",
    "print(\"Validating Data: Working..\")\n",
    "validation_status = validate_data_columns(weather_data)\n",
    "\n",
    "if validation_status:\n",
    "    print(\"Validating Data: Success\")\n",
    "    print(\"Transforming Data: Working..\")\n",
    "    weather_data = transform_date_feature(weather_data)\n",
    "    print(\"Transforming Data: Success\")\n",
    "    print(\"Target Variable Prep: Working..\")\n",
    "    weather_data = make_target_features(weather_data)\n",
    "    print(\"Target Variable Prep: Success\")\n",
    "    print(\"Preparing for Model Training: Working..\")\n",
    "    train(weather_data)\n",
    "    print(\"Model Training: Success\")\n",
    "\n",
    "else:\n",
    "    print(\"Validating Data: Failed\")\n",
    "\n",
    "\n"
   ]
  },
  {
   "cell_type": "code",
   "execution_count": 520,
   "metadata": {},
   "outputs": [],
   "source": [
    "#torch.save(model.state_dict(), \"/Users/jaya/Downloads/Git/Github/weather-prediction/artifacts/model_trainer/models/model.pth\")\n"
   ]
  },
  {
   "cell_type": "code",
   "execution_count": null,
   "metadata": {},
   "outputs": [],
   "source": []
  }
 ],
 "metadata": {
  "kernelspec": {
   "display_name": "Python 3",
   "language": "python",
   "name": "python3"
  },
  "language_info": {
   "codemirror_mode": {
    "name": "ipython",
    "version": 3
   },
   "file_extension": ".py",
   "mimetype": "text/x-python",
   "name": "python",
   "nbconvert_exporter": "python",
   "pygments_lexer": "ipython3",
   "version": "3.10.13"
  }
 },
 "nbformat": 4,
 "nbformat_minor": 2
}
