{
 "cells": [
  {
   "cell_type": "code",
   "execution_count": 1,
   "metadata": {},
   "outputs": [],
   "source": [
    "import os\n",
    "import json\n",
    "from pathlib import Path\n",
    "from datetime import datetime\n",
    "\n",
    "import pandas as pd\n",
    "import numpy as np\n",
    "from tqdm import tqdm\n",
    "\n",
    "from torch import nn, optim\n",
    "from torch.utils.data import Dataset, DataLoader\n",
    "import torch\n",
    "\n",
    "from sklearn.preprocessing import MinMaxScaler\n",
    "from sklearn.model_selection import train_test_split\n",
    "from sklearn.metrics import mean_squared_error, mean_absolute_error, r2_score\n",
    "from sklearn.preprocessing import StandardScaler\n"
   ]
  },
  {
   "cell_type": "code",
   "execution_count": 2,
   "metadata": {},
   "outputs": [],
   "source": [
    "def json_to_dataframe() -> pd.DataFrame:\n",
    "        \"\"\"\n",
    "            Converts the JSON data into a pandas dataframe.\n",
    "\n",
    "            :arg:\n",
    "                None\n",
    "            :return:\n",
    "                weather_data (pandas dataframe): dataframe containing the weather data\n",
    "            \"\"\"\n",
    "\n",
    "        folder_path = \"/Users/jaya/Downloads/Git/Github/weather-prediction/artifacts/data_ingestion/data\"\n",
    "        file_names = os.listdir(folder_path)\n",
    "        \n",
    "        json_filepaths = [os.path.join(folder_path, name) for name in file_names if os.path.isfile(os.path.join(folder_path, name))]\n",
    "        weather_data = None\n",
    "        for filepath in json_filepaths:\n",
    "            json_file = json.load(Path(filepath).open())\n",
    "            for day in json_file['SiteRep']['DV']['Location']['Period']:\n",
    "                df = pd.DataFrame(day['Rep'])\n",
    "                df['date'] = day['value']\n",
    "                weather_data = pd.concat([weather_data, df], ignore_index=True)\n",
    "        return weather_data\n"
   ]
  },
  {
   "cell_type": "code",
   "execution_count": 6,
   "metadata": {},
   "outputs": [],
   "source": [
    "data_headers = {\n",
    "\"D\": \"Wind Direction(compass)\",\n",
    "\"G\": \"Wind Gust(mph)\",\n",
    "\"H\": \"Screen Relative Humidity(%)\",\n",
    "\"P\": \"Pressure(hpa)\",\n",
    "\"S\": \"Wind Speed(mph)\",\n",
    "\"T\": \"Temperature(C)\",\n",
    "\"V\": \"Visibility(m)\",\n",
    "\"W\": \"Weather Type\",\n",
    "\"Pt\": \"Pressure Tendency\",\n",
    "\"Dp\": \"Dew Point(C)\",\n",
    "\"$\": \"Minutes Since 12o Clock\"\n",
    "}\n",
    "\n",
    "compass_directions_map = {\n",
    "\"N\": 1,\n",
    "\"NNE\": 2,\n",
    "\"NE\": 3,\n",
    "\"ENE\": 4,\n",
    "\"E\": 5,\n",
    "\"ESE\": 6,\n",
    "\"SE\": 7,\n",
    "\"SSE\": 8,\n",
    "\"S\": 9,\n",
    "\"SSW\": 10,\n",
    "\"SW\": 11,\n",
    "\"WSW\": 12,\n",
    "\"W\": 13,\n",
    "\"WNW\": 14,\n",
    "\"NW\": 15,\n",
    "\"NNW\": 16 }\n",
    "\n",
    "Pressure_tendency_map = {\"F\": 0, \"R\": 1, \"S\": 2}\n",
    "\n",
    "column_datatypes = {\n",
    "\"Wind Direction(compass)\": int,\n",
    "\"Wind Gust(mph)\": float,\n",
    "\"Screen Relative Humidity(%)\": float,\n",
    "\"Pressure(hpa)\": float,\n",
    "\"Wind Speed(mph)\": float,\n",
    "\"Temperature(C)\": float,\n",
    "\"Visibility(m)\": float,\n",
    "\"Weather Type\": int,\n",
    "\"Pressure Tendency\": int,\n",
    "\"Dew Point(C)\": float,\n",
    "\"Minutes Since 12o Clock\": int,\n",
    "\"date\": \"datetime64[ns]\"\n",
    "}\n",
    "\n",
    "def clean_dataframe(weather_data: pd.DataFrame):\n",
    "    weather_data.rename(columns=data_headers, inplace=True)\n",
    "    weather_data.dropna(how='any', inplace=True)\n",
    "    weather_data['Wind Direction(compass)'] = weather_data['Wind Direction(compass)'].map(compass_directions_map)\n",
    "    weather_data['Pressure Tendency'] = weather_data['Pressure Tendency'].map(Pressure_tendency_map)\n",
    "    weather_data['date'] = weather_data['date'].str.replace('Z','')\n",
    "    weather_data = weather_data.astype(column_datatypes)\n",
    "    weather_data['date'] = pd.to_datetime(weather_data['date'], format='%Y-%m-%d')\n",
    "    return weather_data\n",
    "\n",
    "def validate_data_columns(weather_data: pd.DataFrame) -> bool:\n",
    "    try:\n",
    "        validation_status = None\n",
    "        data = weather_data\n",
    "        all_columns = list(data.columns)\n",
    "        schema_columns = list(column_datatypes.keys())\n",
    "        if not sorted(all_columns) == sorted(schema_columns):\n",
    "            validation_status = False\n",
    "        else:\n",
    "            validation_status = True\n",
    "            for column, datatype in column_datatypes.items():\n",
    "                if not data[column].dtype == datatype:\n",
    "                    validation_status = False\n",
    "        return validation_status\n",
    "    except Exception as e:\n",
    "        raise e\n"
   ]
  },
  {
   "cell_type": "code",
   "execution_count": 7,
   "metadata": {},
   "outputs": [],
   "source": [
    "target_variables = ['Wind Direction(compass)', 'Pressure(hpa)', 'Wind Speed(mph)', 'Temperature(C)', 'Visibility(m)', 'Weather Type']\n",
    "target_column_names = ['Wind Direction(compass) (t+1)', 'Pressure(hpa) (t+1)', 'Wind Speed(mph) (t+1)', 'Temperature(C) (t+1)', 'Visibility(m) (t+1)', 'Weather Type (t+1)']\n",
    "\n",
    "def transform_date_feature(weather_data) -> pd.DataFrame:\n",
    "    weather_data['day'] = weather_data['date'].dt.day\n",
    "    weather_data['month'] = weather_data['date'].dt.month\n",
    "    weather_data['year'] = weather_data['date'].dt.year\n",
    "    weather_data.drop('date', axis=1, inplace=True)\n",
    "    return weather_data\n",
    "\n",
    "def make_target_features(weather_data) -> pd.DataFrame:\n",
    "    weather_data.sort_values(by=['year', 'month', 'day', 'Minutes Since 12o Clock'], kind='mergesort', inplace=True)\n",
    "    target = weather_data[target_variables].shift(-1)\n",
    "    target.columns = target_column_names\n",
    "    target = pd.concat([weather_data, target], axis=1)\n",
    "    target.dropna(inplace=True)\n",
    "    return target\n",
    "\n",
    "# def split_data(self, x, y):\n",
    "#     X_train, y_train, X_test, y_test = train_test_split(x, y, test_size=0.2, random_state=42)\n",
    "#     return X_train, y_train, X_test, y_test\n",
    "\n",
    "# def min_max_scaler(x:pd.DataFrame) -> (pd.DataFrame, MinMaxScaler):\n",
    "#     scaler = MinMaxScaler()\n",
    "\n",
    "#     scaled_x = scaler.fit_transform(x)\n",
    "#     return pd.DataFrame(scaled_x, columns=x.columns), scaler\n",
    "\n",
    "# def invert_min_max_scaler(x:pd.DataFrame, scaler: MinMaxScaler) -> pd.DataFrame:\n",
    "#     original_data = scaler.inverse_transform(x)\n",
    "\n",
    "#     return pd.DataFrame(original_data, x.columns)\n"
   ]
  },
  {
   "cell_type": "code",
   "execution_count": 8,
   "metadata": {},
   "outputs": [],
   "source": [
    "parameters = {\n",
    "  \"input_dim\": 14,\n",
    "  \"output_dim\": 1,\n",
    "  \"hidden_dim\": 20,\n",
    "  \"learning_rate\": 0.001,\n",
    "  \"batch_size\": 100,\n",
    "  \"num_batches\": 62,\n",
    "  \"num_epochs\": 100\n",
    "}\n",
    "\n",
    "class WeatherModel(nn.Module):\n",
    "    def __init__(self, parameters:dict):\n",
    "        input_dim=parameters[\"input_dim\"]\n",
    "        output_dim=parameters[\"output_dim\"]\n",
    "        hidden_dim=parameters[\"hidden_dim\"]\n",
    "\n",
    "        super(WeatherModel, self).__init__()\n",
    "\n",
    "        # Shared hidden layers\n",
    "        self.shared_layer = nn.Sequential(\n",
    "            nn.Linear(input_dim, hidden_dim),\n",
    "            nn.ReLU(),\n",
    "            nn.Linear(hidden_dim, hidden_dim),\n",
    "            nn.ReLU()\n",
    "        )\n",
    "\n",
    "        # Output layers for each output\n",
    "        self.temperature_layer = nn.Linear(hidden_dim, output_dim)\n",
    "        self.visibility_layer = nn.Linear(hidden_dim, output_dim)\n",
    "        self.wind_direction_layer = nn.Linear(hidden_dim, output_dim)\n",
    "        self.wind_speed_layer = nn.Linear(hidden_dim, output_dim)\n",
    "        self.weather_type_layer = nn.Linear(hidden_dim, output_dim)\n",
    "        self.pressure_layer = nn.Linear(hidden_dim, output_dim)\n",
    "\n",
    "    def forward(self, input):\n",
    "        # Pass through shared hidden layer\n",
    "        shared_output = self.shared_layer(input)\n",
    "\n",
    "        # Separate output predictions\n",
    "        temperature = self.temperature_layer(shared_output)\n",
    "        visibility = self.visibility_layer(shared_output)\n",
    "        wind_direction = self.wind_direction_layer(shared_output)\n",
    "        wind_speed = self.wind_speed_layer(shared_output)\n",
    "        weather_type = self.weather_type_layer(shared_output)\n",
    "        pressure = self.pressure_layer(shared_output)\n",
    "\n",
    "        return wind_direction, pressure, wind_speed, temperature, visibility, weather_type\n"
   ]
  },
  {
   "cell_type": "code",
   "execution_count": 9,
   "metadata": {},
   "outputs": [],
   "source": [
    "class WeatherDataLoader(Dataset):\n",
    "    def __init__(self, data:pd.DataFrame, features:list, target:list):\n",
    "        self.X = torch.tensor(data[features].values,\n",
    "                              dtype=torch.float32)\n",
    "        self.y = torch.tensor(data[target].values, dtype=torch.float32)\n",
    "\n",
    "    def __len__(self):\n",
    "        return len(self.X)\n",
    "\n",
    "    def __getitem__(self, idx):\n",
    "        return self.X[idx], self.y[idx]\n"
   ]
  },
  {
   "cell_type": "code",
   "execution_count": 10,
   "metadata": {},
   "outputs": [],
   "source": [
    "feature_columns_names = ['Wind Direction(compass)', 'Wind Gust(mph)', 'Screen Relative Humidity(%)', 'Pressure(hpa)', 'Wind Speed(mph)', 'Temperature(C)', 'Visibility(m)', 'Weather Type', 'Pressure Tendency', 'Dew Point(C)', 'Minutes Since 12o Clock', 'day', 'month', 'year']\n",
    "target_column_names = ['Wind Direction(compass) (t+1)', 'Pressure(hpa) (t+1)', 'Wind Speed(mph) (t+1)', 'Temperature(C) (t+1)', 'Visibility(m) (t+1)', 'Weather Type (t+1)']\n",
    "\n",
    "# Data normalization\n",
    "def normalize_data(df, feature_columns, target_columns):\n",
    "    scaler = StandardScaler()\n",
    "    df[feature_columns] = scaler.fit_transform(df[feature_columns])\n",
    "    df[target_columns] = scaler.fit_transform(df[target_columns])\n",
    "    return df\n",
    "\n",
    "def train(weather_data:pd.DataFrame):\n",
    "\n",
    "    weather_data = normalize_data(weather_data, feature_columns_names, target_column_names)\n",
    "    \n",
    "    model = WeatherModel(parameters)\n",
    "    weather_data_class = WeatherDataLoader(data=weather_data, features=feature_columns_names, target=target_column_names)\n",
    "    dataloader = DataLoader(weather_data_class, batch_size=parameters[\"batch_size\"], shuffle=True)\n",
    "    criterion = nn.MSELoss()\n",
    "    optimizer = optim.Adam(model.parameters(), lr=parameters[\"learning_rate\"])\n",
    "\n",
    "    for epoch in range(parameters[\"num_epochs\"]):\n",
    "        all_preds = []\n",
    "        all_labels = []\n",
    "        running_loss = 0.0\n",
    "\n",
    "        with tqdm(dataloader, unit=\"batch\") as tepoch:\n",
    "            for idx, (X, y) in enumerate(tepoch):\n",
    "                tepoch.set_description(f\"Epoch {epoch + 1}\")\n",
    "\n",
    "                # Zero the gradients\n",
    "                optimizer.zero_grad()\n",
    "                # Forward pass\n",
    "                wind_direction, pressure, wind_speed, temperature, visibility, weather_type = model(X)\n",
    "\n",
    "                # Compute loss\n",
    "                loss_wind_direction = criterion(wind_direction, y[:, 0].view(-1, 1))\n",
    "                loss_pressure = criterion(pressure, y[:, 1].view(-1, 1))\n",
    "                loss_wind_speed = criterion(wind_speed, y[:, 2].view(-1, 1))\n",
    "                loss_temperature = criterion(temperature, y[:, 3].view(-1, 1))\n",
    "                loss_visibility = criterion(visibility, y[:, 4].view(-1, 1))\n",
    "                loss_weather_type = criterion(weather_type, y[:, 5].view(-1, 1))\n",
    "                # total loss\n",
    "                loss = (loss_wind_direction + loss_pressure + loss_wind_speed + loss_temperature + loss_visibility + loss_weather_type)\n",
    "\n",
    "                # Backpropagation and optimization\n",
    "                loss.backward()\n",
    "                optimizer.step()\n",
    "\n",
    "                running_loss += loss.item()\n",
    "                batch_preds = torch.cat([\n",
    "                    wind_direction.unsqueeze(1), pressure.unsqueeze(1), wind_speed.unsqueeze(1), \n",
    "                    temperature.unsqueeze(1), visibility.unsqueeze(1), weather_type.unsqueeze(1)\n",
    "                ], dim=1)\n",
    "                all_preds.append(batch_preds.detach().cpu().numpy())\n",
    "                all_labels.append(y.detach().cpu().numpy())\n",
    "\n",
    "                tepoch.set_postfix(loss=running_loss / (idx + 1))\n",
    "\n",
    "            all_preds = np.concatenate(all_preds, axis=0)\n",
    "            all_labels = np.concatenate(all_labels, axis=0)\n",
    "\n",
    "            all_preds = all_preds.reshape(-1, len(target_column_names))\n",
    "            all_labels = all_labels.reshape(-1, len(target_column_names))\n",
    "\n",
    "            mse = mean_squared_error(all_labels, all_preds)\n",
    "            rmse = np.sqrt(mse)\n",
    "            r2 = r2_score(all_labels, all_preds)\n",
    "            mae = mean_absolute_error(all_labels, all_preds)\n",
    "            \n",
    "            # Print metrics for the epoch\n",
    "            print(f'Epoch {epoch + 1}/{parameters[\"num_epochs\"]}, Loss: {running_loss / len(dataloader):.4f}')\n",
    "            print(f'MSE: {mse:.4f}, RMSE: {rmse:.4f}, R²: {r2:.4f}, MAE: {mae:.4f}')\n"
   ]
  },
  {
   "cell_type": "code",
   "execution_count": 11,
   "metadata": {},
   "outputs": [
    {
     "name": "stdout",
     "output_type": "stream",
     "text": [
      "Process Starting\n",
      "Parsing Data: Working..\n",
      "Parsing Data: Success\n",
      "Cleaning Data: Working..\n",
      "Cleaning Data: Success\n",
      "Validating Data: Working..\n",
      "Validating Data: Success\n",
      "Transforming Data: Working..\n",
      "Transforming Data: Success\n",
      "Target Variable Prep: Working..\n",
      "Target Variable Prep: Success\n",
      "Preparing for Model Training: Working..\n"
     ]
    },
    {
     "name": "stderr",
     "output_type": "stream",
     "text": [
      "Epoch 1: 100%|██████████| 75/75 [00:00<00:00, 210.87batch/s, loss=5.43]\n"
     ]
    },
    {
     "name": "stdout",
     "output_type": "stream",
     "text": [
      "Epoch 1/100, Loss: 5.4315\n",
      "MSE: 0.9060, RMSE: 0.9518, R²: 0.0940, MAE: 0.7548\n"
     ]
    },
    {
     "name": "stderr",
     "output_type": "stream",
     "text": [
      "Epoch 2: 100%|██████████| 75/75 [00:00<00:00, 288.25batch/s, loss=3.37]\n"
     ]
    },
    {
     "name": "stdout",
     "output_type": "stream",
     "text": [
      "Epoch 2/100, Loss: 3.3693\n",
      "MSE: 0.5624, RMSE: 0.7499, R²: 0.4376, MAE: 0.5835\n"
     ]
    },
    {
     "name": "stderr",
     "output_type": "stream",
     "text": [
      "Epoch 3: 100%|██████████| 75/75 [00:00<00:00, 300.05batch/s, loss=2.26]\n"
     ]
    },
    {
     "name": "stdout",
     "output_type": "stream",
     "text": [
      "Epoch 3/100, Loss: 2.2616\n",
      "MSE: 0.3768, RMSE: 0.6139, R²: 0.6232, MAE: 0.4563\n"
     ]
    },
    {
     "name": "stderr",
     "output_type": "stream",
     "text": [
      "Epoch 4: 100%|██████████| 75/75 [00:00<00:00, 356.13batch/s, loss=1.76]\n"
     ]
    },
    {
     "name": "stdout",
     "output_type": "stream",
     "text": [
      "Epoch 4/100, Loss: 1.7558\n",
      "MSE: 0.2927, RMSE: 0.5410, R²: 0.7073, MAE: 0.3793\n"
     ]
    },
    {
     "name": "stderr",
     "output_type": "stream",
     "text": [
      "Epoch 5: 100%|██████████| 75/75 [00:00<00:00, 280.47batch/s, loss=1.52]\n"
     ]
    },
    {
     "name": "stdout",
     "output_type": "stream",
     "text": [
      "Epoch 5/100, Loss: 1.5200\n",
      "MSE: 0.2534, RMSE: 0.5034, R²: 0.7466, MAE: 0.3330\n"
     ]
    },
    {
     "name": "stderr",
     "output_type": "stream",
     "text": [
      "Epoch 6: 100%|██████████| 75/75 [00:00<00:00, 307.63batch/s, loss=1.44]\n"
     ]
    },
    {
     "name": "stdout",
     "output_type": "stream",
     "text": [
      "Epoch 6/100, Loss: 1.4442\n",
      "MSE: 0.2409, RMSE: 0.4908, R²: 0.7591, MAE: 0.3133\n"
     ]
    },
    {
     "name": "stderr",
     "output_type": "stream",
     "text": [
      "Epoch 7: 100%|██████████| 75/75 [00:00<00:00, 344.44batch/s, loss=1.41]\n"
     ]
    },
    {
     "name": "stdout",
     "output_type": "stream",
     "text": [
      "Epoch 7/100, Loss: 1.4146\n",
      "MSE: 0.2355, RMSE: 0.4853, R²: 0.7645, MAE: 0.3034\n"
     ]
    },
    {
     "name": "stderr",
     "output_type": "stream",
     "text": [
      "Epoch 8: 100%|██████████| 75/75 [00:00<00:00, 287.63batch/s, loss=1.39]\n"
     ]
    },
    {
     "name": "stdout",
     "output_type": "stream",
     "text": [
      "Epoch 8/100, Loss: 1.3925\n",
      "MSE: 0.2324, RMSE: 0.4820, R²: 0.7676, MAE: 0.2986\n"
     ]
    },
    {
     "name": "stderr",
     "output_type": "stream",
     "text": [
      "Epoch 9: 100%|██████████| 75/75 [00:00<00:00, 302.12batch/s, loss=1.38]\n"
     ]
    },
    {
     "name": "stdout",
     "output_type": "stream",
     "text": [
      "Epoch 9/100, Loss: 1.3822\n",
      "MSE: 0.2304, RMSE: 0.4800, R²: 0.7696, MAE: 0.2951\n"
     ]
    },
    {
     "name": "stderr",
     "output_type": "stream",
     "text": [
      "Epoch 10: 100%|██████████| 75/75 [00:00<00:00, 360.70batch/s, loss=1.37]\n"
     ]
    },
    {
     "name": "stdout",
     "output_type": "stream",
     "text": [
      "Epoch 10/100, Loss: 1.3699\n",
      "MSE: 0.2285, RMSE: 0.4781, R²: 0.7715, MAE: 0.2920\n"
     ]
    },
    {
     "name": "stderr",
     "output_type": "stream",
     "text": [
      "Epoch 11: 100%|██████████| 75/75 [00:00<00:00, 276.51batch/s, loss=1.36]\n"
     ]
    },
    {
     "name": "stdout",
     "output_type": "stream",
     "text": [
      "Epoch 11/100, Loss: 1.3610\n",
      "MSE: 0.2273, RMSE: 0.4767, R²: 0.7727, MAE: 0.2900\n"
     ]
    },
    {
     "name": "stderr",
     "output_type": "stream",
     "text": [
      "Epoch 12: 100%|██████████| 75/75 [00:00<00:00, 314.59batch/s, loss=1.36]\n"
     ]
    },
    {
     "name": "stdout",
     "output_type": "stream",
     "text": [
      "Epoch 12/100, Loss: 1.3605\n",
      "MSE: 0.2265, RMSE: 0.4759, R²: 0.7735, MAE: 0.2882\n"
     ]
    },
    {
     "name": "stderr",
     "output_type": "stream",
     "text": [
      "Epoch 13: 100%|██████████| 75/75 [00:00<00:00, 378.49batch/s, loss=1.36]\n"
     ]
    },
    {
     "name": "stdout",
     "output_type": "stream",
     "text": [
      "Epoch 13/100, Loss: 1.3550\n",
      "MSE: 0.2256, RMSE: 0.4750, R²: 0.7744, MAE: 0.2877\n"
     ]
    },
    {
     "name": "stderr",
     "output_type": "stream",
     "text": [
      "Epoch 14: 100%|██████████| 75/75 [00:00<00:00, 322.15batch/s, loss=1.35]\n"
     ]
    },
    {
     "name": "stdout",
     "output_type": "stream",
     "text": [
      "Epoch 14/100, Loss: 1.3489\n",
      "MSE: 0.2246, RMSE: 0.4740, R²: 0.7754, MAE: 0.2857\n"
     ]
    },
    {
     "name": "stderr",
     "output_type": "stream",
     "text": [
      "Epoch 15: 100%|██████████| 75/75 [00:00<00:00, 373.02batch/s, loss=1.35]\n"
     ]
    },
    {
     "name": "stdout",
     "output_type": "stream",
     "text": [
      "Epoch 15/100, Loss: 1.3457\n",
      "MSE: 0.2241, RMSE: 0.4734, R²: 0.7759, MAE: 0.2852\n"
     ]
    },
    {
     "name": "stderr",
     "output_type": "stream",
     "text": [
      "Epoch 16: 100%|██████████| 75/75 [00:00<00:00, 321.74batch/s, loss=1.34]\n"
     ]
    },
    {
     "name": "stdout",
     "output_type": "stream",
     "text": [
      "Epoch 16/100, Loss: 1.3413\n",
      "MSE: 0.2236, RMSE: 0.4729, R²: 0.7764, MAE: 0.2836\n"
     ]
    },
    {
     "name": "stderr",
     "output_type": "stream",
     "text": [
      "Epoch 17: 100%|██████████| 75/75 [00:00<00:00, 377.29batch/s, loss=1.34]\n"
     ]
    },
    {
     "name": "stdout",
     "output_type": "stream",
     "text": [
      "Epoch 17/100, Loss: 1.3388\n",
      "MSE: 0.2232, RMSE: 0.4724, R²: 0.7768, MAE: 0.2833\n"
     ]
    },
    {
     "name": "stderr",
     "output_type": "stream",
     "text": [
      "Epoch 18: 100%|██████████| 75/75 [00:00<00:00, 356.70batch/s, loss=1.34]\n"
     ]
    },
    {
     "name": "stdout",
     "output_type": "stream",
     "text": [
      "Epoch 18/100, Loss: 1.3361\n",
      "MSE: 0.2225, RMSE: 0.4717, R²: 0.7775, MAE: 0.2823\n"
     ]
    },
    {
     "name": "stderr",
     "output_type": "stream",
     "text": [
      "Epoch 19: 100%|██████████| 75/75 [00:00<00:00, 311.26batch/s, loss=1.33]\n"
     ]
    },
    {
     "name": "stdout",
     "output_type": "stream",
     "text": [
      "Epoch 19/100, Loss: 1.3300\n",
      "MSE: 0.2219, RMSE: 0.4711, R²: 0.7781, MAE: 0.2816\n"
     ]
    },
    {
     "name": "stderr",
     "output_type": "stream",
     "text": [
      "Epoch 20: 100%|██████████| 75/75 [00:00<00:00, 311.97batch/s, loss=1.33]\n"
     ]
    },
    {
     "name": "stdout",
     "output_type": "stream",
     "text": [
      "Epoch 20/100, Loss: 1.3311\n",
      "MSE: 0.2216, RMSE: 0.4708, R²: 0.7784, MAE: 0.2808\n"
     ]
    },
    {
     "name": "stderr",
     "output_type": "stream",
     "text": [
      "Epoch 21: 100%|██████████| 75/75 [00:00<00:00, 315.87batch/s, loss=1.33]\n"
     ]
    },
    {
     "name": "stdout",
     "output_type": "stream",
     "text": [
      "Epoch 21/100, Loss: 1.3276\n",
      "MSE: 0.2213, RMSE: 0.4704, R²: 0.7787, MAE: 0.2807\n"
     ]
    },
    {
     "name": "stderr",
     "output_type": "stream",
     "text": [
      "Epoch 22: 100%|██████████| 75/75 [00:00<00:00, 294.09batch/s, loss=1.32]\n"
     ]
    },
    {
     "name": "stdout",
     "output_type": "stream",
     "text": [
      "Epoch 22/100, Loss: 1.3250\n",
      "MSE: 0.2208, RMSE: 0.4699, R²: 0.7792, MAE: 0.2795\n"
     ]
    },
    {
     "name": "stderr",
     "output_type": "stream",
     "text": [
      "Epoch 23: 100%|██████████| 75/75 [00:00<00:00, 349.98batch/s, loss=1.32]\n"
     ]
    },
    {
     "name": "stdout",
     "output_type": "stream",
     "text": [
      "Epoch 23/100, Loss: 1.3237\n",
      "MSE: 0.2204, RMSE: 0.4695, R²: 0.7796, MAE: 0.2790\n"
     ]
    },
    {
     "name": "stderr",
     "output_type": "stream",
     "text": [
      "Epoch 24: 100%|██████████| 75/75 [00:00<00:00, 294.74batch/s, loss=1.32]\n"
     ]
    },
    {
     "name": "stdout",
     "output_type": "stream",
     "text": [
      "Epoch 24/100, Loss: 1.3231\n",
      "MSE: 0.2203, RMSE: 0.4693, R²: 0.7797, MAE: 0.2793\n"
     ]
    },
    {
     "name": "stderr",
     "output_type": "stream",
     "text": [
      "Epoch 25: 100%|██████████| 75/75 [00:00<00:00, 317.95batch/s, loss=1.32]\n"
     ]
    },
    {
     "name": "stdout",
     "output_type": "stream",
     "text": [
      "Epoch 25/100, Loss: 1.3179\n",
      "MSE: 0.2198, RMSE: 0.4689, R²: 0.7802, MAE: 0.2773\n"
     ]
    },
    {
     "name": "stderr",
     "output_type": "stream",
     "text": [
      "Epoch 26: 100%|██████████| 75/75 [00:00<00:00, 354.27batch/s, loss=1.32]\n"
     ]
    },
    {
     "name": "stdout",
     "output_type": "stream",
     "text": [
      "Epoch 26/100, Loss: 1.3156\n",
      "MSE: 0.2195, RMSE: 0.4685, R²: 0.7805, MAE: 0.2780\n"
     ]
    },
    {
     "name": "stderr",
     "output_type": "stream",
     "text": [
      "Epoch 27: 100%|██████████| 75/75 [00:00<00:00, 293.44batch/s, loss=1.32]\n"
     ]
    },
    {
     "name": "stdout",
     "output_type": "stream",
     "text": [
      "Epoch 27/100, Loss: 1.3157\n",
      "MSE: 0.2193, RMSE: 0.4683, R²: 0.7807, MAE: 0.2772\n"
     ]
    },
    {
     "name": "stderr",
     "output_type": "stream",
     "text": [
      "Epoch 28: 100%|██████████| 75/75 [00:00<00:00, 309.55batch/s, loss=1.31]\n"
     ]
    },
    {
     "name": "stdout",
     "output_type": "stream",
     "text": [
      "Epoch 28/100, Loss: 1.3148\n",
      "MSE: 0.2192, RMSE: 0.4682, R²: 0.7808, MAE: 0.2769\n"
     ]
    },
    {
     "name": "stderr",
     "output_type": "stream",
     "text": [
      "Epoch 29: 100%|██████████| 75/75 [00:00<00:00, 362.78batch/s, loss=1.31]\n"
     ]
    },
    {
     "name": "stdout",
     "output_type": "stream",
     "text": [
      "Epoch 29/100, Loss: 1.3130\n",
      "MSE: 0.2191, RMSE: 0.4680, R²: 0.7809, MAE: 0.2767\n"
     ]
    },
    {
     "name": "stderr",
     "output_type": "stream",
     "text": [
      "Epoch 30: 100%|██████████| 75/75 [00:00<00:00, 308.17batch/s, loss=1.31]\n"
     ]
    },
    {
     "name": "stdout",
     "output_type": "stream",
     "text": [
      "Epoch 30/100, Loss: 1.3119\n",
      "MSE: 0.2184, RMSE: 0.4673, R²: 0.7816, MAE: 0.2756\n"
     ]
    },
    {
     "name": "stderr",
     "output_type": "stream",
     "text": [
      "Epoch 31: 100%|██████████| 75/75 [00:00<00:00, 286.54batch/s, loss=1.31]\n"
     ]
    },
    {
     "name": "stdout",
     "output_type": "stream",
     "text": [
      "Epoch 31/100, Loss: 1.3105\n",
      "MSE: 0.2185, RMSE: 0.4674, R²: 0.7815, MAE: 0.2759\n"
     ]
    },
    {
     "name": "stderr",
     "output_type": "stream",
     "text": [
      "Epoch 32: 100%|██████████| 75/75 [00:00<00:00, 353.93batch/s, loss=1.31]\n"
     ]
    },
    {
     "name": "stdout",
     "output_type": "stream",
     "text": [
      "Epoch 32/100, Loss: 1.3100\n",
      "MSE: 0.2183, RMSE: 0.4672, R²: 0.7817, MAE: 0.2751\n"
     ]
    },
    {
     "name": "stderr",
     "output_type": "stream",
     "text": [
      "Epoch 33: 100%|██████████| 75/75 [00:00<00:00, 312.74batch/s, loss=1.31]\n"
     ]
    },
    {
     "name": "stdout",
     "output_type": "stream",
     "text": [
      "Epoch 33/100, Loss: 1.3086\n",
      "MSE: 0.2181, RMSE: 0.4670, R²: 0.7819, MAE: 0.2748\n"
     ]
    },
    {
     "name": "stderr",
     "output_type": "stream",
     "text": [
      "Epoch 34: 100%|██████████| 75/75 [00:00<00:00, 359.63batch/s, loss=1.31]\n"
     ]
    },
    {
     "name": "stdout",
     "output_type": "stream",
     "text": [
      "Epoch 34/100, Loss: 1.3059\n",
      "MSE: 0.2177, RMSE: 0.4666, R²: 0.7823, MAE: 0.2749\n"
     ]
    },
    {
     "name": "stderr",
     "output_type": "stream",
     "text": [
      "Epoch 35: 100%|██████████| 75/75 [00:00<00:00, 305.60batch/s, loss=1.31]\n"
     ]
    },
    {
     "name": "stdout",
     "output_type": "stream",
     "text": [
      "Epoch 35/100, Loss: 1.3064\n",
      "MSE: 0.2181, RMSE: 0.4670, R²: 0.7819, MAE: 0.2753\n"
     ]
    },
    {
     "name": "stderr",
     "output_type": "stream",
     "text": [
      "Epoch 36: 100%|██████████| 75/75 [00:00<00:00, 342.77batch/s, loss=1.3] \n"
     ]
    },
    {
     "name": "stdout",
     "output_type": "stream",
     "text": [
      "Epoch 36/100, Loss: 1.3032\n",
      "MSE: 0.2173, RMSE: 0.4661, R²: 0.7827, MAE: 0.2733\n"
     ]
    },
    {
     "name": "stderr",
     "output_type": "stream",
     "text": [
      "Epoch 37: 100%|██████████| 75/75 [00:00<00:00, 304.99batch/s, loss=1.3] \n"
     ]
    },
    {
     "name": "stdout",
     "output_type": "stream",
     "text": [
      "Epoch 37/100, Loss: 1.3012\n",
      "MSE: 0.2173, RMSE: 0.4661, R²: 0.7827, MAE: 0.2738\n"
     ]
    },
    {
     "name": "stderr",
     "output_type": "stream",
     "text": [
      "Epoch 38: 100%|██████████| 75/75 [00:00<00:00, 315.86batch/s, loss=1.31]\n"
     ]
    },
    {
     "name": "stdout",
     "output_type": "stream",
     "text": [
      "Epoch 38/100, Loss: 1.3078\n",
      "MSE: 0.2177, RMSE: 0.4666, R²: 0.7823, MAE: 0.2738\n"
     ]
    },
    {
     "name": "stderr",
     "output_type": "stream",
     "text": [
      "Epoch 39: 100%|██████████| 75/75 [00:00<00:00, 363.98batch/s, loss=1.31]\n"
     ]
    },
    {
     "name": "stdout",
     "output_type": "stream",
     "text": [
      "Epoch 39/100, Loss: 1.3063\n",
      "MSE: 0.2172, RMSE: 0.4660, R²: 0.7828, MAE: 0.2741\n"
     ]
    },
    {
     "name": "stderr",
     "output_type": "stream",
     "text": [
      "Epoch 40: 100%|██████████| 75/75 [00:00<00:00, 318.27batch/s, loss=1.31]\n"
     ]
    },
    {
     "name": "stdout",
     "output_type": "stream",
     "text": [
      "Epoch 40/100, Loss: 1.3062\n",
      "MSE: 0.2171, RMSE: 0.4659, R²: 0.7829, MAE: 0.2737\n"
     ]
    },
    {
     "name": "stderr",
     "output_type": "stream",
     "text": [
      "Epoch 41: 100%|██████████| 75/75 [00:00<00:00, 361.47batch/s, loss=1.3] \n"
     ]
    },
    {
     "name": "stdout",
     "output_type": "stream",
     "text": [
      "Epoch 41/100, Loss: 1.3007\n",
      "MSE: 0.2169, RMSE: 0.4657, R²: 0.7831, MAE: 0.2734\n"
     ]
    },
    {
     "name": "stderr",
     "output_type": "stream",
     "text": [
      "Epoch 42: 100%|██████████| 75/75 [00:00<00:00, 354.82batch/s, loss=1.3] \n"
     ]
    },
    {
     "name": "stdout",
     "output_type": "stream",
     "text": [
      "Epoch 42/100, Loss: 1.2994\n",
      "MSE: 0.2168, RMSE: 0.4656, R²: 0.7832, MAE: 0.2732\n"
     ]
    },
    {
     "name": "stderr",
     "output_type": "stream",
     "text": [
      "Epoch 43: 100%|██████████| 75/75 [00:00<00:00, 311.53batch/s, loss=1.3] \n"
     ]
    },
    {
     "name": "stdout",
     "output_type": "stream",
     "text": [
      "Epoch 43/100, Loss: 1.3002\n",
      "MSE: 0.2166, RMSE: 0.4654, R²: 0.7834, MAE: 0.2730\n"
     ]
    },
    {
     "name": "stderr",
     "output_type": "stream",
     "text": [
      "Epoch 44: 100%|██████████| 75/75 [00:00<00:00, 359.26batch/s, loss=1.3] \n"
     ]
    },
    {
     "name": "stdout",
     "output_type": "stream",
     "text": [
      "Epoch 44/100, Loss: 1.2999\n",
      "MSE: 0.2166, RMSE: 0.4654, R²: 0.7834, MAE: 0.2724\n"
     ]
    },
    {
     "name": "stderr",
     "output_type": "stream",
     "text": [
      "Epoch 45: 100%|██████████| 75/75 [00:00<00:00, 314.80batch/s, loss=1.3] \n"
     ]
    },
    {
     "name": "stdout",
     "output_type": "stream",
     "text": [
      "Epoch 45/100, Loss: 1.2988\n",
      "MSE: 0.2165, RMSE: 0.4653, R²: 0.7835, MAE: 0.2734\n"
     ]
    },
    {
     "name": "stderr",
     "output_type": "stream",
     "text": [
      "Epoch 46: 100%|██████████| 75/75 [00:00<00:00, 314.76batch/s, loss=1.3] \n"
     ]
    },
    {
     "name": "stdout",
     "output_type": "stream",
     "text": [
      "Epoch 46/100, Loss: 1.2978\n",
      "MSE: 0.2162, RMSE: 0.4650, R²: 0.7838, MAE: 0.2720\n"
     ]
    },
    {
     "name": "stderr",
     "output_type": "stream",
     "text": [
      "Epoch 47: 100%|██████████| 75/75 [00:00<00:00, 361.22batch/s, loss=1.3] \n"
     ]
    },
    {
     "name": "stdout",
     "output_type": "stream",
     "text": [
      "Epoch 47/100, Loss: 1.2952\n",
      "MSE: 0.2162, RMSE: 0.4650, R²: 0.7838, MAE: 0.2726\n"
     ]
    },
    {
     "name": "stderr",
     "output_type": "stream",
     "text": [
      "Epoch 48: 100%|██████████| 75/75 [00:00<00:00, 319.28batch/s, loss=1.3] \n"
     ]
    },
    {
     "name": "stdout",
     "output_type": "stream",
     "text": [
      "Epoch 48/100, Loss: 1.2974\n",
      "MSE: 0.2162, RMSE: 0.4650, R²: 0.7838, MAE: 0.2719\n"
     ]
    },
    {
     "name": "stderr",
     "output_type": "stream",
     "text": [
      "Epoch 49: 100%|██████████| 75/75 [00:00<00:00, 365.38batch/s, loss=1.3] \n"
     ]
    },
    {
     "name": "stdout",
     "output_type": "stream",
     "text": [
      "Epoch 49/100, Loss: 1.3018\n",
      "MSE: 0.2165, RMSE: 0.4653, R²: 0.7835, MAE: 0.2727\n"
     ]
    },
    {
     "name": "stderr",
     "output_type": "stream",
     "text": [
      "Epoch 50: 100%|██████████| 75/75 [00:00<00:00, 309.80batch/s, loss=1.3] \n"
     ]
    },
    {
     "name": "stdout",
     "output_type": "stream",
     "text": [
      "Epoch 50/100, Loss: 1.2951\n",
      "MSE: 0.2160, RMSE: 0.4648, R²: 0.7840, MAE: 0.2722\n"
     ]
    },
    {
     "name": "stderr",
     "output_type": "stream",
     "text": [
      "Epoch 51: 100%|██████████| 75/75 [00:00<00:00, 316.47batch/s, loss=1.3] \n"
     ]
    },
    {
     "name": "stdout",
     "output_type": "stream",
     "text": [
      "Epoch 51/100, Loss: 1.2993\n",
      "MSE: 0.2159, RMSE: 0.4647, R²: 0.7841, MAE: 0.2722\n"
     ]
    },
    {
     "name": "stderr",
     "output_type": "stream",
     "text": [
      "Epoch 52: 100%|██████████| 75/75 [00:00<00:00, 357.70batch/s, loss=1.29]\n"
     ]
    },
    {
     "name": "stdout",
     "output_type": "stream",
     "text": [
      "Epoch 52/100, Loss: 1.2918\n",
      "MSE: 0.2157, RMSE: 0.4645, R²: 0.7843, MAE: 0.2719\n"
     ]
    },
    {
     "name": "stderr",
     "output_type": "stream",
     "text": [
      "Epoch 53: 100%|██████████| 75/75 [00:00<00:00, 299.26batch/s, loss=1.29]\n"
     ]
    },
    {
     "name": "stdout",
     "output_type": "stream",
     "text": [
      "Epoch 53/100, Loss: 1.2914\n",
      "MSE: 0.2154, RMSE: 0.4641, R²: 0.7846, MAE: 0.2715\n"
     ]
    },
    {
     "name": "stderr",
     "output_type": "stream",
     "text": [
      "Epoch 54: 100%|██████████| 75/75 [00:00<00:00, 315.69batch/s, loss=1.3] \n"
     ]
    },
    {
     "name": "stdout",
     "output_type": "stream",
     "text": [
      "Epoch 54/100, Loss: 1.2964\n",
      "MSE: 0.2156, RMSE: 0.4644, R²: 0.7844, MAE: 0.2711\n"
     ]
    },
    {
     "name": "stderr",
     "output_type": "stream",
     "text": [
      "Epoch 55: 100%|██████████| 75/75 [00:00<00:00, 352.00batch/s, loss=1.29]\n"
     ]
    },
    {
     "name": "stdout",
     "output_type": "stream",
     "text": [
      "Epoch 55/100, Loss: 1.2925\n",
      "MSE: 0.2153, RMSE: 0.4640, R²: 0.7847, MAE: 0.2715\n"
     ]
    },
    {
     "name": "stderr",
     "output_type": "stream",
     "text": [
      "Epoch 56: 100%|██████████| 75/75 [00:00<00:00, 301.32batch/s, loss=1.29]\n"
     ]
    },
    {
     "name": "stdout",
     "output_type": "stream",
     "text": [
      "Epoch 56/100, Loss: 1.2912\n",
      "MSE: 0.2154, RMSE: 0.4641, R²: 0.7846, MAE: 0.2714\n"
     ]
    },
    {
     "name": "stderr",
     "output_type": "stream",
     "text": [
      "Epoch 57: 100%|██████████| 75/75 [00:00<00:00, 288.72batch/s, loss=1.29]\n"
     ]
    },
    {
     "name": "stdout",
     "output_type": "stream",
     "text": [
      "Epoch 57/100, Loss: 1.2919\n",
      "MSE: 0.2151, RMSE: 0.4638, R²: 0.7849, MAE: 0.2707\n"
     ]
    },
    {
     "name": "stderr",
     "output_type": "stream",
     "text": [
      "Epoch 58: 100%|██████████| 75/75 [00:00<00:00, 338.78batch/s, loss=1.29]\n"
     ]
    },
    {
     "name": "stdout",
     "output_type": "stream",
     "text": [
      "Epoch 58/100, Loss: 1.2906\n",
      "MSE: 0.2152, RMSE: 0.4639, R²: 0.7848, MAE: 0.2712\n"
     ]
    },
    {
     "name": "stderr",
     "output_type": "stream",
     "text": [
      "Epoch 59: 100%|██████████| 75/75 [00:00<00:00, 311.55batch/s, loss=1.29]\n"
     ]
    },
    {
     "name": "stdout",
     "output_type": "stream",
     "text": [
      "Epoch 59/100, Loss: 1.2918\n",
      "MSE: 0.2151, RMSE: 0.4638, R²: 0.7849, MAE: 0.2707\n"
     ]
    },
    {
     "name": "stderr",
     "output_type": "stream",
     "text": [
      "Epoch 60: 100%|██████████| 75/75 [00:00<00:00, 363.18batch/s, loss=1.29]\n"
     ]
    },
    {
     "name": "stdout",
     "output_type": "stream",
     "text": [
      "Epoch 60/100, Loss: 1.2930\n",
      "MSE: 0.2151, RMSE: 0.4638, R²: 0.7849, MAE: 0.2705\n"
     ]
    },
    {
     "name": "stderr",
     "output_type": "stream",
     "text": [
      "Epoch 61: 100%|██████████| 75/75 [00:00<00:00, 306.78batch/s, loss=1.29]\n"
     ]
    },
    {
     "name": "stdout",
     "output_type": "stream",
     "text": [
      "Epoch 61/100, Loss: 1.2911\n",
      "MSE: 0.2150, RMSE: 0.4637, R²: 0.7850, MAE: 0.2710\n"
     ]
    },
    {
     "name": "stderr",
     "output_type": "stream",
     "text": [
      "Epoch 62: 100%|██████████| 75/75 [00:00<00:00, 315.73batch/s, loss=1.29]\n"
     ]
    },
    {
     "name": "stdout",
     "output_type": "stream",
     "text": [
      "Epoch 62/100, Loss: 1.2904\n",
      "MSE: 0.2150, RMSE: 0.4636, R²: 0.7850, MAE: 0.2719\n"
     ]
    },
    {
     "name": "stderr",
     "output_type": "stream",
     "text": [
      "Epoch 63: 100%|██████████| 75/75 [00:00<00:00, 351.83batch/s, loss=1.29]\n"
     ]
    },
    {
     "name": "stdout",
     "output_type": "stream",
     "text": [
      "Epoch 63/100, Loss: 1.2902\n",
      "MSE: 0.2152, RMSE: 0.4639, R²: 0.7848, MAE: 0.2706\n"
     ]
    },
    {
     "name": "stderr",
     "output_type": "stream",
     "text": [
      "Epoch 64: 100%|██████████| 75/75 [00:00<00:00, 259.38batch/s, loss=1.29]\n"
     ]
    },
    {
     "name": "stdout",
     "output_type": "stream",
     "text": [
      "Epoch 64/100, Loss: 1.2922\n",
      "MSE: 0.2148, RMSE: 0.4635, R²: 0.7852, MAE: 0.2702\n"
     ]
    },
    {
     "name": "stderr",
     "output_type": "stream",
     "text": [
      "Epoch 65: 100%|██████████| 75/75 [00:00<00:00, 318.13batch/s, loss=1.29]\n"
     ]
    },
    {
     "name": "stdout",
     "output_type": "stream",
     "text": [
      "Epoch 65/100, Loss: 1.2896\n",
      "MSE: 0.2148, RMSE: 0.4635, R²: 0.7852, MAE: 0.2710\n"
     ]
    },
    {
     "name": "stderr",
     "output_type": "stream",
     "text": [
      "Epoch 66: 100%|██████████| 75/75 [00:00<00:00, 350.89batch/s, loss=1.29]\n"
     ]
    },
    {
     "name": "stdout",
     "output_type": "stream",
     "text": [
      "Epoch 66/100, Loss: 1.2866\n",
      "MSE: 0.2146, RMSE: 0.4632, R²: 0.7854, MAE: 0.2701\n"
     ]
    },
    {
     "name": "stderr",
     "output_type": "stream",
     "text": [
      "Epoch 67: 100%|██████████| 75/75 [00:00<00:00, 309.15batch/s, loss=1.29]\n"
     ]
    },
    {
     "name": "stdout",
     "output_type": "stream",
     "text": [
      "Epoch 67/100, Loss: 1.2862\n",
      "MSE: 0.2146, RMSE: 0.4632, R²: 0.7854, MAE: 0.2697\n"
     ]
    },
    {
     "name": "stderr",
     "output_type": "stream",
     "text": [
      "Epoch 68: 100%|██████████| 75/75 [00:00<00:00, 311.82batch/s, loss=1.29]\n"
     ]
    },
    {
     "name": "stdout",
     "output_type": "stream",
     "text": [
      "Epoch 68/100, Loss: 1.2895\n",
      "MSE: 0.2144, RMSE: 0.4630, R²: 0.7856, MAE: 0.2699\n"
     ]
    },
    {
     "name": "stderr",
     "output_type": "stream",
     "text": [
      "Epoch 69: 100%|██████████| 75/75 [00:00<00:00, 308.54batch/s, loss=1.29]\n"
     ]
    },
    {
     "name": "stdout",
     "output_type": "stream",
     "text": [
      "Epoch 69/100, Loss: 1.2862\n",
      "MSE: 0.2145, RMSE: 0.4631, R²: 0.7855, MAE: 0.2697\n"
     ]
    },
    {
     "name": "stderr",
     "output_type": "stream",
     "text": [
      "Epoch 70: 100%|██████████| 75/75 [00:00<00:00, 353.25batch/s, loss=1.29]\n"
     ]
    },
    {
     "name": "stdout",
     "output_type": "stream",
     "text": [
      "Epoch 70/100, Loss: 1.2872\n",
      "MSE: 0.2145, RMSE: 0.4632, R²: 0.7855, MAE: 0.2706\n"
     ]
    },
    {
     "name": "stderr",
     "output_type": "stream",
     "text": [
      "Epoch 71: 100%|██████████| 75/75 [00:00<00:00, 309.86batch/s, loss=1.29]\n"
     ]
    },
    {
     "name": "stdout",
     "output_type": "stream",
     "text": [
      "Epoch 71/100, Loss: 1.2888\n",
      "MSE: 0.2145, RMSE: 0.4631, R²: 0.7855, MAE: 0.2700\n"
     ]
    },
    {
     "name": "stderr",
     "output_type": "stream",
     "text": [
      "Epoch 72: 100%|██████████| 75/75 [00:00<00:00, 301.72batch/s, loss=1.28]\n"
     ]
    },
    {
     "name": "stdout",
     "output_type": "stream",
     "text": [
      "Epoch 72/100, Loss: 1.2844\n",
      "MSE: 0.2140, RMSE: 0.4627, R²: 0.7860, MAE: 0.2699\n"
     ]
    },
    {
     "name": "stderr",
     "output_type": "stream",
     "text": [
      "Epoch 73: 100%|██████████| 75/75 [00:00<00:00, 361.28batch/s, loss=1.29]\n"
     ]
    },
    {
     "name": "stdout",
     "output_type": "stream",
     "text": [
      "Epoch 73/100, Loss: 1.2860\n",
      "MSE: 0.2145, RMSE: 0.4631, R²: 0.7855, MAE: 0.2703\n"
     ]
    },
    {
     "name": "stderr",
     "output_type": "stream",
     "text": [
      "Epoch 74: 100%|██████████| 75/75 [00:00<00:00, 316.73batch/s, loss=1.29]\n"
     ]
    },
    {
     "name": "stdout",
     "output_type": "stream",
     "text": [
      "Epoch 74/100, Loss: 1.2878\n",
      "MSE: 0.2143, RMSE: 0.4630, R²: 0.7857, MAE: 0.2698\n"
     ]
    },
    {
     "name": "stderr",
     "output_type": "stream",
     "text": [
      "Epoch 75: 100%|██████████| 75/75 [00:00<00:00, 349.03batch/s, loss=1.28]\n"
     ]
    },
    {
     "name": "stdout",
     "output_type": "stream",
     "text": [
      "Epoch 75/100, Loss: 1.2828\n",
      "MSE: 0.2141, RMSE: 0.4627, R²: 0.7859, MAE: 0.2693\n"
     ]
    },
    {
     "name": "stderr",
     "output_type": "stream",
     "text": [
      "Epoch 76: 100%|██████████| 75/75 [00:00<00:00, 310.44batch/s, loss=1.28]\n"
     ]
    },
    {
     "name": "stdout",
     "output_type": "stream",
     "text": [
      "Epoch 76/100, Loss: 1.2826\n",
      "MSE: 0.2140, RMSE: 0.4626, R²: 0.7860, MAE: 0.2692\n"
     ]
    },
    {
     "name": "stderr",
     "output_type": "stream",
     "text": [
      "Epoch 77: 100%|██████████| 75/75 [00:00<00:00, 359.04batch/s, loss=1.28]\n"
     ]
    },
    {
     "name": "stdout",
     "output_type": "stream",
     "text": [
      "Epoch 77/100, Loss: 1.2832\n",
      "MSE: 0.2141, RMSE: 0.4627, R²: 0.7859, MAE: 0.2697\n"
     ]
    },
    {
     "name": "stderr",
     "output_type": "stream",
     "text": [
      "Epoch 78: 100%|██████████| 75/75 [00:00<00:00, 315.58batch/s, loss=1.28]\n"
     ]
    },
    {
     "name": "stdout",
     "output_type": "stream",
     "text": [
      "Epoch 78/100, Loss: 1.2819\n",
      "MSE: 0.2138, RMSE: 0.4623, R²: 0.7862, MAE: 0.2693\n"
     ]
    },
    {
     "name": "stderr",
     "output_type": "stream",
     "text": [
      "Epoch 79: 100%|██████████| 75/75 [00:00<00:00, 310.74batch/s, loss=1.28]\n"
     ]
    },
    {
     "name": "stdout",
     "output_type": "stream",
     "text": [
      "Epoch 79/100, Loss: 1.2839\n",
      "MSE: 0.2140, RMSE: 0.4626, R²: 0.7860, MAE: 0.2690\n"
     ]
    },
    {
     "name": "stderr",
     "output_type": "stream",
     "text": [
      "Epoch 80: 100%|██████████| 75/75 [00:00<00:00, 348.87batch/s, loss=1.28]\n"
     ]
    },
    {
     "name": "stdout",
     "output_type": "stream",
     "text": [
      "Epoch 80/100, Loss: 1.2807\n",
      "MSE: 0.2135, RMSE: 0.4621, R²: 0.7865, MAE: 0.2689\n"
     ]
    },
    {
     "name": "stderr",
     "output_type": "stream",
     "text": [
      "Epoch 81: 100%|██████████| 75/75 [00:00<00:00, 346.26batch/s, loss=1.28]\n"
     ]
    },
    {
     "name": "stdout",
     "output_type": "stream",
     "text": [
      "Epoch 81/100, Loss: 1.2819\n",
      "MSE: 0.2137, RMSE: 0.4623, R²: 0.7863, MAE: 0.2693\n"
     ]
    },
    {
     "name": "stderr",
     "output_type": "stream",
     "text": [
      "Epoch 82: 100%|██████████| 75/75 [00:00<00:00, 314.06batch/s, loss=1.28]\n"
     ]
    },
    {
     "name": "stdout",
     "output_type": "stream",
     "text": [
      "Epoch 82/100, Loss: 1.2820\n",
      "MSE: 0.2137, RMSE: 0.4623, R²: 0.7863, MAE: 0.2696\n"
     ]
    },
    {
     "name": "stderr",
     "output_type": "stream",
     "text": [
      "Epoch 83: 100%|██████████| 75/75 [00:00<00:00, 339.09batch/s, loss=1.28]\n"
     ]
    },
    {
     "name": "stdout",
     "output_type": "stream",
     "text": [
      "Epoch 83/100, Loss: 1.2816\n",
      "MSE: 0.2136, RMSE: 0.4622, R²: 0.7864, MAE: 0.2686\n"
     ]
    },
    {
     "name": "stderr",
     "output_type": "stream",
     "text": [
      "Epoch 84: 100%|██████████| 75/75 [00:00<00:00, 312.86batch/s, loss=1.28]\n"
     ]
    },
    {
     "name": "stdout",
     "output_type": "stream",
     "text": [
      "Epoch 84/100, Loss: 1.2817\n",
      "MSE: 0.2136, RMSE: 0.4622, R²: 0.7864, MAE: 0.2693\n"
     ]
    },
    {
     "name": "stderr",
     "output_type": "stream",
     "text": [
      "Epoch 85: 100%|██████████| 75/75 [00:00<00:00, 319.36batch/s, loss=1.28]\n"
     ]
    },
    {
     "name": "stdout",
     "output_type": "stream",
     "text": [
      "Epoch 85/100, Loss: 1.2796\n",
      "MSE: 0.2133, RMSE: 0.4619, R²: 0.7867, MAE: 0.2691\n"
     ]
    },
    {
     "name": "stderr",
     "output_type": "stream",
     "text": [
      "Epoch 86: 100%|██████████| 75/75 [00:00<00:00, 364.70batch/s, loss=1.28]\n"
     ]
    },
    {
     "name": "stdout",
     "output_type": "stream",
     "text": [
      "Epoch 86/100, Loss: 1.2811\n",
      "MSE: 0.2134, RMSE: 0.4619, R²: 0.7866, MAE: 0.2686\n"
     ]
    },
    {
     "name": "stderr",
     "output_type": "stream",
     "text": [
      "Epoch 87: 100%|██████████| 75/75 [00:00<00:00, 306.38batch/s, loss=1.28]\n"
     ]
    },
    {
     "name": "stdout",
     "output_type": "stream",
     "text": [
      "Epoch 87/100, Loss: 1.2805\n",
      "MSE: 0.2131, RMSE: 0.4616, R²: 0.7869, MAE: 0.2682\n"
     ]
    },
    {
     "name": "stderr",
     "output_type": "stream",
     "text": [
      "Epoch 88: 100%|██████████| 75/75 [00:00<00:00, 293.19batch/s, loss=1.28]\n"
     ]
    },
    {
     "name": "stdout",
     "output_type": "stream",
     "text": [
      "Epoch 88/100, Loss: 1.2771\n",
      "MSE: 0.2130, RMSE: 0.4616, R²: 0.7870, MAE: 0.2688\n"
     ]
    },
    {
     "name": "stderr",
     "output_type": "stream",
     "text": [
      "Epoch 89: 100%|██████████| 75/75 [00:00<00:00, 349.31batch/s, loss=1.28]\n"
     ]
    },
    {
     "name": "stdout",
     "output_type": "stream",
     "text": [
      "Epoch 89/100, Loss: 1.2784\n",
      "MSE: 0.2132, RMSE: 0.4617, R²: 0.7868, MAE: 0.2677\n"
     ]
    },
    {
     "name": "stderr",
     "output_type": "stream",
     "text": [
      "Epoch 90: 100%|██████████| 75/75 [00:00<00:00, 314.58batch/s, loss=1.28]\n"
     ]
    },
    {
     "name": "stdout",
     "output_type": "stream",
     "text": [
      "Epoch 90/100, Loss: 1.2772\n",
      "MSE: 0.2128, RMSE: 0.4614, R²: 0.7872, MAE: 0.2684\n"
     ]
    },
    {
     "name": "stderr",
     "output_type": "stream",
     "text": [
      "Epoch 91: 100%|██████████| 75/75 [00:00<00:00, 358.32batch/s, loss=1.28]\n"
     ]
    },
    {
     "name": "stdout",
     "output_type": "stream",
     "text": [
      "Epoch 91/100, Loss: 1.2767\n",
      "MSE: 0.2129, RMSE: 0.4614, R²: 0.7871, MAE: 0.2681\n"
     ]
    },
    {
     "name": "stderr",
     "output_type": "stream",
     "text": [
      "Epoch 92: 100%|██████████| 75/75 [00:00<00:00, 341.41batch/s, loss=1.28]\n"
     ]
    },
    {
     "name": "stdout",
     "output_type": "stream",
     "text": [
      "Epoch 92/100, Loss: 1.2780\n",
      "MSE: 0.2129, RMSE: 0.4614, R²: 0.7871, MAE: 0.2680\n"
     ]
    },
    {
     "name": "stderr",
     "output_type": "stream",
     "text": [
      "Epoch 93: 100%|██████████| 75/75 [00:00<00:00, 316.29batch/s, loss=1.27]\n"
     ]
    },
    {
     "name": "stdout",
     "output_type": "stream",
     "text": [
      "Epoch 93/100, Loss: 1.2741\n",
      "MSE: 0.2125, RMSE: 0.4610, R²: 0.7875, MAE: 0.2681\n"
     ]
    },
    {
     "name": "stderr",
     "output_type": "stream",
     "text": [
      "Epoch 94: 100%|██████████| 75/75 [00:00<00:00, 351.77batch/s, loss=1.27]\n"
     ]
    },
    {
     "name": "stdout",
     "output_type": "stream",
     "text": [
      "Epoch 94/100, Loss: 1.2733\n",
      "MSE: 0.2124, RMSE: 0.4608, R²: 0.7876, MAE: 0.2674\n"
     ]
    },
    {
     "name": "stderr",
     "output_type": "stream",
     "text": [
      "Epoch 95: 100%|██████████| 75/75 [00:00<00:00, 316.17batch/s, loss=1.27]\n"
     ]
    },
    {
     "name": "stdout",
     "output_type": "stream",
     "text": [
      "Epoch 95/100, Loss: 1.2716\n",
      "MSE: 0.2121, RMSE: 0.4605, R²: 0.7879, MAE: 0.2677\n"
     ]
    },
    {
     "name": "stderr",
     "output_type": "stream",
     "text": [
      "Epoch 96: 100%|██████████| 75/75 [00:00<00:00, 358.31batch/s, loss=1.28]\n"
     ]
    },
    {
     "name": "stdout",
     "output_type": "stream",
     "text": [
      "Epoch 96/100, Loss: 1.2756\n",
      "MSE: 0.2123, RMSE: 0.4607, R²: 0.7877, MAE: 0.2671\n"
     ]
    },
    {
     "name": "stderr",
     "output_type": "stream",
     "text": [
      "Epoch 97: 100%|██████████| 75/75 [00:00<00:00, 312.07batch/s, loss=1.27]\n"
     ]
    },
    {
     "name": "stdout",
     "output_type": "stream",
     "text": [
      "Epoch 97/100, Loss: 1.2729\n",
      "MSE: 0.2119, RMSE: 0.4604, R²: 0.7881, MAE: 0.2673\n"
     ]
    },
    {
     "name": "stderr",
     "output_type": "stream",
     "text": [
      "Epoch 98: 100%|██████████| 75/75 [00:00<00:00, 314.66batch/s, loss=1.27]\n"
     ]
    },
    {
     "name": "stdout",
     "output_type": "stream",
     "text": [
      "Epoch 98/100, Loss: 1.2710\n",
      "MSE: 0.2113, RMSE: 0.4597, R²: 0.7887, MAE: 0.2658\n"
     ]
    },
    {
     "name": "stderr",
     "output_type": "stream",
     "text": [
      "Epoch 99: 100%|██████████| 75/75 [00:00<00:00, 359.36batch/s, loss=1.27]\n"
     ]
    },
    {
     "name": "stdout",
     "output_type": "stream",
     "text": [
      "Epoch 99/100, Loss: 1.2690\n",
      "MSE: 0.2115, RMSE: 0.4599, R²: 0.7885, MAE: 0.2663\n"
     ]
    },
    {
     "name": "stderr",
     "output_type": "stream",
     "text": [
      "Epoch 100: 100%|██████████| 75/75 [00:00<00:00, 315.28batch/s, loss=1.27]\n"
     ]
    },
    {
     "name": "stdout",
     "output_type": "stream",
     "text": [
      "Epoch 100/100, Loss: 1.2667\n",
      "MSE: 0.2110, RMSE: 0.4593, R²: 0.7890, MAE: 0.2663\n",
      "Model Training: Success\n"
     ]
    }
   ],
   "source": [
    "print(\"Process Starting\")\n",
    "print(\"Parsing Data: Working..\")\n",
    "weather_data = json_to_dataframe()\n",
    "print(\"Parsing Data: Success\")\n",
    "print(\"Cleaning Data: Working..\")\n",
    "weather_data = clean_dataframe(weather_data)\n",
    "print(\"Cleaning Data: Success\")\n",
    "print(\"Validating Data: Working..\")\n",
    "validation_status = validate_data_columns(weather_data)\n",
    "\n",
    "if validation_status:\n",
    "    print(\"Validating Data: Success\")\n",
    "    print(\"Transforming Data: Working..\")\n",
    "    weather_data = transform_date_feature(weather_data)\n",
    "    print(\"Transforming Data: Success\")\n",
    "    print(\"Target Variable Prep: Working..\")\n",
    "    weather_data = make_target_features(weather_data)\n",
    "    print(\"Target Variable Prep: Success\")\n",
    "    print(\"Preparing for Model Training: Working..\")\n",
    "    train(weather_data)\n",
    "    print(\"Model Training: Success\")\n",
    "\n",
    "else:\n",
    "    print(\"Validating Data: Failed\")\n",
    "\n",
    "\n"
   ]
  },
  {
   "cell_type": "code",
   "execution_count": 12,
   "metadata": {},
   "outputs": [
    {
     "ename": "NameError",
     "evalue": "name 'model' is not defined",
     "output_type": "error",
     "traceback": [
      "\u001b[0;31m---------------------------------------------------------------------------\u001b[0m",
      "\u001b[0;31mNameError\u001b[0m                                 Traceback (most recent call last)",
      "Cell \u001b[0;32mIn[12], line 1\u001b[0m\n\u001b[0;32m----> 1\u001b[0m torch\u001b[38;5;241m.\u001b[39msave(\u001b[43mmodel\u001b[49m\u001b[38;5;241m.\u001b[39mstate_dict(), \u001b[38;5;124m\"\u001b[39m\u001b[38;5;124m/Users/jaya/Downloads/Git/Github/weather-prediction/artifacts/model_trainer/models/model.pth\u001b[39m\u001b[38;5;124m\"\u001b[39m)\n",
      "\u001b[0;31mNameError\u001b[0m: name 'model' is not defined"
     ]
    }
   ],
   "source": [
    "torch.save(model.state_dict(), \"/Users/jaya/Downloads/Git/Github/weather-prediction/artifacts/model_trainer/models/model.pth\")\n"
   ]
  },
  {
   "cell_type": "code",
   "execution_count": null,
   "metadata": {},
   "outputs": [],
   "source": []
  }
 ],
 "metadata": {
  "kernelspec": {
   "display_name": "Python 3",
   "language": "python",
   "name": "python3"
  },
  "language_info": {
   "codemirror_mode": {
    "name": "ipython",
    "version": 3
   },
   "file_extension": ".py",
   "mimetype": "text/x-python",
   "name": "python",
   "nbconvert_exporter": "python",
   "pygments_lexer": "ipython3",
   "version": "3.10.13"
  }
 },
 "nbformat": 4,
 "nbformat_minor": 2
}
