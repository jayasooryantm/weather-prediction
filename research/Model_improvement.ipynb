{
 "cells": [
  {
   "cell_type": "code",
   "execution_count": 382,
   "metadata": {},
   "outputs": [],
   "source": [
    "import os\n",
    "import json\n",
    "from pathlib import Path\n",
    "from datetime import datetime\n",
    "\n",
    "import pandas as pd\n",
    "import numpy as np\n",
    "from tqdm import tqdm\n",
    "\n",
    "from torch import nn, optim\n",
    "from torch.utils.data import Dataset, DataLoader\n",
    "import torch\n",
    "\n",
    "from sklearn.preprocessing import MinMaxScaler\n",
    "from sklearn.model_selection import train_test_split\n",
    "from sklearn.metrics import mean_squared_error, mean_absolute_error, r2_score\n",
    "from sklearn.preprocessing import StandardScaler\n",
    "\n",
    "import shap\n"
   ]
  },
  {
   "cell_type": "code",
   "execution_count": 383,
   "metadata": {},
   "outputs": [],
   "source": [
    "def json_to_dataframe() -> pd.DataFrame:\n",
    "        \"\"\"\n",
    "            Converts the JSON data into a pandas dataframe.\n",
    "\n",
    "            :arg:\n",
    "                None\n",
    "            :return:\n",
    "                weather_data (pandas dataframe): dataframe containing the weather data\n",
    "            \"\"\"\n",
    "\n",
    "        folder_path = \"/Users/jaya/Downloads/Git/Github/weather-prediction/artifacts/data_ingestion/data\"\n",
    "        file_names = os.listdir(folder_path)\n",
    "        \n",
    "        json_filepaths = [os.path.join(folder_path, name) for name in file_names if os.path.isfile(os.path.join(folder_path, name))]\n",
    "        weather_data = None\n",
    "        for filepath in json_filepaths:\n",
    "            json_file = json.load(Path(filepath).open())\n",
    "            for day in json_file['SiteRep']['DV']['Location']['Period']:\n",
    "                df = pd.DataFrame(day['Rep'])\n",
    "                df['date'] = day['value']\n",
    "                weather_data = pd.concat([weather_data, df], ignore_index=True)\n",
    "        return weather_data\n"
   ]
  },
  {
   "cell_type": "code",
   "execution_count": 384,
   "metadata": {},
   "outputs": [],
   "source": [
    "data_headers = {\n",
    "\"D\": \"Wind Direction(compass)\",\n",
    "\"G\": \"Wind Gust(mph)\",\n",
    "\"H\": \"Screen Relative Humidity(%)\",\n",
    "\"P\": \"Pressure(hpa)\",\n",
    "\"S\": \"Wind Speed(mph)\",\n",
    "\"T\": \"Temperature(C)\",\n",
    "\"V\": \"Visibility(m)\",\n",
    "\"W\": \"Weather Type\",\n",
    "\"Pt\": \"Pressure Tendency\",\n",
    "\"Dp\": \"Dew Point(C)\",\n",
    "\"$\": \"Minutes Since 12o Clock\"\n",
    "}\n",
    "\n",
    "compass_directions_map = {\n",
    "\"N\": 1,\n",
    "\"NNE\": 2,\n",
    "\"NE\": 3,\n",
    "\"ENE\": 4,\n",
    "\"E\": 5,\n",
    "\"ESE\": 6,\n",
    "\"SE\": 7,\n",
    "\"SSE\": 8,\n",
    "\"S\": 9,\n",
    "\"SSW\": 10,\n",
    "\"SW\": 11,\n",
    "\"WSW\": 12,\n",
    "\"W\": 13,\n",
    "\"WNW\": 14,\n",
    "\"NW\": 15,\n",
    "\"NNW\": 16 }\n",
    "\n",
    "Pressure_tendency_map = {\"F\": 0, \"R\": 1, \"S\": 2}\n",
    "\n",
    "column_datatypes = {\n",
    "\"Wind Direction(compass)\": int,\n",
    "\"Wind Gust(mph)\": float,\n",
    "\"Screen Relative Humidity(%)\": float,\n",
    "\"Pressure(hpa)\": float,\n",
    "\"Wind Speed(mph)\": float,\n",
    "\"Temperature(C)\": float,\n",
    "\"Visibility(m)\": float,\n",
    "\"Weather Type\": int,\n",
    "\"Pressure Tendency\": int,\n",
    "\"Dew Point(C)\": float,\n",
    "\"Minutes Since 12o Clock\": int,\n",
    "\"date\": \"datetime64[ns]\"\n",
    "}\n",
    "\n",
    "def clean_dataframe(weather_data: pd.DataFrame):\n",
    "    weather_data.rename(columns=data_headers, inplace=True)\n",
    "    weather_data.dropna(how='any', inplace=True)\n",
    "    weather_data['Wind Direction(compass)'] = weather_data['Wind Direction(compass)'].map(compass_directions_map)\n",
    "    weather_data['Pressure Tendency'] = weather_data['Pressure Tendency'].map(Pressure_tendency_map)\n",
    "    weather_data['date'] = weather_data['date'].str.replace('Z','')\n",
    "    weather_data = weather_data.astype(column_datatypes)\n",
    "    weather_data['date'] = pd.to_datetime(weather_data['date'], format='%Y-%m-%d')\n",
    "    return weather_data\n",
    "\n",
    "def validate_data_columns(weather_data: pd.DataFrame) -> bool:\n",
    "    try:\n",
    "        validation_status = None\n",
    "        data = weather_data\n",
    "        all_columns = list(data.columns)\n",
    "        schema_columns = list(column_datatypes.keys())\n",
    "        if not sorted(all_columns) == sorted(schema_columns):\n",
    "            validation_status = False\n",
    "        else:\n",
    "            validation_status = True\n",
    "            for column, datatype in column_datatypes.items():\n",
    "                if not data[column].dtype == datatype:\n",
    "                    validation_status = False\n",
    "        return validation_status\n",
    "    except Exception as e:\n",
    "        raise e\n"
   ]
  },
  {
   "cell_type": "code",
   "execution_count": 385,
   "metadata": {},
   "outputs": [],
   "source": [
    "target_variables = ['Wind Direction(compass)', 'Pressure(hpa)', 'Wind Speed(mph)', 'Temperature(C)', 'Visibility(m)', 'Weather Type']\n",
    "target_column_names = ['Wind Direction(compass) (t+1)', 'Pressure(hpa) (t+1)', 'Wind Speed(mph) (t+1)', 'Temperature(C) (t+1)', 'Visibility(m) (t+1)', 'Weather Type (t+1)']\n",
    "\n",
    "def transform_date_feature(weather_data) -> pd.DataFrame:\n",
    "    weather_data['day'] = weather_data['date'].dt.day\n",
    "    weather_data['month'] = weather_data['date'].dt.month\n",
    "    weather_data['year'] = weather_data['date'].dt.year\n",
    "    weather_data.drop('date', axis=1, inplace=True)\n",
    "    return weather_data\n",
    "\n",
    "def make_target_features(weather_data) -> pd.DataFrame:\n",
    "    weather_data.sort_values(by=['year', 'month', 'day', 'Minutes Since 12o Clock'], kind='mergesort', inplace=True)\n",
    "    target = weather_data[target_variables].shift(-1)\n",
    "    target.columns = target_column_names\n",
    "    target = pd.concat([weather_data, target], axis=1)\n",
    "    target.dropna(inplace=True)\n",
    "    return target\n",
    "\n",
    "# def split_data(self, x, y):\n",
    "#     X_train, y_train, X_test, y_test = train_test_split(x, y, test_size=0.2, random_state=42)\n",
    "#     return X_train, y_train, X_test, y_test\n",
    "\n",
    "# def min_max_scaler(x:pd.DataFrame) -> (pd.DataFrame, MinMaxScaler):\n",
    "#     scaler = MinMaxScaler()\n",
    "\n",
    "#     scaled_x = scaler.fit_transform(x)\n",
    "#     return pd.DataFrame(scaled_x, columns=x.columns), scaler\n",
    "\n",
    "# def invert_min_max_scaler(x:pd.DataFrame, scaler: MinMaxScaler) -> pd.DataFrame:\n",
    "#     original_data = scaler.inverse_transform(x)\n",
    "\n",
    "#     return pd.DataFrame(original_data, x.columns)\n"
   ]
  },
  {
   "cell_type": "code",
   "execution_count": 386,
   "metadata": {},
   "outputs": [],
   "source": [
    "parameters = {\n",
    "  \"input_dim\": 14,\n",
    "  \"output_dim\": 1,\n",
    "  \"hidden_dim\": 20,\n",
    "  \"learning_rate\": 0.001,\n",
    "  \"batch_size\": 100,\n",
    "  \"num_batches\": 62,\n",
    "  \"num_epochs\": 100\n",
    "}\n",
    "\n",
    "class WeatherModel(nn.Module):\n",
    "    def __init__(self, parameters:dict):\n",
    "        input_dim=parameters[\"input_dim\"]\n",
    "        output_dim=parameters[\"output_dim\"]\n",
    "        hidden_dim=parameters[\"hidden_dim\"]\n",
    "\n",
    "        super(WeatherModel, self).__init__()\n",
    "\n",
    "        # Shared hidden layers\n",
    "        self.shared_layer = nn.Sequential(\n",
    "            nn.Linear(input_dim, hidden_dim),\n",
    "            nn.ReLU(),\n",
    "            nn.Linear(hidden_dim, hidden_dim),\n",
    "            nn.ReLU()\n",
    "        )\n",
    "\n",
    "        # Output layers for each output\n",
    "        self.temperature_layer = nn.Linear(hidden_dim, output_dim)\n",
    "        self.visibility_layer = nn.Linear(hidden_dim, output_dim)\n",
    "        self.wind_direction_layer = nn.Linear(hidden_dim, output_dim)\n",
    "        self.wind_speed_layer = nn.Linear(hidden_dim, output_dim)\n",
    "        self.weather_type_layer = nn.Linear(hidden_dim, output_dim)\n",
    "        self.pressure_layer = nn.Linear(hidden_dim, output_dim)\n",
    "\n",
    "    def forward(self, input):\n",
    "        # Pass through shared hidden layer\n",
    "        shared_output = self.shared_layer(input)\n",
    "\n",
    "        # Separate output predictions\n",
    "        temperature = self.temperature_layer(shared_output)\n",
    "        visibility = self.visibility_layer(shared_output)\n",
    "        wind_direction = self.wind_direction_layer(shared_output)\n",
    "        wind_speed = self.wind_speed_layer(shared_output)\n",
    "        weather_type = self.weather_type_layer(shared_output)\n",
    "        pressure = self.pressure_layer(shared_output)\n",
    "\n",
    "        return wind_direction, pressure, wind_speed, temperature, visibility, weather_type\n"
   ]
  },
  {
   "cell_type": "code",
   "execution_count": 387,
   "metadata": {},
   "outputs": [],
   "source": [
    "class WeatherDataLoader(Dataset):\n",
    "    def __init__(self, data:pd.DataFrame, features:list, target:list):\n",
    "        self.X = torch.tensor(data[features].values,\n",
    "                              dtype=torch.float32)\n",
    "        self.y = torch.tensor(data[target].values, dtype=torch.float32)\n",
    "\n",
    "    def __len__(self):\n",
    "        return len(self.X)\n",
    "\n",
    "    def __getitem__(self, idx):\n",
    "        return self.X[idx], self.y[idx]\n"
   ]
  },
  {
   "cell_type": "code",
   "execution_count": 388,
   "metadata": {},
   "outputs": [],
   "source": [
    "feature_columns_names = ['Wind Direction(compass)', 'Wind Gust(mph)', 'Screen Relative Humidity(%)', 'Pressure(hpa)', 'Wind Speed(mph)', 'Temperature(C)', 'Visibility(m)', 'Weather Type', 'Pressure Tendency', 'Dew Point(C)', 'Minutes Since 12o Clock', 'day', 'month', 'year']\n",
    "target_column_names = ['Wind Direction(compass) (t+1)', 'Pressure(hpa) (t+1)', 'Wind Speed(mph) (t+1)', 'Temperature(C) (t+1)', 'Visibility(m) (t+1)', 'Weather Type (t+1)']\n",
    "\n",
    "# Data normalization\n",
    "def normalize_data(df, feature_columns, target_columns):\n",
    "    scaler = StandardScaler()\n",
    "    df[feature_columns] = scaler.fit_transform(df[feature_columns])\n",
    "    df[target_columns] = scaler.fit_transform(df[target_columns])\n",
    "    return df\n",
    "\n",
    "def train(weather_data:pd.DataFrame):\n",
    "\n",
    "    weather_data = normalize_data(weather_data, feature_columns_names, target_column_names)\n",
    "    \n",
    "    model = WeatherModel(parameters)\n",
    "    weather_data_class = WeatherDataLoader(data=weather_data, features=feature_columns_names, target=target_column_names)\n",
    "    dataloader = DataLoader(weather_data_class, batch_size=parameters[\"batch_size\"], shuffle=True)\n",
    "    criterion = nn.MSELoss()\n",
    "    optimizer = optim.Adam(model.parameters(), lr=parameters[\"learning_rate\"])\n",
    "\n",
    "    for epoch in range(parameters[\"num_epochs\"]):\n",
    "        all_preds = []\n",
    "        all_labels = []\n",
    "        running_loss = 0.0\n",
    "        with tqdm(dataloader, unit=\"batch\") as tepoch:\n",
    "            for idx, (X, y) in enumerate(tepoch):\n",
    "                tepoch.set_description(f\"Epoch {epoch + 1}\")\n",
    "\n",
    "                # Zero the gradients\n",
    "                optimizer.zero_grad()\n",
    "                # Forward pass\n",
    "                wind_direction, pressure, wind_speed, temperature, visibility, weather_type = model(X)\n",
    "\n",
    "                # Compute loss\n",
    "                loss_wind_direction = criterion(wind_direction, y[:, 0].view(-1, 1))\n",
    "                loss_pressure = criterion(pressure, y[:, 1].view(-1, 1))\n",
    "                loss_wind_speed = criterion(wind_speed, y[:, 2].view(-1, 1))\n",
    "                loss_temperature = criterion(temperature, y[:, 3].view(-1, 1))\n",
    "                loss_visibility = criterion(visibility, y[:, 4].view(-1, 1))\n",
    "                loss_weather_type = criterion(weather_type, y[:, 5].view(-1, 1))\n",
    "                # total loss\n",
    "                loss = (loss_wind_direction + loss_pressure + loss_wind_speed + loss_temperature + loss_visibility + loss_weather_type)\n",
    "\n",
    "                # Backpropagation and optimization\n",
    "                loss.backward()\n",
    "                optimizer.step()\n",
    "\n",
    "                running_loss += loss.item()\n",
    "                batch_preds = torch.cat([\n",
    "                    wind_direction.unsqueeze(1), pressure.unsqueeze(1), wind_speed.unsqueeze(1), \n",
    "                    temperature.unsqueeze(1), visibility.unsqueeze(1), weather_type.unsqueeze(1)\n",
    "                ], dim=1)\n",
    "                all_preds.append(batch_preds.detach().cpu().numpy())\n",
    "                all_labels.append(y.detach().cpu().numpy())\n",
    "\n",
    "                tepoch.set_postfix(loss=running_loss / (idx + 1))\n",
    "            \n",
    "        all_preds = np.concatenate(all_preds, axis=0)\n",
    "        all_labels = np.concatenate(all_labels, axis=0)\n",
    "\n",
    "        all_preds = all_preds.reshape(-1, len(target_column_names))\n",
    "        all_labels = all_labels.reshape(-1, len(target_column_names))\n",
    "\n",
    "        mse = mean_squared_error(all_labels, all_preds)\n",
    "        rmse = np.sqrt(mse)\n",
    "        r2 = r2_score(all_labels, all_preds)\n",
    "        mae = mean_absolute_error(all_labels, all_preds)\n",
    "        \n",
    "        # Print metrics for the epoch\n",
    "        print(f'Epoch {epoch + 1}/{parameters[\"num_epochs\"]}, Loss: {running_loss / len(dataloader):.4f}')\n",
    "        print(f'MSE: {mse:.4f}, RMSE: {rmse:.4f}, R²: {r2:.4f}, MAE: {mae:.4f}')\n",
    "\n",
    "    calculate_shap_values(model, weather_data, feature_columns_names)\n"
   ]
  },
  {
   "cell_type": "code",
   "execution_count": 389,
   "metadata": {},
   "outputs": [],
   "source": [
    "def calculate_shap_values(model, data, feature_columns):\n",
    "    # Convert the model to evaluation mode\n",
    "    model.eval()\n",
    "    \n",
    "    # Convert data to tensor\n",
    "    X = torch.tensor(data[feature_columns].values, dtype=torch.float32)\n",
    "    \n",
    "    # Define a function to get the model output\n",
    "    def model_output(X):\n",
    "        with torch.no_grad():\n",
    "            outputs = model(X)\n",
    "        return torch.cat(outputs, dim=1).detach().cpu().numpy()\n",
    "    \n",
    "    # Initialize SHAP explainer\n",
    "    explainer = shap.Explainer(model_output, X)\n",
    "    \n",
    "    # Calculate SHAP values\n",
    "    shap_values = explainer(X)\n",
    "    \n",
    "    # Visualize the SHAP summary plot\n",
    "    shap.summary_plot(shap_values, data[feature_columns])\n"
   ]
  },
  {
   "cell_type": "code",
   "execution_count": 390,
   "metadata": {},
   "outputs": [
    {
     "name": "stdout",
     "output_type": "stream",
     "text": [
      "Process Starting\n",
      "Parsing Data: Working..\n",
      "Parsing Data: Success\n",
      "Cleaning Data: Working..\n",
      "Cleaning Data: Success\n",
      "Validating Data: Working..\n",
      "Validating Data: Success\n",
      "Transforming Data: Working..\n",
      "Transforming Data: Success\n",
      "Target Variable Prep: Working..\n",
      "Target Variable Prep: Success\n",
      "Preparing for Model Training: Working..\n"
     ]
    },
    {
     "name": "stderr",
     "output_type": "stream",
     "text": [
      "Epoch 1: 100%|██████████| 75/75 [00:00<00:00, 352.21batch/s, loss=5.29]\n"
     ]
    },
    {
     "name": "stdout",
     "output_type": "stream",
     "text": [
      "Epoch 1/100, Loss: 5.2921\n",
      "MSE: 0.8831, RMSE: 0.9397, R²: 0.1169, MAE: 0.7493\n"
     ]
    },
    {
     "name": "stderr",
     "output_type": "stream",
     "text": [
      "Epoch 2: 100%|██████████| 75/75 [00:00<00:00, 352.07batch/s, loss=3.34]\n"
     ]
    },
    {
     "name": "stdout",
     "output_type": "stream",
     "text": [
      "Epoch 2/100, Loss: 3.3385\n",
      "MSE: 0.5571, RMSE: 0.7464, R²: 0.4429, MAE: 0.5835\n"
     ]
    },
    {
     "name": "stderr",
     "output_type": "stream",
     "text": [
      "Epoch 3: 100%|██████████| 75/75 [00:00<00:00, 361.55batch/s, loss=2.22]\n"
     ]
    },
    {
     "name": "stdout",
     "output_type": "stream",
     "text": [
      "Epoch 3/100, Loss: 2.2226\n",
      "MSE: 0.3709, RMSE: 0.6090, R²: 0.6291, MAE: 0.4509\n"
     ]
    },
    {
     "name": "stderr",
     "output_type": "stream",
     "text": [
      "Epoch 4: 100%|██████████| 75/75 [00:00<00:00, 258.16batch/s, loss=1.74]\n"
     ]
    },
    {
     "name": "stdout",
     "output_type": "stream",
     "text": [
      "Epoch 4/100, Loss: 1.7409\n",
      "MSE: 0.2903, RMSE: 0.5388, R²: 0.7097, MAE: 0.3723\n"
     ]
    },
    {
     "name": "stderr",
     "output_type": "stream",
     "text": [
      "Epoch 5: 100%|██████████| 75/75 [00:00<00:00, 355.68batch/s, loss=1.57]\n"
     ]
    },
    {
     "name": "stdout",
     "output_type": "stream",
     "text": [
      "Epoch 5/100, Loss: 1.5697\n",
      "MSE: 0.2611, RMSE: 0.5110, R²: 0.7389, MAE: 0.3391\n"
     ]
    },
    {
     "name": "stderr",
     "output_type": "stream",
     "text": [
      "Epoch 6: 100%|██████████| 75/75 [00:00<00:00, 364.39batch/s, loss=1.49]\n"
     ]
    },
    {
     "name": "stdout",
     "output_type": "stream",
     "text": [
      "Epoch 6/100, Loss: 1.4897\n",
      "MSE: 0.2484, RMSE: 0.4984, R²: 0.7516, MAE: 0.3219\n"
     ]
    },
    {
     "name": "stderr",
     "output_type": "stream",
     "text": [
      "Epoch 7: 100%|██████████| 75/75 [00:00<00:00, 348.47batch/s, loss=1.45]\n"
     ]
    },
    {
     "name": "stdout",
     "output_type": "stream",
     "text": [
      "Epoch 7/100, Loss: 1.4485\n",
      "MSE: 0.2414, RMSE: 0.4913, R²: 0.7586, MAE: 0.3113\n"
     ]
    },
    {
     "name": "stderr",
     "output_type": "stream",
     "text": [
      "Epoch 8: 100%|██████████| 75/75 [00:00<00:00, 340.16batch/s, loss=1.42]\n"
     ]
    },
    {
     "name": "stdout",
     "output_type": "stream",
     "text": [
      "Epoch 8/100, Loss: 1.4210\n",
      "MSE: 0.2373, RMSE: 0.4871, R²: 0.7627, MAE: 0.3053\n"
     ]
    },
    {
     "name": "stderr",
     "output_type": "stream",
     "text": [
      "Epoch 9: 100%|██████████| 75/75 [00:00<00:00, 264.01batch/s, loss=1.4] \n"
     ]
    },
    {
     "name": "stdout",
     "output_type": "stream",
     "text": [
      "Epoch 9/100, Loss: 1.4016\n",
      "MSE: 0.2340, RMSE: 0.4837, R²: 0.7660, MAE: 0.2995\n"
     ]
    },
    {
     "name": "stderr",
     "output_type": "stream",
     "text": [
      "Epoch 10: 100%|██████████| 75/75 [00:00<00:00, 341.90batch/s, loss=1.39]\n"
     ]
    },
    {
     "name": "stdout",
     "output_type": "stream",
     "text": [
      "Epoch 10/100, Loss: 1.3940\n",
      "MSE: 0.2322, RMSE: 0.4819, R²: 0.7678, MAE: 0.2972\n"
     ]
    },
    {
     "name": "stderr",
     "output_type": "stream",
     "text": [
      "Epoch 11: 100%|██████████| 75/75 [00:00<00:00, 362.91batch/s, loss=1.38]\n"
     ]
    },
    {
     "name": "stdout",
     "output_type": "stream",
     "text": [
      "Epoch 11/100, Loss: 1.3801\n",
      "MSE: 0.2302, RMSE: 0.4798, R²: 0.7698, MAE: 0.2946\n"
     ]
    },
    {
     "name": "stderr",
     "output_type": "stream",
     "text": [
      "Epoch 12: 100%|██████████| 75/75 [00:00<00:00, 333.80batch/s, loss=1.37]\n"
     ]
    },
    {
     "name": "stdout",
     "output_type": "stream",
     "text": [
      "Epoch 12/100, Loss: 1.3727\n",
      "MSE: 0.2285, RMSE: 0.4781, R²: 0.7715, MAE: 0.2919\n"
     ]
    },
    {
     "name": "stderr",
     "output_type": "stream",
     "text": [
      "Epoch 13: 100%|██████████| 75/75 [00:00<00:00, 351.47batch/s, loss=1.37]\n"
     ]
    },
    {
     "name": "stdout",
     "output_type": "stream",
     "text": [
      "Epoch 13/100, Loss: 1.3689\n",
      "MSE: 0.2280, RMSE: 0.4775, R²: 0.7720, MAE: 0.2917\n"
     ]
    },
    {
     "name": "stderr",
     "output_type": "stream",
     "text": [
      "Epoch 14: 100%|██████████| 75/75 [00:00<00:00, 261.81batch/s, loss=1.36]\n"
     ]
    },
    {
     "name": "stdout",
     "output_type": "stream",
     "text": [
      "Epoch 14/100, Loss: 1.3610\n",
      "MSE: 0.2266, RMSE: 0.4760, R²: 0.7734, MAE: 0.2885\n"
     ]
    },
    {
     "name": "stderr",
     "output_type": "stream",
     "text": [
      "Epoch 15: 100%|██████████| 75/75 [00:00<00:00, 365.42batch/s, loss=1.35]\n"
     ]
    },
    {
     "name": "stdout",
     "output_type": "stream",
     "text": [
      "Epoch 15/100, Loss: 1.3518\n",
      "MSE: 0.2254, RMSE: 0.4748, R²: 0.7746, MAE: 0.2870\n"
     ]
    },
    {
     "name": "stderr",
     "output_type": "stream",
     "text": [
      "Epoch 16: 100%|██████████| 75/75 [00:00<00:00, 356.74batch/s, loss=1.35]\n"
     ]
    },
    {
     "name": "stdout",
     "output_type": "stream",
     "text": [
      "Epoch 16/100, Loss: 1.3491\n",
      "MSE: 0.2249, RMSE: 0.4743, R²: 0.7751, MAE: 0.2865\n"
     ]
    },
    {
     "name": "stderr",
     "output_type": "stream",
     "text": [
      "Epoch 17: 100%|██████████| 75/75 [00:00<00:00, 309.56batch/s, loss=1.35]\n"
     ]
    },
    {
     "name": "stdout",
     "output_type": "stream",
     "text": [
      "Epoch 17/100, Loss: 1.3453\n",
      "MSE: 0.2243, RMSE: 0.4736, R²: 0.7757, MAE: 0.2848\n"
     ]
    },
    {
     "name": "stderr",
     "output_type": "stream",
     "text": [
      "Epoch 18: 100%|██████████| 75/75 [00:00<00:00, 355.94batch/s, loss=1.34]\n"
     ]
    },
    {
     "name": "stdout",
     "output_type": "stream",
     "text": [
      "Epoch 18/100, Loss: 1.3418\n",
      "MSE: 0.2236, RMSE: 0.4728, R²: 0.7764, MAE: 0.2848\n"
     ]
    },
    {
     "name": "stderr",
     "output_type": "stream",
     "text": [
      "Epoch 19: 100%|██████████| 75/75 [00:00<00:00, 357.98batch/s, loss=1.34]\n"
     ]
    },
    {
     "name": "stdout",
     "output_type": "stream",
     "text": [
      "Epoch 19/100, Loss: 1.3374\n",
      "MSE: 0.2231, RMSE: 0.4724, R²: 0.7769, MAE: 0.2830\n"
     ]
    },
    {
     "name": "stderr",
     "output_type": "stream",
     "text": [
      "Epoch 20: 100%|██████████| 75/75 [00:00<00:00, 362.62batch/s, loss=1.34]\n"
     ]
    },
    {
     "name": "stdout",
     "output_type": "stream",
     "text": [
      "Epoch 20/100, Loss: 1.3388\n",
      "MSE: 0.2227, RMSE: 0.4719, R²: 0.7773, MAE: 0.2832\n"
     ]
    },
    {
     "name": "stderr",
     "output_type": "stream",
     "text": [
      "Epoch 21: 100%|██████████| 75/75 [00:00<00:00, 361.33batch/s, loss=1.34]\n"
     ]
    },
    {
     "name": "stdout",
     "output_type": "stream",
     "text": [
      "Epoch 21/100, Loss: 1.3365\n",
      "MSE: 0.2226, RMSE: 0.4718, R²: 0.7774, MAE: 0.2831\n"
     ]
    },
    {
     "name": "stderr",
     "output_type": "stream",
     "text": [
      "Epoch 22: 100%|██████████| 75/75 [00:00<00:00, 257.97batch/s, loss=1.33]\n"
     ]
    },
    {
     "name": "stdout",
     "output_type": "stream",
     "text": [
      "Epoch 22/100, Loss: 1.3309\n",
      "MSE: 0.2217, RMSE: 0.4709, R²: 0.7783, MAE: 0.2812\n"
     ]
    },
    {
     "name": "stderr",
     "output_type": "stream",
     "text": [
      "Epoch 23: 100%|██████████| 75/75 [00:00<00:00, 333.72batch/s, loss=1.33]\n"
     ]
    },
    {
     "name": "stdout",
     "output_type": "stream",
     "text": [
      "Epoch 23/100, Loss: 1.3273\n",
      "MSE: 0.2213, RMSE: 0.4704, R²: 0.7787, MAE: 0.2810\n"
     ]
    },
    {
     "name": "stderr",
     "output_type": "stream",
     "text": [
      "Epoch 24: 100%|██████████| 75/75 [00:00<00:00, 351.92batch/s, loss=1.33]\n"
     ]
    },
    {
     "name": "stdout",
     "output_type": "stream",
     "text": [
      "Epoch 24/100, Loss: 1.3257\n",
      "MSE: 0.2210, RMSE: 0.4701, R²: 0.7790, MAE: 0.2811\n"
     ]
    },
    {
     "name": "stderr",
     "output_type": "stream",
     "text": [
      "Epoch 25: 100%|██████████| 75/75 [00:00<00:00, 360.29batch/s, loss=1.33]\n"
     ]
    },
    {
     "name": "stdout",
     "output_type": "stream",
     "text": [
      "Epoch 25/100, Loss: 1.3266\n",
      "MSE: 0.2210, RMSE: 0.4702, R²: 0.7790, MAE: 0.2804\n"
     ]
    },
    {
     "name": "stderr",
     "output_type": "stream",
     "text": [
      "Epoch 26: 100%|██████████| 75/75 [00:00<00:00, 364.06batch/s, loss=1.32]\n"
     ]
    },
    {
     "name": "stdout",
     "output_type": "stream",
     "text": [
      "Epoch 26/100, Loss: 1.3246\n",
      "MSE: 0.2206, RMSE: 0.4697, R²: 0.7794, MAE: 0.2802\n"
     ]
    },
    {
     "name": "stderr",
     "output_type": "stream",
     "text": [
      "Epoch 27: 100%|██████████| 75/75 [00:00<00:00, 251.81batch/s, loss=1.32]\n"
     ]
    },
    {
     "name": "stdout",
     "output_type": "stream",
     "text": [
      "Epoch 27/100, Loss: 1.3200\n",
      "MSE: 0.2200, RMSE: 0.4690, R²: 0.7800, MAE: 0.2791\n"
     ]
    },
    {
     "name": "stderr",
     "output_type": "stream",
     "text": [
      "Epoch 28: 100%|██████████| 75/75 [00:00<00:00, 350.73batch/s, loss=1.32]\n"
     ]
    },
    {
     "name": "stdout",
     "output_type": "stream",
     "text": [
      "Epoch 28/100, Loss: 1.3185\n",
      "MSE: 0.2197, RMSE: 0.4687, R²: 0.7803, MAE: 0.2784\n"
     ]
    },
    {
     "name": "stderr",
     "output_type": "stream",
     "text": [
      "Epoch 29: 100%|██████████| 75/75 [00:00<00:00, 363.36batch/s, loss=1.32]\n"
     ]
    },
    {
     "name": "stdout",
     "output_type": "stream",
     "text": [
      "Epoch 29/100, Loss: 1.3155\n",
      "MSE: 0.2192, RMSE: 0.4682, R²: 0.7808, MAE: 0.2777\n"
     ]
    },
    {
     "name": "stderr",
     "output_type": "stream",
     "text": [
      "Epoch 30: 100%|██████████| 75/75 [00:00<00:00, 363.01batch/s, loss=1.31]\n"
     ]
    },
    {
     "name": "stdout",
     "output_type": "stream",
     "text": [
      "Epoch 30/100, Loss: 1.3146\n",
      "MSE: 0.2192, RMSE: 0.4682, R²: 0.7808, MAE: 0.2777\n"
     ]
    },
    {
     "name": "stderr",
     "output_type": "stream",
     "text": [
      "Epoch 31: 100%|██████████| 75/75 [00:00<00:00, 368.50batch/s, loss=1.31]\n"
     ]
    },
    {
     "name": "stdout",
     "output_type": "stream",
     "text": [
      "Epoch 31/100, Loss: 1.3132\n",
      "MSE: 0.2191, RMSE: 0.4681, R²: 0.7809, MAE: 0.2782\n"
     ]
    },
    {
     "name": "stderr",
     "output_type": "stream",
     "text": [
      "Epoch 32: 100%|██████████| 75/75 [00:00<00:00, 272.49batch/s, loss=1.31]\n"
     ]
    },
    {
     "name": "stdout",
     "output_type": "stream",
     "text": [
      "Epoch 32/100, Loss: 1.3098\n",
      "MSE: 0.2184, RMSE: 0.4673, R²: 0.7816, MAE: 0.2774\n"
     ]
    },
    {
     "name": "stderr",
     "output_type": "stream",
     "text": [
      "Epoch 33: 100%|██████████| 75/75 [00:00<00:00, 353.03batch/s, loss=1.31]\n"
     ]
    },
    {
     "name": "stdout",
     "output_type": "stream",
     "text": [
      "Epoch 33/100, Loss: 1.3096\n",
      "MSE: 0.2183, RMSE: 0.4672, R²: 0.7817, MAE: 0.2766\n"
     ]
    },
    {
     "name": "stderr",
     "output_type": "stream",
     "text": [
      "Epoch 34: 100%|██████████| 75/75 [00:00<00:00, 363.96batch/s, loss=1.31]\n"
     ]
    },
    {
     "name": "stdout",
     "output_type": "stream",
     "text": [
      "Epoch 34/100, Loss: 1.3052\n",
      "MSE: 0.2180, RMSE: 0.4669, R²: 0.7820, MAE: 0.2769\n"
     ]
    },
    {
     "name": "stderr",
     "output_type": "stream",
     "text": [
      "Epoch 35: 100%|██████████| 75/75 [00:00<00:00, 363.68batch/s, loss=1.31]\n"
     ]
    },
    {
     "name": "stdout",
     "output_type": "stream",
     "text": [
      "Epoch 35/100, Loss: 1.3064\n",
      "MSE: 0.2179, RMSE: 0.4668, R²: 0.7821, MAE: 0.2769\n"
     ]
    },
    {
     "name": "stderr",
     "output_type": "stream",
     "text": [
      "Epoch 36: 100%|██████████| 75/75 [00:00<00:00, 361.89batch/s, loss=1.31]\n"
     ]
    },
    {
     "name": "stdout",
     "output_type": "stream",
     "text": [
      "Epoch 36/100, Loss: 1.3078\n",
      "MSE: 0.2175, RMSE: 0.4664, R²: 0.7825, MAE: 0.2762\n"
     ]
    },
    {
     "name": "stderr",
     "output_type": "stream",
     "text": [
      "Epoch 37: 100%|██████████| 75/75 [00:00<00:00, 263.94batch/s, loss=1.3] \n"
     ]
    },
    {
     "name": "stdout",
     "output_type": "stream",
     "text": [
      "Epoch 37/100, Loss: 1.3033\n",
      "MSE: 0.2173, RMSE: 0.4662, R²: 0.7827, MAE: 0.2762\n"
     ]
    },
    {
     "name": "stderr",
     "output_type": "stream",
     "text": [
      "Epoch 38: 100%|██████████| 75/75 [00:00<00:00, 357.82batch/s, loss=1.3] \n"
     ]
    },
    {
     "name": "stdout",
     "output_type": "stream",
     "text": [
      "Epoch 38/100, Loss: 1.3026\n",
      "MSE: 0.2170, RMSE: 0.4658, R²: 0.7830, MAE: 0.2759\n"
     ]
    },
    {
     "name": "stderr",
     "output_type": "stream",
     "text": [
      "Epoch 39: 100%|██████████| 75/75 [00:00<00:00, 337.84batch/s, loss=1.3] \n"
     ]
    },
    {
     "name": "stdout",
     "output_type": "stream",
     "text": [
      "Epoch 39/100, Loss: 1.3004\n",
      "MSE: 0.2167, RMSE: 0.4655, R²: 0.7833, MAE: 0.2748\n"
     ]
    },
    {
     "name": "stderr",
     "output_type": "stream",
     "text": [
      "Epoch 40: 100%|██████████| 75/75 [00:00<00:00, 354.96batch/s, loss=1.3] \n"
     ]
    },
    {
     "name": "stdout",
     "output_type": "stream",
     "text": [
      "Epoch 40/100, Loss: 1.3006\n",
      "MSE: 0.2168, RMSE: 0.4656, R²: 0.7832, MAE: 0.2758\n"
     ]
    },
    {
     "name": "stderr",
     "output_type": "stream",
     "text": [
      "Epoch 41: 100%|██████████| 75/75 [00:00<00:00, 250.23batch/s, loss=1.3] \n"
     ]
    },
    {
     "name": "stdout",
     "output_type": "stream",
     "text": [
      "Epoch 41/100, Loss: 1.2983\n",
      "MSE: 0.2164, RMSE: 0.4652, R²: 0.7836, MAE: 0.2751\n"
     ]
    },
    {
     "name": "stderr",
     "output_type": "stream",
     "text": [
      "Epoch 42: 100%|██████████| 75/75 [00:00<00:00, 338.93batch/s, loss=1.29]\n"
     ]
    },
    {
     "name": "stdout",
     "output_type": "stream",
     "text": [
      "Epoch 42/100, Loss: 1.2945\n",
      "MSE: 0.2160, RMSE: 0.4647, R²: 0.7840, MAE: 0.2750\n"
     ]
    },
    {
     "name": "stderr",
     "output_type": "stream",
     "text": [
      "Epoch 43: 100%|██████████| 75/75 [00:00<00:00, 331.18batch/s, loss=1.3] \n"
     ]
    },
    {
     "name": "stdout",
     "output_type": "stream",
     "text": [
      "Epoch 43/100, Loss: 1.2967\n",
      "MSE: 0.2159, RMSE: 0.4646, R²: 0.7841, MAE: 0.2741\n"
     ]
    },
    {
     "name": "stderr",
     "output_type": "stream",
     "text": [
      "Epoch 44: 100%|██████████| 75/75 [00:00<00:00, 354.71batch/s, loss=1.29]\n"
     ]
    },
    {
     "name": "stdout",
     "output_type": "stream",
     "text": [
      "Epoch 44/100, Loss: 1.2943\n",
      "MSE: 0.2158, RMSE: 0.4646, R²: 0.7842, MAE: 0.2745\n"
     ]
    },
    {
     "name": "stderr",
     "output_type": "stream",
     "text": [
      "Epoch 45: 100%|██████████| 75/75 [00:00<00:00, 259.62batch/s, loss=1.29]\n"
     ]
    },
    {
     "name": "stdout",
     "output_type": "stream",
     "text": [
      "Epoch 45/100, Loss: 1.2934\n",
      "MSE: 0.2155, RMSE: 0.4642, R²: 0.7845, MAE: 0.2742\n"
     ]
    },
    {
     "name": "stderr",
     "output_type": "stream",
     "text": [
      "Epoch 46: 100%|██████████| 75/75 [00:00<00:00, 369.13batch/s, loss=1.29]\n"
     ]
    },
    {
     "name": "stdout",
     "output_type": "stream",
     "text": [
      "Epoch 46/100, Loss: 1.2892\n",
      "MSE: 0.2153, RMSE: 0.4640, R²: 0.7847, MAE: 0.2738\n"
     ]
    },
    {
     "name": "stderr",
     "output_type": "stream",
     "text": [
      "Epoch 47: 100%|██████████| 75/75 [00:00<00:00, 356.52batch/s, loss=1.29]\n"
     ]
    },
    {
     "name": "stdout",
     "output_type": "stream",
     "text": [
      "Epoch 47/100, Loss: 1.2894\n",
      "MSE: 0.2152, RMSE: 0.4639, R²: 0.7848, MAE: 0.2734\n"
     ]
    },
    {
     "name": "stderr",
     "output_type": "stream",
     "text": [
      "Epoch 48: 100%|██████████| 75/75 [00:00<00:00, 338.21batch/s, loss=1.29]\n"
     ]
    },
    {
     "name": "stdout",
     "output_type": "stream",
     "text": [
      "Epoch 48/100, Loss: 1.2921\n",
      "MSE: 0.2149, RMSE: 0.4636, R²: 0.7851, MAE: 0.2729\n"
     ]
    },
    {
     "name": "stderr",
     "output_type": "stream",
     "text": [
      "Epoch 49: 100%|██████████| 75/75 [00:00<00:00, 367.17batch/s, loss=1.29]\n"
     ]
    },
    {
     "name": "stdout",
     "output_type": "stream",
     "text": [
      "Epoch 49/100, Loss: 1.2886\n",
      "MSE: 0.2146, RMSE: 0.4632, R²: 0.7854, MAE: 0.2738\n"
     ]
    },
    {
     "name": "stderr",
     "output_type": "stream",
     "text": [
      "Epoch 50: 100%|██████████| 75/75 [00:00<00:00, 359.99batch/s, loss=1.29]\n"
     ]
    },
    {
     "name": "stdout",
     "output_type": "stream",
     "text": [
      "Epoch 50/100, Loss: 1.2874\n",
      "MSE: 0.2146, RMSE: 0.4632, R²: 0.7854, MAE: 0.2724\n"
     ]
    },
    {
     "name": "stderr",
     "output_type": "stream",
     "text": [
      "Epoch 51: 100%|██████████| 75/75 [00:00<00:00, 260.58batch/s, loss=1.28]\n"
     ]
    },
    {
     "name": "stdout",
     "output_type": "stream",
     "text": [
      "Epoch 51/100, Loss: 1.2842\n",
      "MSE: 0.2141, RMSE: 0.4627, R²: 0.7859, MAE: 0.2733\n"
     ]
    },
    {
     "name": "stderr",
     "output_type": "stream",
     "text": [
      "Epoch 52: 100%|██████████| 75/75 [00:00<00:00, 363.76batch/s, loss=1.29]\n"
     ]
    },
    {
     "name": "stdout",
     "output_type": "stream",
     "text": [
      "Epoch 52/100, Loss: 1.2863\n",
      "MSE: 0.2147, RMSE: 0.4633, R²: 0.7853, MAE: 0.2732\n"
     ]
    },
    {
     "name": "stderr",
     "output_type": "stream",
     "text": [
      "Epoch 53: 100%|██████████| 75/75 [00:00<00:00, 334.00batch/s, loss=1.28]\n"
     ]
    },
    {
     "name": "stdout",
     "output_type": "stream",
     "text": [
      "Epoch 53/100, Loss: 1.2840\n",
      "MSE: 0.2141, RMSE: 0.4627, R²: 0.7859, MAE: 0.2727\n"
     ]
    },
    {
     "name": "stderr",
     "output_type": "stream",
     "text": [
      "Epoch 54: 100%|██████████| 75/75 [00:00<00:00, 357.90batch/s, loss=1.28]\n"
     ]
    },
    {
     "name": "stdout",
     "output_type": "stream",
     "text": [
      "Epoch 54/100, Loss: 1.2840\n",
      "MSE: 0.2139, RMSE: 0.4625, R²: 0.7861, MAE: 0.2723\n"
     ]
    },
    {
     "name": "stderr",
     "output_type": "stream",
     "text": [
      "Epoch 55: 100%|██████████| 75/75 [00:00<00:00, 363.37batch/s, loss=1.28]\n"
     ]
    },
    {
     "name": "stdout",
     "output_type": "stream",
     "text": [
      "Epoch 55/100, Loss: 1.2824\n",
      "MSE: 0.2138, RMSE: 0.4624, R²: 0.7862, MAE: 0.2723\n"
     ]
    },
    {
     "name": "stderr",
     "output_type": "stream",
     "text": [
      "Epoch 56: 100%|██████████| 75/75 [00:00<00:00, 363.05batch/s, loss=1.28]\n"
     ]
    },
    {
     "name": "stdout",
     "output_type": "stream",
     "text": [
      "Epoch 56/100, Loss: 1.2834\n",
      "MSE: 0.2141, RMSE: 0.4627, R²: 0.7859, MAE: 0.2725\n"
     ]
    },
    {
     "name": "stderr",
     "output_type": "stream",
     "text": [
      "Epoch 57: 100%|██████████| 75/75 [00:00<00:00, 236.10batch/s, loss=1.28]\n"
     ]
    },
    {
     "name": "stdout",
     "output_type": "stream",
     "text": [
      "Epoch 57/100, Loss: 1.2827\n",
      "MSE: 0.2137, RMSE: 0.4623, R²: 0.7863, MAE: 0.2723\n"
     ]
    },
    {
     "name": "stderr",
     "output_type": "stream",
     "text": [
      "Epoch 58: 100%|██████████| 75/75 [00:00<00:00, 348.71batch/s, loss=1.28]\n"
     ]
    },
    {
     "name": "stdout",
     "output_type": "stream",
     "text": [
      "Epoch 58/100, Loss: 1.2795\n",
      "MSE: 0.2131, RMSE: 0.4616, R²: 0.7869, MAE: 0.2711\n"
     ]
    },
    {
     "name": "stderr",
     "output_type": "stream",
     "text": [
      "Epoch 59: 100%|██████████| 75/75 [00:00<00:00, 364.49batch/s, loss=1.28]\n"
     ]
    },
    {
     "name": "stdout",
     "output_type": "stream",
     "text": [
      "Epoch 59/100, Loss: 1.2765\n",
      "MSE: 0.2129, RMSE: 0.4614, R²: 0.7871, MAE: 0.2712\n"
     ]
    },
    {
     "name": "stderr",
     "output_type": "stream",
     "text": [
      "Epoch 60: 100%|██████████| 75/75 [00:00<00:00, 364.63batch/s, loss=1.28]\n"
     ]
    },
    {
     "name": "stdout",
     "output_type": "stream",
     "text": [
      "Epoch 60/100, Loss: 1.2759\n",
      "MSE: 0.2129, RMSE: 0.4615, R²: 0.7871, MAE: 0.2716\n"
     ]
    },
    {
     "name": "stderr",
     "output_type": "stream",
     "text": [
      "Epoch 61: 100%|██████████| 75/75 [00:00<00:00, 367.21batch/s, loss=1.28]\n"
     ]
    },
    {
     "name": "stdout",
     "output_type": "stream",
     "text": [
      "Epoch 61/100, Loss: 1.2764\n",
      "MSE: 0.2128, RMSE: 0.4613, R²: 0.7872, MAE: 0.2710\n"
     ]
    },
    {
     "name": "stderr",
     "output_type": "stream",
     "text": [
      "Epoch 62: 100%|██████████| 75/75 [00:00<00:00, 365.27batch/s, loss=1.28]\n"
     ]
    },
    {
     "name": "stdout",
     "output_type": "stream",
     "text": [
      "Epoch 62/100, Loss: 1.2755\n",
      "MSE: 0.2128, RMSE: 0.4613, R²: 0.7872, MAE: 0.2708\n"
     ]
    },
    {
     "name": "stderr",
     "output_type": "stream",
     "text": [
      "Epoch 63: 100%|██████████| 75/75 [00:00<00:00, 262.18batch/s, loss=1.28]\n"
     ]
    },
    {
     "name": "stdout",
     "output_type": "stream",
     "text": [
      "Epoch 63/100, Loss: 1.2754\n",
      "MSE: 0.2125, RMSE: 0.4609, R²: 0.7875, MAE: 0.2715\n"
     ]
    },
    {
     "name": "stderr",
     "output_type": "stream",
     "text": [
      "Epoch 64: 100%|██████████| 75/75 [00:00<00:00, 369.96batch/s, loss=1.27]\n"
     ]
    },
    {
     "name": "stdout",
     "output_type": "stream",
     "text": [
      "Epoch 64/100, Loss: 1.2735\n",
      "MSE: 0.2125, RMSE: 0.4609, R²: 0.7875, MAE: 0.2711\n"
     ]
    },
    {
     "name": "stderr",
     "output_type": "stream",
     "text": [
      "Epoch 65: 100%|██████████| 75/75 [00:00<00:00, 356.91batch/s, loss=1.28]\n"
     ]
    },
    {
     "name": "stdout",
     "output_type": "stream",
     "text": [
      "Epoch 65/100, Loss: 1.2759\n",
      "MSE: 0.2124, RMSE: 0.4609, R²: 0.7876, MAE: 0.2705\n"
     ]
    },
    {
     "name": "stderr",
     "output_type": "stream",
     "text": [
      "Epoch 66: 100%|██████████| 75/75 [00:00<00:00, 347.68batch/s, loss=1.27]\n"
     ]
    },
    {
     "name": "stdout",
     "output_type": "stream",
     "text": [
      "Epoch 66/100, Loss: 1.2729\n",
      "MSE: 0.2121, RMSE: 0.4605, R²: 0.7879, MAE: 0.2697\n"
     ]
    },
    {
     "name": "stderr",
     "output_type": "stream",
     "text": [
      "Epoch 67: 100%|██████████| 75/75 [00:00<00:00, 237.37batch/s, loss=1.27]\n"
     ]
    },
    {
     "name": "stdout",
     "output_type": "stream",
     "text": [
      "Epoch 67/100, Loss: 1.2722\n",
      "MSE: 0.2121, RMSE: 0.4605, R²: 0.7879, MAE: 0.2705\n"
     ]
    },
    {
     "name": "stderr",
     "output_type": "stream",
     "text": [
      "Epoch 68: 100%|██████████| 75/75 [00:00<00:00, 354.65batch/s, loss=1.27]\n"
     ]
    },
    {
     "name": "stdout",
     "output_type": "stream",
     "text": [
      "Epoch 68/100, Loss: 1.2702\n",
      "MSE: 0.2118, RMSE: 0.4602, R²: 0.7882, MAE: 0.2706\n"
     ]
    },
    {
     "name": "stderr",
     "output_type": "stream",
     "text": [
      "Epoch 69: 100%|██████████| 75/75 [00:00<00:00, 349.20batch/s, loss=1.27]\n"
     ]
    },
    {
     "name": "stdout",
     "output_type": "stream",
     "text": [
      "Epoch 69/100, Loss: 1.2722\n",
      "MSE: 0.2121, RMSE: 0.4605, R²: 0.7879, MAE: 0.2706\n"
     ]
    },
    {
     "name": "stderr",
     "output_type": "stream",
     "text": [
      "Epoch 70: 100%|██████████| 75/75 [00:00<00:00, 345.36batch/s, loss=1.27]\n"
     ]
    },
    {
     "name": "stdout",
     "output_type": "stream",
     "text": [
      "Epoch 70/100, Loss: 1.2721\n",
      "MSE: 0.2118, RMSE: 0.4602, R²: 0.7882, MAE: 0.2700\n"
     ]
    },
    {
     "name": "stderr",
     "output_type": "stream",
     "text": [
      "Epoch 71: 100%|██████████| 75/75 [00:00<00:00, 215.50batch/s, loss=1.27]\n"
     ]
    },
    {
     "name": "stdout",
     "output_type": "stream",
     "text": [
      "Epoch 71/100, Loss: 1.2700\n",
      "MSE: 0.2116, RMSE: 0.4600, R²: 0.7884, MAE: 0.2703\n"
     ]
    },
    {
     "name": "stderr",
     "output_type": "stream",
     "text": [
      "Epoch 72: 100%|██████████| 75/75 [00:00<00:00, 350.12batch/s, loss=1.27]\n"
     ]
    },
    {
     "name": "stdout",
     "output_type": "stream",
     "text": [
      "Epoch 72/100, Loss: 1.2679\n",
      "MSE: 0.2114, RMSE: 0.4597, R²: 0.7886, MAE: 0.2694\n"
     ]
    },
    {
     "name": "stderr",
     "output_type": "stream",
     "text": [
      "Epoch 73: 100%|██████████| 75/75 [00:00<00:00, 364.32batch/s, loss=1.27]\n"
     ]
    },
    {
     "name": "stdout",
     "output_type": "stream",
     "text": [
      "Epoch 73/100, Loss: 1.2705\n",
      "MSE: 0.2116, RMSE: 0.4600, R²: 0.7884, MAE: 0.2705\n"
     ]
    },
    {
     "name": "stderr",
     "output_type": "stream",
     "text": [
      "Epoch 74: 100%|██████████| 75/75 [00:00<00:00, 361.29batch/s, loss=1.27]\n"
     ]
    },
    {
     "name": "stdout",
     "output_type": "stream",
     "text": [
      "Epoch 74/100, Loss: 1.2660\n",
      "MSE: 0.2113, RMSE: 0.4597, R²: 0.7887, MAE: 0.2695\n"
     ]
    },
    {
     "name": "stderr",
     "output_type": "stream",
     "text": [
      "Epoch 75: 100%|██████████| 75/75 [00:00<00:00, 364.98batch/s, loss=1.27]\n"
     ]
    },
    {
     "name": "stdout",
     "output_type": "stream",
     "text": [
      "Epoch 75/100, Loss: 1.2701\n",
      "MSE: 0.2116, RMSE: 0.4600, R²: 0.7884, MAE: 0.2710\n"
     ]
    },
    {
     "name": "stderr",
     "output_type": "stream",
     "text": [
      "Epoch 76: 100%|██████████| 75/75 [00:00<00:00, 259.73batch/s, loss=1.27]\n"
     ]
    },
    {
     "name": "stdout",
     "output_type": "stream",
     "text": [
      "Epoch 76/100, Loss: 1.2652\n",
      "MSE: 0.2111, RMSE: 0.4594, R²: 0.7889, MAE: 0.2699\n"
     ]
    },
    {
     "name": "stderr",
     "output_type": "stream",
     "text": [
      "Epoch 77: 100%|██████████| 75/75 [00:00<00:00, 364.51batch/s, loss=1.27]\n"
     ]
    },
    {
     "name": "stdout",
     "output_type": "stream",
     "text": [
      "Epoch 77/100, Loss: 1.2675\n",
      "MSE: 0.2110, RMSE: 0.4593, R²: 0.7890, MAE: 0.2693\n"
     ]
    },
    {
     "name": "stderr",
     "output_type": "stream",
     "text": [
      "Epoch 78: 100%|██████████| 75/75 [00:00<00:00, 358.15batch/s, loss=1.26]\n"
     ]
    },
    {
     "name": "stdout",
     "output_type": "stream",
     "text": [
      "Epoch 78/100, Loss: 1.2637\n",
      "MSE: 0.2106, RMSE: 0.4589, R²: 0.7894, MAE: 0.2692\n"
     ]
    },
    {
     "name": "stderr",
     "output_type": "stream",
     "text": [
      "Epoch 79: 100%|██████████| 75/75 [00:00<00:00, 316.64batch/s, loss=1.26]\n"
     ]
    },
    {
     "name": "stdout",
     "output_type": "stream",
     "text": [
      "Epoch 79/100, Loss: 1.2640\n",
      "MSE: 0.2105, RMSE: 0.4589, R²: 0.7895, MAE: 0.2689\n"
     ]
    },
    {
     "name": "stderr",
     "output_type": "stream",
     "text": [
      "Epoch 80: 100%|██████████| 75/75 [00:00<00:00, 349.64batch/s, loss=1.26]\n"
     ]
    },
    {
     "name": "stdout",
     "output_type": "stream",
     "text": [
      "Epoch 80/100, Loss: 1.2639\n",
      "MSE: 0.2106, RMSE: 0.4589, R²: 0.7894, MAE: 0.2699\n"
     ]
    },
    {
     "name": "stderr",
     "output_type": "stream",
     "text": [
      "Epoch 81: 100%|██████████| 75/75 [00:00<00:00, 217.86batch/s, loss=1.26]\n"
     ]
    },
    {
     "name": "stdout",
     "output_type": "stream",
     "text": [
      "Epoch 81/100, Loss: 1.2648\n",
      "MSE: 0.2107, RMSE: 0.4590, R²: 0.7893, MAE: 0.2694\n"
     ]
    },
    {
     "name": "stderr",
     "output_type": "stream",
     "text": [
      "Epoch 82: 100%|██████████| 75/75 [00:00<00:00, 306.61batch/s, loss=1.26]\n"
     ]
    },
    {
     "name": "stdout",
     "output_type": "stream",
     "text": [
      "Epoch 82/100, Loss: 1.2616\n",
      "MSE: 0.2105, RMSE: 0.4588, R²: 0.7895, MAE: 0.2690\n"
     ]
    },
    {
     "name": "stderr",
     "output_type": "stream",
     "text": [
      "Epoch 83: 100%|██████████| 75/75 [00:00<00:00, 346.80batch/s, loss=1.26]\n"
     ]
    },
    {
     "name": "stdout",
     "output_type": "stream",
     "text": [
      "Epoch 83/100, Loss: 1.2618\n",
      "MSE: 0.2101, RMSE: 0.4584, R²: 0.7899, MAE: 0.2687\n"
     ]
    },
    {
     "name": "stderr",
     "output_type": "stream",
     "text": [
      "Epoch 84: 100%|██████████| 75/75 [00:00<00:00, 347.18batch/s, loss=1.26]\n"
     ]
    },
    {
     "name": "stdout",
     "output_type": "stream",
     "text": [
      "Epoch 84/100, Loss: 1.2578\n",
      "MSE: 0.2098, RMSE: 0.4581, R²: 0.7902, MAE: 0.2681\n"
     ]
    },
    {
     "name": "stderr",
     "output_type": "stream",
     "text": [
      "Epoch 85: 100%|██████████| 75/75 [00:00<00:00, 354.89batch/s, loss=1.26]\n"
     ]
    },
    {
     "name": "stdout",
     "output_type": "stream",
     "text": [
      "Epoch 85/100, Loss: 1.2587\n",
      "MSE: 0.2100, RMSE: 0.4582, R²: 0.7900, MAE: 0.2695\n"
     ]
    },
    {
     "name": "stderr",
     "output_type": "stream",
     "text": [
      "Epoch 86: 100%|██████████| 75/75 [00:00<00:00, 249.43batch/s, loss=1.26]\n"
     ]
    },
    {
     "name": "stdout",
     "output_type": "stream",
     "text": [
      "Epoch 86/100, Loss: 1.2613\n",
      "MSE: 0.2100, RMSE: 0.4583, R²: 0.7900, MAE: 0.2683\n"
     ]
    },
    {
     "name": "stderr",
     "output_type": "stream",
     "text": [
      "Epoch 87: 100%|██████████| 75/75 [00:00<00:00, 147.17batch/s, loss=1.26]\n"
     ]
    },
    {
     "name": "stdout",
     "output_type": "stream",
     "text": [
      "Epoch 87/100, Loss: 1.2592\n",
      "MSE: 0.2099, RMSE: 0.4581, R²: 0.7901, MAE: 0.2685\n"
     ]
    },
    {
     "name": "stderr",
     "output_type": "stream",
     "text": [
      "Epoch 88: 100%|██████████| 75/75 [00:00<00:00, 219.86batch/s, loss=1.26]\n"
     ]
    },
    {
     "name": "stdout",
     "output_type": "stream",
     "text": [
      "Epoch 88/100, Loss: 1.2601\n",
      "MSE: 0.2101, RMSE: 0.4583, R²: 0.7899, MAE: 0.2687\n"
     ]
    },
    {
     "name": "stderr",
     "output_type": "stream",
     "text": [
      "Epoch 89: 100%|██████████| 75/75 [00:00<00:00, 340.58batch/s, loss=1.26]\n"
     ]
    },
    {
     "name": "stdout",
     "output_type": "stream",
     "text": [
      "Epoch 89/100, Loss: 1.2579\n",
      "MSE: 0.2099, RMSE: 0.4581, R²: 0.7901, MAE: 0.2690\n"
     ]
    },
    {
     "name": "stderr",
     "output_type": "stream",
     "text": [
      "Epoch 90: 100%|██████████| 75/75 [00:00<00:00, 255.00batch/s, loss=1.26]\n"
     ]
    },
    {
     "name": "stdout",
     "output_type": "stream",
     "text": [
      "Epoch 90/100, Loss: 1.2561\n",
      "MSE: 0.2094, RMSE: 0.4576, R²: 0.7906, MAE: 0.2681\n"
     ]
    },
    {
     "name": "stderr",
     "output_type": "stream",
     "text": [
      "Epoch 91: 100%|██████████| 75/75 [00:00<00:00, 372.04batch/s, loss=1.25]\n"
     ]
    },
    {
     "name": "stdout",
     "output_type": "stream",
     "text": [
      "Epoch 91/100, Loss: 1.2539\n",
      "MSE: 0.2092, RMSE: 0.4574, R²: 0.7908, MAE: 0.2676\n"
     ]
    },
    {
     "name": "stderr",
     "output_type": "stream",
     "text": [
      "Epoch 92: 100%|██████████| 75/75 [00:00<00:00, 350.67batch/s, loss=1.26]\n"
     ]
    },
    {
     "name": "stdout",
     "output_type": "stream",
     "text": [
      "Epoch 92/100, Loss: 1.2552\n",
      "MSE: 0.2092, RMSE: 0.4574, R²: 0.7908, MAE: 0.2685\n"
     ]
    },
    {
     "name": "stderr",
     "output_type": "stream",
     "text": [
      "Epoch 93: 100%|██████████| 75/75 [00:00<00:00, 336.34batch/s, loss=1.26]\n"
     ]
    },
    {
     "name": "stdout",
     "output_type": "stream",
     "text": [
      "Epoch 93/100, Loss: 1.2576\n",
      "MSE: 0.2095, RMSE: 0.4577, R²: 0.7905, MAE: 0.2683\n"
     ]
    },
    {
     "name": "stderr",
     "output_type": "stream",
     "text": [
      "Epoch 94: 100%|██████████| 75/75 [00:00<00:00, 336.26batch/s, loss=1.25]\n"
     ]
    },
    {
     "name": "stdout",
     "output_type": "stream",
     "text": [
      "Epoch 94/100, Loss: 1.2547\n",
      "MSE: 0.2091, RMSE: 0.4573, R²: 0.7909, MAE: 0.2674\n"
     ]
    },
    {
     "name": "stderr",
     "output_type": "stream",
     "text": [
      "Epoch 95: 100%|██████████| 75/75 [00:00<00:00, 256.17batch/s, loss=1.25]\n"
     ]
    },
    {
     "name": "stdout",
     "output_type": "stream",
     "text": [
      "Epoch 95/100, Loss: 1.2534\n",
      "MSE: 0.2093, RMSE: 0.4575, R²: 0.7907, MAE: 0.2674\n"
     ]
    },
    {
     "name": "stderr",
     "output_type": "stream",
     "text": [
      "Epoch 96: 100%|██████████| 75/75 [00:00<00:00, 302.98batch/s, loss=1.25]\n"
     ]
    },
    {
     "name": "stdout",
     "output_type": "stream",
     "text": [
      "Epoch 96/100, Loss: 1.2526\n",
      "MSE: 0.2089, RMSE: 0.4570, R²: 0.7911, MAE: 0.2674\n"
     ]
    },
    {
     "name": "stderr",
     "output_type": "stream",
     "text": [
      "Epoch 97: 100%|██████████| 75/75 [00:00<00:00, 324.68batch/s, loss=1.25]\n"
     ]
    },
    {
     "name": "stdout",
     "output_type": "stream",
     "text": [
      "Epoch 97/100, Loss: 1.2499\n",
      "MSE: 0.2085, RMSE: 0.4566, R²: 0.7915, MAE: 0.2673\n"
     ]
    },
    {
     "name": "stderr",
     "output_type": "stream",
     "text": [
      "Epoch 98: 100%|██████████| 75/75 [00:00<00:00, 355.23batch/s, loss=1.25]\n"
     ]
    },
    {
     "name": "stdout",
     "output_type": "stream",
     "text": [
      "Epoch 98/100, Loss: 1.2487\n",
      "MSE: 0.2082, RMSE: 0.4563, R²: 0.7918, MAE: 0.2663\n"
     ]
    },
    {
     "name": "stderr",
     "output_type": "stream",
     "text": [
      "Epoch 99: 100%|██████████| 75/75 [00:00<00:00, 366.50batch/s, loss=1.25]\n"
     ]
    },
    {
     "name": "stdout",
     "output_type": "stream",
     "text": [
      "Epoch 99/100, Loss: 1.2531\n",
      "MSE: 0.2087, RMSE: 0.4569, R²: 0.7913, MAE: 0.2678\n"
     ]
    },
    {
     "name": "stderr",
     "output_type": "stream",
     "text": [
      "Epoch 100: 100%|██████████| 75/75 [00:00<00:00, 364.62batch/s, loss=1.25]\n"
     ]
    },
    {
     "name": "stdout",
     "output_type": "stream",
     "text": [
      "Epoch 100/100, Loss: 1.2511\n",
      "MSE: 0.2084, RMSE: 0.4566, R²: 0.7916, MAE: 0.2674\n"
     ]
    },
    {
     "ename": "TypeError",
     "evalue": "'Tensor' object is not callable",
     "output_type": "error",
     "traceback": [
      "\u001b[0;31m---------------------------------------------------------------------------\u001b[0m",
      "\u001b[0;31mTypeError\u001b[0m                                 Traceback (most recent call last)",
      "Cell \u001b[0;32mIn[390], line 20\u001b[0m\n\u001b[1;32m     18\u001b[0m     \u001b[38;5;28mprint\u001b[39m(\u001b[38;5;124m\"\u001b[39m\u001b[38;5;124mTarget Variable Prep: Success\u001b[39m\u001b[38;5;124m\"\u001b[39m)\n\u001b[1;32m     19\u001b[0m     \u001b[38;5;28mprint\u001b[39m(\u001b[38;5;124m\"\u001b[39m\u001b[38;5;124mPreparing for Model Training: Working..\u001b[39m\u001b[38;5;124m\"\u001b[39m)\n\u001b[0;32m---> 20\u001b[0m     \u001b[43mtrain\u001b[49m\u001b[43m(\u001b[49m\u001b[43mweather_data\u001b[49m\u001b[43m)\u001b[49m\n\u001b[1;32m     21\u001b[0m     \u001b[38;5;28mprint\u001b[39m(\u001b[38;5;124m\"\u001b[39m\u001b[38;5;124mModel Training: Success\u001b[39m\u001b[38;5;124m\"\u001b[39m)\n\u001b[1;32m     23\u001b[0m \u001b[38;5;28;01melse\u001b[39;00m:\n",
      "Cell \u001b[0;32mIn[388], line 73\u001b[0m, in \u001b[0;36mtrain\u001b[0;34m(weather_data)\u001b[0m\n\u001b[1;32m     70\u001b[0m     \u001b[38;5;28mprint\u001b[39m(\u001b[38;5;124mf\u001b[39m\u001b[38;5;124m'\u001b[39m\u001b[38;5;124mEpoch \u001b[39m\u001b[38;5;132;01m{\u001b[39;00mepoch\u001b[38;5;250m \u001b[39m\u001b[38;5;241m+\u001b[39m\u001b[38;5;250m \u001b[39m\u001b[38;5;241m1\u001b[39m\u001b[38;5;132;01m}\u001b[39;00m\u001b[38;5;124m/\u001b[39m\u001b[38;5;132;01m{\u001b[39;00mparameters[\u001b[38;5;124m\"\u001b[39m\u001b[38;5;124mnum_epochs\u001b[39m\u001b[38;5;124m\"\u001b[39m]\u001b[38;5;132;01m}\u001b[39;00m\u001b[38;5;124m, Loss: \u001b[39m\u001b[38;5;132;01m{\u001b[39;00mrunning_loss\u001b[38;5;250m \u001b[39m\u001b[38;5;241m/\u001b[39m\u001b[38;5;250m \u001b[39m\u001b[38;5;28mlen\u001b[39m(dataloader)\u001b[38;5;132;01m:\u001b[39;00m\u001b[38;5;124m.4f\u001b[39m\u001b[38;5;132;01m}\u001b[39;00m\u001b[38;5;124m'\u001b[39m)\n\u001b[1;32m     71\u001b[0m     \u001b[38;5;28mprint\u001b[39m(\u001b[38;5;124mf\u001b[39m\u001b[38;5;124m'\u001b[39m\u001b[38;5;124mMSE: \u001b[39m\u001b[38;5;132;01m{\u001b[39;00mmse\u001b[38;5;132;01m:\u001b[39;00m\u001b[38;5;124m.4f\u001b[39m\u001b[38;5;132;01m}\u001b[39;00m\u001b[38;5;124m, RMSE: \u001b[39m\u001b[38;5;132;01m{\u001b[39;00mrmse\u001b[38;5;132;01m:\u001b[39;00m\u001b[38;5;124m.4f\u001b[39m\u001b[38;5;132;01m}\u001b[39;00m\u001b[38;5;124m, R²: \u001b[39m\u001b[38;5;132;01m{\u001b[39;00mr2\u001b[38;5;132;01m:\u001b[39;00m\u001b[38;5;124m.4f\u001b[39m\u001b[38;5;132;01m}\u001b[39;00m\u001b[38;5;124m, MAE: \u001b[39m\u001b[38;5;132;01m{\u001b[39;00mmae\u001b[38;5;132;01m:\u001b[39;00m\u001b[38;5;124m.4f\u001b[39m\u001b[38;5;132;01m}\u001b[39;00m\u001b[38;5;124m'\u001b[39m)\n\u001b[0;32m---> 73\u001b[0m \u001b[43mcalculate_shap_values\u001b[49m\u001b[43m(\u001b[49m\u001b[43mmodel\u001b[49m\u001b[43m,\u001b[49m\u001b[43m \u001b[49m\u001b[43mweather_data\u001b[49m\u001b[43m,\u001b[49m\u001b[43m \u001b[49m\u001b[43mfeature_columns_names\u001b[49m\u001b[43m)\u001b[49m\n",
      "Cell \u001b[0;32mIn[389], line 18\u001b[0m, in \u001b[0;36mcalculate_shap_values\u001b[0;34m(model, data, feature_columns)\u001b[0m\n\u001b[1;32m     15\u001b[0m explainer \u001b[38;5;241m=\u001b[39m shap\u001b[38;5;241m.\u001b[39mExplainer(model_output, X)\n\u001b[1;32m     17\u001b[0m \u001b[38;5;66;03m# Calculate SHAP values\u001b[39;00m\n\u001b[0;32m---> 18\u001b[0m shap_values \u001b[38;5;241m=\u001b[39m \u001b[43mexplainer\u001b[49m\u001b[43m(\u001b[49m\u001b[43mX\u001b[49m\u001b[43m)\u001b[49m\n\u001b[1;32m     20\u001b[0m \u001b[38;5;66;03m# Visualize the SHAP summary plot\u001b[39;00m\n\u001b[1;32m     21\u001b[0m shap\u001b[38;5;241m.\u001b[39msummary_plot(shap_values, data[feature_columns])\n",
      "File \u001b[0;32m/opt/homebrew/lib/python3.10/site-packages/shap/explainers/_permutation.py:77\u001b[0m, in \u001b[0;36mPermutationExplainer.__call__\u001b[0;34m(self, max_evals, main_effects, error_bounds, batch_size, outputs, silent, *args)\u001b[0m\n\u001b[1;32m     74\u001b[0m \u001b[38;5;28;01mdef\u001b[39;00m \u001b[38;5;21m__call__\u001b[39m(\u001b[38;5;28mself\u001b[39m, \u001b[38;5;241m*\u001b[39margs, max_evals\u001b[38;5;241m=\u001b[39m\u001b[38;5;241m500\u001b[39m, main_effects\u001b[38;5;241m=\u001b[39m\u001b[38;5;28;01mFalse\u001b[39;00m, error_bounds\u001b[38;5;241m=\u001b[39m\u001b[38;5;28;01mFalse\u001b[39;00m, batch_size\u001b[38;5;241m=\u001b[39m\u001b[38;5;124m\"\u001b[39m\u001b[38;5;124mauto\u001b[39m\u001b[38;5;124m\"\u001b[39m,\n\u001b[1;32m     75\u001b[0m              outputs\u001b[38;5;241m=\u001b[39m\u001b[38;5;28;01mNone\u001b[39;00m, silent\u001b[38;5;241m=\u001b[39m\u001b[38;5;28;01mFalse\u001b[39;00m):\n\u001b[1;32m     76\u001b[0m \u001b[38;5;250m    \u001b[39m\u001b[38;5;124;03m\"\"\"Explain the output of the model on the given arguments.\"\"\"\u001b[39;00m\n\u001b[0;32m---> 77\u001b[0m     \u001b[38;5;28;01mreturn\u001b[39;00m \u001b[38;5;28;43msuper\u001b[39;49m\u001b[43m(\u001b[49m\u001b[43m)\u001b[49m\u001b[38;5;241;43m.\u001b[39;49m\u001b[38;5;21;43m__call__\u001b[39;49m\u001b[43m(\u001b[49m\n\u001b[1;32m     78\u001b[0m \u001b[43m        \u001b[49m\u001b[38;5;241;43m*\u001b[39;49m\u001b[43margs\u001b[49m\u001b[43m,\u001b[49m\u001b[43m \u001b[49m\u001b[43mmax_evals\u001b[49m\u001b[38;5;241;43m=\u001b[39;49m\u001b[43mmax_evals\u001b[49m\u001b[43m,\u001b[49m\u001b[43m \u001b[49m\u001b[43mmain_effects\u001b[49m\u001b[38;5;241;43m=\u001b[39;49m\u001b[43mmain_effects\u001b[49m\u001b[43m,\u001b[49m\u001b[43m \u001b[49m\u001b[43merror_bounds\u001b[49m\u001b[38;5;241;43m=\u001b[39;49m\u001b[43merror_bounds\u001b[49m\u001b[43m,\u001b[49m\u001b[43m \u001b[49m\u001b[43mbatch_size\u001b[49m\u001b[38;5;241;43m=\u001b[39;49m\u001b[43mbatch_size\u001b[49m\u001b[43m,\u001b[49m\n\u001b[1;32m     79\u001b[0m \u001b[43m        \u001b[49m\u001b[43moutputs\u001b[49m\u001b[38;5;241;43m=\u001b[39;49m\u001b[43moutputs\u001b[49m\u001b[43m,\u001b[49m\u001b[43m \u001b[49m\u001b[43msilent\u001b[49m\u001b[38;5;241;43m=\u001b[39;49m\u001b[43msilent\u001b[49m\n\u001b[1;32m     80\u001b[0m \u001b[43m    \u001b[49m\u001b[43m)\u001b[49m\n",
      "File \u001b[0;32m/opt/homebrew/lib/python3.10/site-packages/shap/explainers/_explainer.py:266\u001b[0m, in \u001b[0;36mExplainer.__call__\u001b[0;34m(self, max_evals, main_effects, error_bounds, batch_size, outputs, silent, *args, **kwargs)\u001b[0m\n\u001b[1;32m    264\u001b[0m     feature_names \u001b[38;5;241m=\u001b[39m [[] \u001b[38;5;28;01mfor\u001b[39;00m _ \u001b[38;5;129;01min\u001b[39;00m \u001b[38;5;28mrange\u001b[39m(\u001b[38;5;28mlen\u001b[39m(args))]\n\u001b[1;32m    265\u001b[0m \u001b[38;5;28;01mfor\u001b[39;00m row_args \u001b[38;5;129;01min\u001b[39;00m show_progress(\u001b[38;5;28mzip\u001b[39m(\u001b[38;5;241m*\u001b[39margs), num_rows, \u001b[38;5;28mself\u001b[39m\u001b[38;5;241m.\u001b[39m\u001b[38;5;18m__class__\u001b[39m\u001b[38;5;241m.\u001b[39m\u001b[38;5;18m__name__\u001b[39m\u001b[38;5;241m+\u001b[39m\u001b[38;5;124m\"\u001b[39m\u001b[38;5;124m explainer\u001b[39m\u001b[38;5;124m\"\u001b[39m, silent):\n\u001b[0;32m--> 266\u001b[0m     row_result \u001b[38;5;241m=\u001b[39m \u001b[38;5;28;43mself\u001b[39;49m\u001b[38;5;241;43m.\u001b[39;49m\u001b[43mexplain_row\u001b[49m\u001b[43m(\u001b[49m\n\u001b[1;32m    267\u001b[0m \u001b[43m        \u001b[49m\u001b[38;5;241;43m*\u001b[39;49m\u001b[43mrow_args\u001b[49m\u001b[43m,\u001b[49m\u001b[43m \u001b[49m\u001b[43mmax_evals\u001b[49m\u001b[38;5;241;43m=\u001b[39;49m\u001b[43mmax_evals\u001b[49m\u001b[43m,\u001b[49m\u001b[43m \u001b[49m\u001b[43mmain_effects\u001b[49m\u001b[38;5;241;43m=\u001b[39;49m\u001b[43mmain_effects\u001b[49m\u001b[43m,\u001b[49m\u001b[43m \u001b[49m\u001b[43merror_bounds\u001b[49m\u001b[38;5;241;43m=\u001b[39;49m\u001b[43merror_bounds\u001b[49m\u001b[43m,\u001b[49m\n\u001b[1;32m    268\u001b[0m \u001b[43m        \u001b[49m\u001b[43mbatch_size\u001b[49m\u001b[38;5;241;43m=\u001b[39;49m\u001b[43mbatch_size\u001b[49m\u001b[43m,\u001b[49m\u001b[43m \u001b[49m\u001b[43moutputs\u001b[49m\u001b[38;5;241;43m=\u001b[39;49m\u001b[43moutputs\u001b[49m\u001b[43m,\u001b[49m\u001b[43m \u001b[49m\u001b[43msilent\u001b[49m\u001b[38;5;241;43m=\u001b[39;49m\u001b[43msilent\u001b[49m\u001b[43m,\u001b[49m\u001b[43m \u001b[49m\u001b[38;5;241;43m*\u001b[39;49m\u001b[38;5;241;43m*\u001b[39;49m\u001b[43mkwargs\u001b[49m\n\u001b[1;32m    269\u001b[0m \u001b[43m    \u001b[49m\u001b[43m)\u001b[49m\n\u001b[1;32m    270\u001b[0m     values\u001b[38;5;241m.\u001b[39mappend(row_result\u001b[38;5;241m.\u001b[39mget(\u001b[38;5;124m\"\u001b[39m\u001b[38;5;124mvalues\u001b[39m\u001b[38;5;124m\"\u001b[39m, \u001b[38;5;28;01mNone\u001b[39;00m))\n\u001b[1;32m    271\u001b[0m     output_indices\u001b[38;5;241m.\u001b[39mappend(row_result\u001b[38;5;241m.\u001b[39mget(\u001b[38;5;124m\"\u001b[39m\u001b[38;5;124moutput_indices\u001b[39m\u001b[38;5;124m\"\u001b[39m, \u001b[38;5;28;01mNone\u001b[39;00m))\n",
      "File \u001b[0;32m/opt/homebrew/lib/python3.10/site-packages/shap/explainers/_permutation.py:133\u001b[0m, in \u001b[0;36mPermutationExplainer.explain_row\u001b[0;34m(self, max_evals, main_effects, error_bounds, batch_size, outputs, silent, *row_args)\u001b[0m\n\u001b[1;32m    130\u001b[0m     i \u001b[38;5;241m+\u001b[39m\u001b[38;5;241m=\u001b[39m \u001b[38;5;241m1\u001b[39m\n\u001b[1;32m    132\u001b[0m \u001b[38;5;66;03m# evaluate the masked model\u001b[39;00m\n\u001b[0;32m--> 133\u001b[0m outputs \u001b[38;5;241m=\u001b[39m \u001b[43mfm\u001b[49m\u001b[43m(\u001b[49m\u001b[43mmasks\u001b[49m\u001b[43m,\u001b[49m\u001b[43m \u001b[49m\u001b[43mzero_index\u001b[49m\u001b[38;5;241;43m=\u001b[39;49m\u001b[38;5;241;43m0\u001b[39;49m\u001b[43m,\u001b[49m\u001b[43m \u001b[49m\u001b[43mbatch_size\u001b[49m\u001b[38;5;241;43m=\u001b[39;49m\u001b[43mbatch_size\u001b[49m\u001b[43m)\u001b[49m\n\u001b[1;32m    135\u001b[0m \u001b[38;5;28;01mif\u001b[39;00m row_values \u001b[38;5;129;01mis\u001b[39;00m \u001b[38;5;28;01mNone\u001b[39;00m:\n\u001b[1;32m    136\u001b[0m     row_values \u001b[38;5;241m=\u001b[39m np\u001b[38;5;241m.\u001b[39mzeros((\u001b[38;5;28mlen\u001b[39m(fm),) \u001b[38;5;241m+\u001b[39m outputs\u001b[38;5;241m.\u001b[39mshape[\u001b[38;5;241m1\u001b[39m:])\n",
      "File \u001b[0;32m/opt/homebrew/lib/python3.10/site-packages/shap/utils/_masked_model.py:67\u001b[0m, in \u001b[0;36mMaskedModel.__call__\u001b[0;34m(self, masks, zero_index, batch_size)\u001b[0m\n\u001b[1;32m     65\u001b[0m         full_masks \u001b[38;5;241m=\u001b[39m np\u001b[38;5;241m.\u001b[39mzeros((\u001b[38;5;28mint\u001b[39m(np\u001b[38;5;241m.\u001b[39msum(masks \u001b[38;5;241m>\u001b[39m\u001b[38;5;241m=\u001b[39m \u001b[38;5;241m0\u001b[39m)), \u001b[38;5;28mself\u001b[39m\u001b[38;5;241m.\u001b[39m_masker_cols), dtype\u001b[38;5;241m=\u001b[39m\u001b[38;5;28mbool\u001b[39m)\n\u001b[1;32m     66\u001b[0m         _convert_delta_mask_to_full(masks, full_masks)\n\u001b[0;32m---> 67\u001b[0m         \u001b[38;5;28;01mreturn\u001b[39;00m \u001b[38;5;28;43mself\u001b[39;49m\u001b[38;5;241;43m.\u001b[39;49m\u001b[43m_full_masking_call\u001b[49m\u001b[43m(\u001b[49m\u001b[43mfull_masks\u001b[49m\u001b[43m,\u001b[49m\u001b[43m \u001b[49m\u001b[43mzero_index\u001b[49m\u001b[38;5;241;43m=\u001b[39;49m\u001b[43mzero_index\u001b[49m\u001b[43m,\u001b[49m\u001b[43m \u001b[49m\u001b[43mbatch_size\u001b[49m\u001b[38;5;241;43m=\u001b[39;49m\u001b[43mbatch_size\u001b[49m\u001b[43m)\u001b[49m\n\u001b[1;32m     69\u001b[0m \u001b[38;5;28;01melse\u001b[39;00m:\n\u001b[1;32m     70\u001b[0m     \u001b[38;5;28;01mreturn\u001b[39;00m \u001b[38;5;28mself\u001b[39m\u001b[38;5;241m.\u001b[39m_full_masking_call(masks, batch_size\u001b[38;5;241m=\u001b[39mbatch_size)\n",
      "File \u001b[0;32m/opt/homebrew/lib/python3.10/site-packages/shap/utils/_masked_model.py:96\u001b[0m, in \u001b[0;36mMaskedModel._full_masking_call\u001b[0;34m(self, masks, zero_index, batch_size)\u001b[0m\n\u001b[1;32m     94\u001b[0m     masked_inputs \u001b[38;5;241m=\u001b[39m \u001b[38;5;28mself\u001b[39m\u001b[38;5;241m.\u001b[39mmasker(delta_ind, \u001b[38;5;241m*\u001b[39m\u001b[38;5;28mself\u001b[39m\u001b[38;5;241m.\u001b[39margs)\u001b[38;5;241m.\u001b[39mcopy()\n\u001b[1;32m     95\u001b[0m \u001b[38;5;28;01melse\u001b[39;00m:\n\u001b[0;32m---> 96\u001b[0m     masked_inputs \u001b[38;5;241m=\u001b[39m \u001b[38;5;28;43mself\u001b[39;49m\u001b[38;5;241;43m.\u001b[39;49m\u001b[43mmasker\u001b[49m\u001b[43m(\u001b[49m\u001b[43mmask\u001b[49m\u001b[43m,\u001b[49m\u001b[43m \u001b[49m\u001b[38;5;241;43m*\u001b[39;49m\u001b[38;5;28;43mself\u001b[39;49m\u001b[38;5;241;43m.\u001b[39;49m\u001b[43margs\u001b[49m\u001b[43m)\u001b[49m\n\u001b[1;32m     98\u001b[0m \u001b[38;5;66;03m# get a copy that won't get overwritten by the next iteration\u001b[39;00m\n\u001b[1;32m     99\u001b[0m \u001b[38;5;28;01mif\u001b[39;00m \u001b[38;5;129;01mnot\u001b[39;00m \u001b[38;5;28mgetattr\u001b[39m(\u001b[38;5;28mself\u001b[39m\u001b[38;5;241m.\u001b[39mmasker, \u001b[38;5;124m\"\u001b[39m\u001b[38;5;124mimmutable_outputs\u001b[39m\u001b[38;5;124m\"\u001b[39m, \u001b[38;5;28;01mFalse\u001b[39;00m):\n",
      "\u001b[0;31mTypeError\u001b[0m: 'Tensor' object is not callable"
     ]
    }
   ],
   "source": [
    "print(\"Process Starting\")\n",
    "print(\"Parsing Data: Working..\")\n",
    "weather_data = json_to_dataframe()\n",
    "print(\"Parsing Data: Success\")\n",
    "print(\"Cleaning Data: Working..\")\n",
    "weather_data = clean_dataframe(weather_data)\n",
    "print(\"Cleaning Data: Success\")\n",
    "print(\"Validating Data: Working..\")\n",
    "validation_status = validate_data_columns(weather_data)\n",
    "\n",
    "if validation_status:\n",
    "    print(\"Validating Data: Success\")\n",
    "    print(\"Transforming Data: Working..\")\n",
    "    weather_data = transform_date_feature(weather_data)\n",
    "    print(\"Transforming Data: Success\")\n",
    "    print(\"Target Variable Prep: Working..\")\n",
    "    weather_data = make_target_features(weather_data)\n",
    "    print(\"Target Variable Prep: Success\")\n",
    "    print(\"Preparing for Model Training: Working..\")\n",
    "    train(weather_data)\n",
    "    print(\"Model Training: Success\")\n",
    "\n",
    "else:\n",
    "    print(\"Validating Data: Failed\")\n",
    "\n",
    "\n"
   ]
  },
  {
   "cell_type": "code",
   "execution_count": null,
   "metadata": {},
   "outputs": [],
   "source": [
    "# NOT READY\n",
    "def eval():\n",
    "        test_data = pd.read_csv(self.config.test_data_path)\n",
    "        X, y = self.prepare_test_data(test_data, self.config.feature_columns_names, self.config.target_column_names)\n",
    "\n",
    "        mlflow.set_registry_uri(self.config.mlflow_uri)\n",
    "        #tracking_url_type_store = urlparse(mlflow.get_tracking_uri()).scheme\n",
    "\n",
    "        with mlflow.start_run():\n",
    "\n",
    "            model.eval()\n",
    "            with torch.inference_mode():\n",
    "                predictions = model(X)\n",
    "\n",
    "            pred_wind_direction, pred_pressure, pred_wind_speed, pred_temperature, pred_visibility, pred_weather_type = predictions\n",
    "            stacked_pred = torch.cat([pred_wind_direction, pred_pressure, pred_wind_speed, pred_temperature, pred_visibility, pred_weather_type], dim=1)\n",
    "\n",
    "            mse = F.mse_loss(stacked_pred, y)\n",
    "            rmse = torch.sqrt(mse)\n",
    "            mae = F.l1_loss(stacked_pred, y)\n",
    "            r2 = 1 - (mse / torch.var(y))\n",
    "\n",
    "            mlflow.log_params(self.config.parameters)\n",
    "\n",
    "            mlflow.log_metric(\"MSE\", mse)\n",
    "            mlflow.log_metric(\"RMSE\", rmse)\n",
    "            mlflow.log_metric(\"MAE\", mae)\n",
    "            mlflow.log_metric(\"R2\", r2)\n",
    "\n",
    "            mlflow.pytorch.log_model(pytorch_model=model, artifact_path=\"model\", registered_model_name=\"PyTorch Model\")\n",
    "\n",
    "            logger.info(f\"Evaluation Metrics:\\n\"\n",
    "                        f\"MSE: {mse:.4f} |\"\\\n",
    "                        f\" RMSE: {rmse:.4f} |\"\\\n",
    "                        f\" MAE: {mae:.4f} |\"\\\n",
    "                        f\" R2: {r2:.4f}\")\n"
   ]
  },
  {
   "cell_type": "code",
   "execution_count": null,
   "metadata": {},
   "outputs": [],
   "source": []
  }
 ],
 "metadata": {
  "kernelspec": {
   "display_name": "Python 3",
   "language": "python",
   "name": "python3"
  },
  "language_info": {
   "codemirror_mode": {
    "name": "ipython",
    "version": 3
   },
   "file_extension": ".py",
   "mimetype": "text/x-python",
   "name": "python",
   "nbconvert_exporter": "python",
   "pygments_lexer": "ipython3",
   "version": "3.10.13"
  }
 },
 "nbformat": 4,
 "nbformat_minor": 2
}
